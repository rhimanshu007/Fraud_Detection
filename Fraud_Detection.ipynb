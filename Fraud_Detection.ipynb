{
 "cells": [
  {
   "cell_type": "markdown",
   "metadata": {},
   "source": [
    "# TABLE OF CONTENTS\n",
    "\n",
    "__1. Problem Description__\n",
    "   \n",
    "__2. Importing required libraries__\n",
    "\n",
    "__3. Loading dataset__\n",
    "\n",
    "__4. Exploratory Data Analysis (EDA)__\n",
    "   - Checking shape,unique values,statistics and datatypes of data\n",
    "   \n",
    "__5. Preprocessing__\n",
    "   - Dropping unnecessary variables\n",
    "   - Typecasting obvious datatypes\n",
    "   \n",
    "__6. Chi-Square Dependency Test__\n",
    "\n",
    "__7. Visualization__\n",
    "   - Distribution (Histogram) of numerical columns\n",
    "   - Univariate Analysis on categorical columns\n",
    "   - Probabilistic Analysis of categorical variables wrt Target\n",
    "        \n",
    "__8. Feature Engineering__\n",
    "\n",
    "__9. Analysing target variable__\n",
    "\n",
    "__10. Splitting data into train and validation__\n",
    "\n",
    "__11. Preperation for Model Building__\n",
    "   - Checking and Imputing Missing values\n",
    "   - Target Encoding\n",
    "   - Initiating Pipeline with StandardScaler and Onehotencoding\n",
    "    \n",
    "__12. Building Models__"
   ]
  },
  {
   "cell_type": "markdown",
   "metadata": {},
   "source": [
    "# Problem Description"
   ]
  },
  {
   "cell_type": "markdown",
   "metadata": {},
   "source": [
    "### Detecting fraud for transactions in a payment gateway\n",
    "\n",
    "A new disruptive payment gateway start-up, ‘IndAvenue’, has started gaining traction due to its extremely low processing fees for handling online vendors’ digital payments. This strategy has led to very low costs of acquiring new vendors.\n",
    "Unfortunately, due to the cheap processing fees, the company was not able to able to build and deploy a robust and fast fraud detection system. \n",
    "Consequently, a lot of the vendors have accumulated significant economic burden due to handling fraudulent transactions on their platforms. This has resulted in a significant number of current clients leaving IndAvenue’s payment gateway platform for more expensive yet reliable payment gateway companies.\n",
    "The company’s data engineers curated a dataset that they believe follows the real world distribution of transactions on their payment gateway. The company hired Insofe and provided it with the dataset, to create a fast and robust AI based model that can detect and prevent fraudulent transactions on its payment gateway.\n",
    "They have provided you with the dataset that has the `is_fraud` column, which encodes the information whether a transaction was fraudulent or not.\n",
    "In this hackathon, you will now have to use this curated data to create a machine learning model that will be able to predict the `is_fraud` column."
   ]
  },
  {
   "cell_type": "markdown",
   "metadata": {},
   "source": [
    "### Objective :\n",
    "\n",
    "Target attribute: __\"is_fraud\"__ (discrete variable: 2 classes)\n",
    " - 1 : If transaction is fraud\n",
    " - 0 : If transaction is not fraud\n",
    " \n",
    "### Dataset Description:\n",
    "\n",
    "__train_data.csv:__ Every transaction in the database has a unique ‘transaction_number’ and an associated ‘is_fraud’ target label along with several features associated with the transaction.\n",
    "\n",
    "*Note: Negative values in the money_transacted column relate to amount credited, while positive values signify amount debited*\n",
    "          "
   ]
  },
  {
   "cell_type": "markdown",
   "metadata": {},
   "source": [
    "### Error Metric for checking Model Performance : F1 Score\n",
    "\n"
   ]
  },
  {
   "cell_type": "markdown",
   "metadata": {},
   "source": [
    "## Importing the required libraries and packages"
   ]
  },
  {
   "cell_type": "code",
   "execution_count": 1,
   "metadata": {},
   "outputs": [],
   "source": [
    "import numpy as np\n",
    "import pandas as pd\n",
    "\n",
    "import datetime\n",
    "\n",
    "from sklearn.model_selection import train_test_split\n",
    "from sklearn.impute import SimpleImputer\n",
    "from sklearn.preprocessing import StandardScaler, OneHotEncoder, LabelEncoder\n",
    "from sklearn.linear_model import LogisticRegression\n",
    "\n",
    "from sklearn.metrics import accuracy_score,recall_score,precision_score,f1_score \n",
    "from sklearn.metrics import classification_report, confusion_matrix\n",
    "from sklearn.ensemble import RandomForestClassifier,GradientBoostingClassifier\n",
    "from sklearn.feature_selection import SelectFromModel\n",
    "from sklearn.svm import SVC\n",
    "from sklearn import svm\n",
    "from sklearn.model_selection import GridSearchCV\n",
    "from sklearn.tree import DecisionTreeClassifier\n",
    "from sklearn import tree\n",
    "from sklearn.ensemble import AdaBoostClassifier\n",
    "from sklearn_pandas import DataFrameMapper\n",
    "from sklearn.model_selection import StratifiedShuffleSplit\n",
    "from sklearn.pipeline import Pipeline\n",
    "from xgboost import XGBClassifier\n",
    "\n",
    "# !pip install imblearn\n",
    "from imblearn.over_sampling import SMOTE\n",
    "\n",
    "#from IPython.display import Image\n",
    "\n",
    "import matplotlib.pyplot as plt\n",
    "import seaborn as sns\n",
    "%matplotlib inline\n",
    "\n",
    "import warnings\n",
    "warnings.filterwarnings(\"ignore\")"
   ]
  },
  {
   "cell_type": "markdown",
   "metadata": {},
   "source": [
    "## Reading the data"
   ]
  },
  {
   "cell_type": "code",
   "execution_count": 2,
   "metadata": {},
   "outputs": [],
   "source": [
    "train_data=pd.read_csv('train_data.csv',header=0)"
   ]
  },
  {
   "cell_type": "code",
   "execution_count": 3,
   "metadata": {},
   "outputs": [],
   "source": [
    "test_data = pd.read_csv(\"test_data.csv\",header=0)"
   ]
  },
  {
   "cell_type": "code",
   "execution_count": 4,
   "metadata": {},
   "outputs": [
    {
     "data": {
      "text/html": [
       "<div>\n",
       "<style scoped>\n",
       "    .dataframe tbody tr th:only-of-type {\n",
       "        vertical-align: middle;\n",
       "    }\n",
       "\n",
       "    .dataframe tbody tr th {\n",
       "        vertical-align: top;\n",
       "    }\n",
       "\n",
       "    .dataframe thead th {\n",
       "        text-align: right;\n",
       "    }\n",
       "</style>\n",
       "<table border=\"1\" class=\"dataframe\">\n",
       "  <thead>\n",
       "    <tr style=\"text-align: right;\">\n",
       "      <th></th>\n",
       "      <th>transaction_number</th>\n",
       "      <th>user_id</th>\n",
       "      <th>payment_method</th>\n",
       "      <th>partner_id</th>\n",
       "      <th>partner_category</th>\n",
       "      <th>country</th>\n",
       "      <th>device_type</th>\n",
       "      <th>money_transacted</th>\n",
       "      <th>transaction_initiation</th>\n",
       "      <th>partner_pricing_category</th>\n",
       "      <th>is_fraud</th>\n",
       "    </tr>\n",
       "  </thead>\n",
       "  <tbody>\n",
       "    <tr>\n",
       "      <th>0</th>\n",
       "      <td>144703125000</td>\n",
       "      <td>17539344</td>\n",
       "      <td>sbi_atm_cum_debit_card</td>\n",
       "      <td>47334</td>\n",
       "      <td>cat_1</td>\n",
       "      <td>IND_INR</td>\n",
       "      <td>android_devices</td>\n",
       "      <td>-5.0</td>\n",
       "      <td>2016-11-15 19:16:12+00:00</td>\n",
       "      <td>2</td>\n",
       "      <td>0</td>\n",
       "    </tr>\n",
       "    <tr>\n",
       "      <th>1</th>\n",
       "      <td>77406814453032</td>\n",
       "      <td>24710841</td>\n",
       "      <td>e_wallet_payments</td>\n",
       "      <td>78890</td>\n",
       "      <td>cat_2</td>\n",
       "      <td>IND_INR</td>\n",
       "      <td>other_pcs</td>\n",
       "      <td>100.0</td>\n",
       "      <td>2017-01-11 09:25:33+00:00</td>\n",
       "      <td>2</td>\n",
       "      <td>0</td>\n",
       "    </tr>\n",
       "    <tr>\n",
       "      <th>2</th>\n",
       "      <td>308929485482801</td>\n",
       "      <td>24265476</td>\n",
       "      <td>e_wallet_payments</td>\n",
       "      <td>78890</td>\n",
       "      <td>cat_2</td>\n",
       "      <td>IND_INR</td>\n",
       "      <td>other_pcs</td>\n",
       "      <td>50.0</td>\n",
       "      <td>2016-12-07 07:58:09+00:00</td>\n",
       "      <td>2</td>\n",
       "      <td>0</td>\n",
       "    </tr>\n",
       "    <tr>\n",
       "      <th>3</th>\n",
       "      <td>665270027747073</td>\n",
       "      <td>10240000</td>\n",
       "      <td>other_debit_cards</td>\n",
       "      <td>102557</td>\n",
       "      <td>cat_3</td>\n",
       "      <td>IND_INR</td>\n",
       "      <td>other_pcs</td>\n",
       "      <td>1000.0</td>\n",
       "      <td>2017-01-11 16:15:44+00:00</td>\n",
       "      <td>2</td>\n",
       "      <td>0</td>\n",
       "    </tr>\n",
       "    <tr>\n",
       "      <th>4</th>\n",
       "      <td>38276160171101</td>\n",
       "      <td>5880625</td>\n",
       "      <td>other_debit_cards</td>\n",
       "      <td>118335</td>\n",
       "      <td>cat_1</td>\n",
       "      <td>IND_INR</td>\n",
       "      <td>other_pcs</td>\n",
       "      <td>200.0</td>\n",
       "      <td>2016-11-16 17:04:42+00:00</td>\n",
       "      <td>2</td>\n",
       "      <td>0</td>\n",
       "    </tr>\n",
       "  </tbody>\n",
       "</table>\n",
       "</div>"
      ],
      "text/plain": [
       "   transaction_number   user_id          payment_method  partner_id  \\\n",
       "0        144703125000  17539344  sbi_atm_cum_debit_card       47334   \n",
       "1      77406814453032  24710841       e_wallet_payments       78890   \n",
       "2     308929485482801  24265476       e_wallet_payments       78890   \n",
       "3     665270027747073  10240000       other_debit_cards      102557   \n",
       "4      38276160171101   5880625       other_debit_cards      118335   \n",
       "\n",
       "  partner_category  country      device_type  money_transacted  \\\n",
       "0            cat_1  IND_INR  android_devices              -5.0   \n",
       "1            cat_2  IND_INR        other_pcs             100.0   \n",
       "2            cat_2  IND_INR        other_pcs              50.0   \n",
       "3            cat_3  IND_INR        other_pcs            1000.0   \n",
       "4            cat_1  IND_INR        other_pcs             200.0   \n",
       "\n",
       "      transaction_initiation  partner_pricing_category  is_fraud  \n",
       "0  2016-11-15 19:16:12+00:00                         2         0  \n",
       "1  2017-01-11 09:25:33+00:00                         2         0  \n",
       "2  2016-12-07 07:58:09+00:00                         2         0  \n",
       "3  2017-01-11 16:15:44+00:00                         2         0  \n",
       "4  2016-11-16 17:04:42+00:00                         2         0  "
      ]
     },
     "execution_count": 4,
     "metadata": {},
     "output_type": "execute_result"
    }
   ],
   "source": [
    "train_data.head()"
   ]
  },
  {
   "cell_type": "code",
   "execution_count": 5,
   "metadata": {},
   "outputs": [
    {
     "data": {
      "text/html": [
       "<div>\n",
       "<style scoped>\n",
       "    .dataframe tbody tr th:only-of-type {\n",
       "        vertical-align: middle;\n",
       "    }\n",
       "\n",
       "    .dataframe tbody tr th {\n",
       "        vertical-align: top;\n",
       "    }\n",
       "\n",
       "    .dataframe thead th {\n",
       "        text-align: right;\n",
       "    }\n",
       "</style>\n",
       "<table border=\"1\" class=\"dataframe\">\n",
       "  <thead>\n",
       "    <tr style=\"text-align: right;\">\n",
       "      <th></th>\n",
       "      <th>transaction_number</th>\n",
       "      <th>user_id</th>\n",
       "      <th>payment_method</th>\n",
       "      <th>partner_id</th>\n",
       "      <th>partner_category</th>\n",
       "      <th>country</th>\n",
       "      <th>device_type</th>\n",
       "      <th>money_transacted</th>\n",
       "      <th>transaction_initiation</th>\n",
       "      <th>partner_pricing_category</th>\n",
       "    </tr>\n",
       "  </thead>\n",
       "  <tbody>\n",
       "    <tr>\n",
       "      <th>0</th>\n",
       "      <td>857050141038272</td>\n",
       "      <td>3802500</td>\n",
       "      <td>visa_master_debit_cards</td>\n",
       "      <td>118335</td>\n",
       "      <td>cat_1</td>\n",
       "      <td>IND_INR</td>\n",
       "      <td>other_pcs</td>\n",
       "      <td>200.0</td>\n",
       "      <td>2016-12-28 14:44:37+00:00</td>\n",
       "      <td>2</td>\n",
       "    </tr>\n",
       "    <tr>\n",
       "      <th>1</th>\n",
       "      <td>4400462872603</td>\n",
       "      <td>200704</td>\n",
       "      <td>e_wallet_payments</td>\n",
       "      <td>23667</td>\n",
       "      <td>cat_2</td>\n",
       "      <td>IND_INR</td>\n",
       "      <td>other_pcs</td>\n",
       "      <td>20.0</td>\n",
       "      <td>2016-12-14 17:49:48+00:00</td>\n",
       "      <td>2</td>\n",
       "    </tr>\n",
       "    <tr>\n",
       "      <th>2</th>\n",
       "      <td>1207915598569499</td>\n",
       "      <td>25150225</td>\n",
       "      <td>sbi_atm_cum_debit_card</td>\n",
       "      <td>47334</td>\n",
       "      <td>cat_1</td>\n",
       "      <td>IND_INR</td>\n",
       "      <td>android_devices</td>\n",
       "      <td>-100.0</td>\n",
       "      <td>2017-01-21 10:18:11+00:00</td>\n",
       "      <td>2</td>\n",
       "    </tr>\n",
       "    <tr>\n",
       "      <th>3</th>\n",
       "      <td>2009725616777536</td>\n",
       "      <td>21827584</td>\n",
       "      <td>visa_master_credit_cards</td>\n",
       "      <td>78890</td>\n",
       "      <td>cat_2</td>\n",
       "      <td>IND_INR</td>\n",
       "      <td>other_pcs</td>\n",
       "      <td>200.0</td>\n",
       "      <td>2017-01-16 13:25:10+00:00</td>\n",
       "      <td>1</td>\n",
       "    </tr>\n",
       "    <tr>\n",
       "      <th>4</th>\n",
       "      <td>2319205210274863</td>\n",
       "      <td>576081</td>\n",
       "      <td>e_wallet_payments</td>\n",
       "      <td>23667</td>\n",
       "      <td>cat_2</td>\n",
       "      <td>IND_INR</td>\n",
       "      <td>other_pcs</td>\n",
       "      <td>100.0</td>\n",
       "      <td>2017-02-09 12:47:28+00:00</td>\n",
       "      <td>2</td>\n",
       "    </tr>\n",
       "  </tbody>\n",
       "</table>\n",
       "</div>"
      ],
      "text/plain": [
       "   transaction_number   user_id            payment_method  partner_id  \\\n",
       "0     857050141038272   3802500   visa_master_debit_cards      118335   \n",
       "1       4400462872603    200704         e_wallet_payments       23667   \n",
       "2    1207915598569499  25150225    sbi_atm_cum_debit_card       47334   \n",
       "3    2009725616777536  21827584  visa_master_credit_cards       78890   \n",
       "4    2319205210274863    576081         e_wallet_payments       23667   \n",
       "\n",
       "  partner_category  country      device_type  money_transacted  \\\n",
       "0            cat_1  IND_INR        other_pcs             200.0   \n",
       "1            cat_2  IND_INR        other_pcs              20.0   \n",
       "2            cat_1  IND_INR  android_devices            -100.0   \n",
       "3            cat_2  IND_INR        other_pcs             200.0   \n",
       "4            cat_2  IND_INR        other_pcs             100.0   \n",
       "\n",
       "      transaction_initiation  partner_pricing_category  \n",
       "0  2016-12-28 14:44:37+00:00                         2  \n",
       "1  2016-12-14 17:49:48+00:00                         2  \n",
       "2  2017-01-21 10:18:11+00:00                         2  \n",
       "3  2017-01-16 13:25:10+00:00                         1  \n",
       "4  2017-02-09 12:47:28+00:00                         2  "
      ]
     },
     "execution_count": 5,
     "metadata": {},
     "output_type": "execute_result"
    }
   ],
   "source": [
    "test_data.head()"
   ]
  },
  {
   "cell_type": "markdown",
   "metadata": {},
   "source": [
    "## Exploratory Data Analysis"
   ]
  },
  {
   "cell_type": "code",
   "execution_count": 6,
   "metadata": {},
   "outputs": [
    {
     "data": {
      "text/plain": [
       "(76529, 11)"
      ]
     },
     "execution_count": 6,
     "metadata": {},
     "output_type": "execute_result"
    }
   ],
   "source": [
    "train_data.shape"
   ]
  },
  {
   "cell_type": "code",
   "execution_count": 7,
   "metadata": {},
   "outputs": [
    {
     "data": {
      "text/plain": [
       "(19133, 10)"
      ]
     },
     "execution_count": 7,
     "metadata": {},
     "output_type": "execute_result"
    }
   ],
   "source": [
    "test_data.shape"
   ]
  },
  {
   "cell_type": "code",
   "execution_count": 8,
   "metadata": {},
   "outputs": [
    {
     "name": "stdout",
     "output_type": "stream",
     "text": [
      "<class 'pandas.core.frame.DataFrame'>\n",
      "RangeIndex: 76529 entries, 0 to 76528\n",
      "Data columns (total 11 columns):\n",
      " #   Column                    Non-Null Count  Dtype  \n",
      "---  ------                    --------------  -----  \n",
      " 0   transaction_number        76529 non-null  int64  \n",
      " 1   user_id                   76529 non-null  int64  \n",
      " 2   payment_method            76529 non-null  object \n",
      " 3   partner_id                76529 non-null  int64  \n",
      " 4   partner_category          76529 non-null  object \n",
      " 5   country                   76529 non-null  object \n",
      " 6   device_type               76529 non-null  object \n",
      " 7   money_transacted          76529 non-null  float64\n",
      " 8   transaction_initiation    76529 non-null  object \n",
      " 9   partner_pricing_category  76529 non-null  int64  \n",
      " 10  is_fraud                  76529 non-null  int64  \n",
      "dtypes: float64(1), int64(5), object(5)\n",
      "memory usage: 6.4+ MB\n"
     ]
    }
   ],
   "source": [
    "train_data.info()"
   ]
  },
  {
   "cell_type": "code",
   "execution_count": 9,
   "metadata": {},
   "outputs": [
    {
     "data": {
      "text/plain": [
       "Index(['transaction_number', 'user_id', 'payment_method', 'partner_id',\n",
       "       'partner_category', 'country', 'device_type', 'money_transacted',\n",
       "       'transaction_initiation', 'partner_pricing_category', 'is_fraud'],\n",
       "      dtype='object')"
      ]
     },
     "execution_count": 9,
     "metadata": {},
     "output_type": "execute_result"
    }
   ],
   "source": [
    "train_data.columns"
   ]
  },
  {
   "cell_type": "code",
   "execution_count": 10,
   "metadata": {},
   "outputs": [
    {
     "data": {
      "text/plain": [
       "RangeIndex(start=0, stop=76529, step=1)"
      ]
     },
     "execution_count": 10,
     "metadata": {},
     "output_type": "execute_result"
    }
   ],
   "source": [
    "train_data.index"
   ]
  },
  {
   "cell_type": "markdown",
   "metadata": {},
   "source": [
    "### Summary Stats"
   ]
  },
  {
   "cell_type": "code",
   "execution_count": 11,
   "metadata": {},
   "outputs": [
    {
     "data": {
      "text/html": [
       "<div>\n",
       "<style scoped>\n",
       "    .dataframe tbody tr th:only-of-type {\n",
       "        vertical-align: middle;\n",
       "    }\n",
       "\n",
       "    .dataframe tbody tr th {\n",
       "        vertical-align: top;\n",
       "    }\n",
       "\n",
       "    .dataframe thead th {\n",
       "        text-align: right;\n",
       "    }\n",
       "</style>\n",
       "<table border=\"1\" class=\"dataframe\">\n",
       "  <thead>\n",
       "    <tr style=\"text-align: right;\">\n",
       "      <th></th>\n",
       "      <th>transaction_number</th>\n",
       "      <th>user_id</th>\n",
       "      <th>payment_method</th>\n",
       "      <th>partner_id</th>\n",
       "      <th>partner_category</th>\n",
       "      <th>country</th>\n",
       "      <th>device_type</th>\n",
       "      <th>money_transacted</th>\n",
       "      <th>transaction_initiation</th>\n",
       "      <th>partner_pricing_category</th>\n",
       "      <th>is_fraud</th>\n",
       "    </tr>\n",
       "  </thead>\n",
       "  <tbody>\n",
       "    <tr>\n",
       "      <th>count</th>\n",
       "      <td>7.652900e+04</td>\n",
       "      <td>7.652900e+04</td>\n",
       "      <td>76529</td>\n",
       "      <td>76529.000000</td>\n",
       "      <td>76529</td>\n",
       "      <td>76529</td>\n",
       "      <td>76529</td>\n",
       "      <td>76529.000000</td>\n",
       "      <td>76529</td>\n",
       "      <td>76529.000000</td>\n",
       "      <td>76529.000000</td>\n",
       "    </tr>\n",
       "    <tr>\n",
       "      <th>unique</th>\n",
       "      <td>NaN</td>\n",
       "      <td>NaN</td>\n",
       "      <td>6</td>\n",
       "      <td>NaN</td>\n",
       "      <td>9</td>\n",
       "      <td>1</td>\n",
       "      <td>4</td>\n",
       "      <td>NaN</td>\n",
       "      <td>75811</td>\n",
       "      <td>NaN</td>\n",
       "      <td>NaN</td>\n",
       "    </tr>\n",
       "    <tr>\n",
       "      <th>top</th>\n",
       "      <td>NaN</td>\n",
       "      <td>NaN</td>\n",
       "      <td>sbi_atm_cum_debit_card</td>\n",
       "      <td>NaN</td>\n",
       "      <td>cat_1</td>\n",
       "      <td>IND_INR</td>\n",
       "      <td>other_pcs</td>\n",
       "      <td>NaN</td>\n",
       "      <td>2016-12-24 16:30:13+00:00</td>\n",
       "      <td>NaN</td>\n",
       "      <td>NaN</td>\n",
       "    </tr>\n",
       "    <tr>\n",
       "      <th>freq</th>\n",
       "      <td>NaN</td>\n",
       "      <td>NaN</td>\n",
       "      <td>30538</td>\n",
       "      <td>NaN</td>\n",
       "      <td>36306</td>\n",
       "      <td>76529</td>\n",
       "      <td>45560</td>\n",
       "      <td>NaN</td>\n",
       "      <td>12</td>\n",
       "      <td>NaN</td>\n",
       "      <td>NaN</td>\n",
       "    </tr>\n",
       "    <tr>\n",
       "      <th>mean</th>\n",
       "      <td>6.940200e+14</td>\n",
       "      <td>1.247483e+07</td>\n",
       "      <td>NaN</td>\n",
       "      <td>58497.189105</td>\n",
       "      <td>NaN</td>\n",
       "      <td>NaN</td>\n",
       "      <td>NaN</td>\n",
       "      <td>132.724348</td>\n",
       "      <td>NaN</td>\n",
       "      <td>2.255707</td>\n",
       "      <td>0.002012</td>\n",
       "    </tr>\n",
       "    <tr>\n",
       "      <th>std</th>\n",
       "      <td>7.867885e+14</td>\n",
       "      <td>1.205878e+07</td>\n",
       "      <td>NaN</td>\n",
       "      <td>36740.216787</td>\n",
       "      <td>NaN</td>\n",
       "      <td>NaN</td>\n",
       "      <td>NaN</td>\n",
       "      <td>2350.110900</td>\n",
       "      <td>NaN</td>\n",
       "      <td>0.732174</td>\n",
       "      <td>0.044814</td>\n",
       "    </tr>\n",
       "    <tr>\n",
       "      <th>min</th>\n",
       "      <td>8.000000e+00</td>\n",
       "      <td>1.000000e+00</td>\n",
       "      <td>NaN</td>\n",
       "      <td>7889.000000</td>\n",
       "      <td>NaN</td>\n",
       "      <td>NaN</td>\n",
       "      <td>NaN</td>\n",
       "      <td>-20000.000000</td>\n",
       "      <td>NaN</td>\n",
       "      <td>0.000000</td>\n",
       "      <td>0.000000</td>\n",
       "    </tr>\n",
       "    <tr>\n",
       "      <th>25%</th>\n",
       "      <td>4.387866e+13</td>\n",
       "      <td>3.515625e+06</td>\n",
       "      <td>NaN</td>\n",
       "      <td>23667.000000</td>\n",
       "      <td>NaN</td>\n",
       "      <td>NaN</td>\n",
       "      <td>NaN</td>\n",
       "      <td>-1.000000</td>\n",
       "      <td>NaN</td>\n",
       "      <td>2.000000</td>\n",
       "      <td>0.000000</td>\n",
       "    </tr>\n",
       "    <tr>\n",
       "      <th>50%</th>\n",
       "      <td>3.452540e+14</td>\n",
       "      <td>9.753129e+06</td>\n",
       "      <td>NaN</td>\n",
       "      <td>47334.000000</td>\n",
       "      <td>NaN</td>\n",
       "      <td>NaN</td>\n",
       "      <td>NaN</td>\n",
       "      <td>20.000000</td>\n",
       "      <td>NaN</td>\n",
       "      <td>2.000000</td>\n",
       "      <td>0.000000</td>\n",
       "    </tr>\n",
       "    <tr>\n",
       "      <th>75%</th>\n",
       "      <td>1.173440e+15</td>\n",
       "      <td>1.788444e+07</td>\n",
       "      <td>NaN</td>\n",
       "      <td>78890.000000</td>\n",
       "      <td>NaN</td>\n",
       "      <td>NaN</td>\n",
       "      <td>NaN</td>\n",
       "      <td>52.000000</td>\n",
       "      <td>NaN</td>\n",
       "      <td>2.000000</td>\n",
       "      <td>0.000000</td>\n",
       "    </tr>\n",
       "    <tr>\n",
       "      <th>max</th>\n",
       "      <td>2.784238e+15</td>\n",
       "      <td>5.592048e+07</td>\n",
       "      <td>NaN</td>\n",
       "      <td>213003.000000</td>\n",
       "      <td>NaN</td>\n",
       "      <td>NaN</td>\n",
       "      <td>NaN</td>\n",
       "      <td>197217.760000</td>\n",
       "      <td>NaN</td>\n",
       "      <td>4.000000</td>\n",
       "      <td>1.000000</td>\n",
       "    </tr>\n",
       "  </tbody>\n",
       "</table>\n",
       "</div>"
      ],
      "text/plain": [
       "        transaction_number       user_id          payment_method  \\\n",
       "count         7.652900e+04  7.652900e+04                   76529   \n",
       "unique                 NaN           NaN                       6   \n",
       "top                    NaN           NaN  sbi_atm_cum_debit_card   \n",
       "freq                   NaN           NaN                   30538   \n",
       "mean          6.940200e+14  1.247483e+07                     NaN   \n",
       "std           7.867885e+14  1.205878e+07                     NaN   \n",
       "min           8.000000e+00  1.000000e+00                     NaN   \n",
       "25%           4.387866e+13  3.515625e+06                     NaN   \n",
       "50%           3.452540e+14  9.753129e+06                     NaN   \n",
       "75%           1.173440e+15  1.788444e+07                     NaN   \n",
       "max           2.784238e+15  5.592048e+07                     NaN   \n",
       "\n",
       "           partner_id partner_category  country device_type  money_transacted  \\\n",
       "count    76529.000000            76529    76529       76529      76529.000000   \n",
       "unique            NaN                9        1           4               NaN   \n",
       "top               NaN            cat_1  IND_INR   other_pcs               NaN   \n",
       "freq              NaN            36306    76529       45560               NaN   \n",
       "mean     58497.189105              NaN      NaN         NaN        132.724348   \n",
       "std      36740.216787              NaN      NaN         NaN       2350.110900   \n",
       "min       7889.000000              NaN      NaN         NaN     -20000.000000   \n",
       "25%      23667.000000              NaN      NaN         NaN         -1.000000   \n",
       "50%      47334.000000              NaN      NaN         NaN         20.000000   \n",
       "75%      78890.000000              NaN      NaN         NaN         52.000000   \n",
       "max     213003.000000              NaN      NaN         NaN     197217.760000   \n",
       "\n",
       "           transaction_initiation  partner_pricing_category      is_fraud  \n",
       "count                       76529              76529.000000  76529.000000  \n",
       "unique                      75811                       NaN           NaN  \n",
       "top     2016-12-24 16:30:13+00:00                       NaN           NaN  \n",
       "freq                           12                       NaN           NaN  \n",
       "mean                          NaN                  2.255707      0.002012  \n",
       "std                           NaN                  0.732174      0.044814  \n",
       "min                           NaN                  0.000000      0.000000  \n",
       "25%                           NaN                  2.000000      0.000000  \n",
       "50%                           NaN                  2.000000      0.000000  \n",
       "75%                           NaN                  2.000000      0.000000  \n",
       "max                           NaN                  4.000000      1.000000  "
      ]
     },
     "execution_count": 11,
     "metadata": {},
     "output_type": "execute_result"
    }
   ],
   "source": [
    "train_data.describe(include='all')"
   ]
  },
  {
   "cell_type": "markdown",
   "metadata": {},
   "source": [
    "### Checking Datatypes & Typecasting obvious ones"
   ]
  },
  {
   "cell_type": "code",
   "execution_count": 12,
   "metadata": {},
   "outputs": [
    {
     "data": {
      "text/plain": [
       "transaction_number            int64\n",
       "user_id                       int64\n",
       "payment_method               object\n",
       "partner_id                    int64\n",
       "partner_category             object\n",
       "country                      object\n",
       "device_type                  object\n",
       "money_transacted            float64\n",
       "transaction_initiation       object\n",
       "partner_pricing_category      int64\n",
       "is_fraud                      int64\n",
       "dtype: object"
      ]
     },
     "execution_count": 12,
     "metadata": {},
     "output_type": "execute_result"
    }
   ],
   "source": [
    "train_data.dtypes"
   ]
  },
  {
   "cell_type": "code",
   "execution_count": 13,
   "metadata": {},
   "outputs": [
    {
     "data": {
      "text/plain": [
       "transaction_number          76529\n",
       "user_id                      3594\n",
       "payment_method                  6\n",
       "partner_id                     23\n",
       "partner_category                9\n",
       "country                         1\n",
       "device_type                     4\n",
       "money_transacted             1454\n",
       "transaction_initiation      75811\n",
       "partner_pricing_category        4\n",
       "is_fraud                        2\n",
       "dtype: int64"
      ]
     },
     "execution_count": 13,
     "metadata": {},
     "output_type": "execute_result"
    }
   ],
   "source": [
    "train_data.nunique(axis=0) #no. of unique values in each attribute"
   ]
  },
  {
   "cell_type": "markdown",
   "metadata": {},
   "source": [
    "##### Extract categorical columns"
   ]
  },
  {
   "cell_type": "markdown",
   "metadata": {},
   "source": [
    "Columns with 25 or less levels are considered as categorical columns for the purpose of this analysis"
   ]
  },
  {
   "cell_type": "code",
   "execution_count": 14,
   "metadata": {},
   "outputs": [],
   "source": [
    "# Typecasting datatype to category based on number of unique values and domain knowledge\n",
    "\n",
    "for col in ['user_id','payment_method','partner_id','partner_category','country',\"device_type\",\"transaction_initiation\",\"partner_pricing_category\",\"is_fraud\"]:\n",
    "    train_data[col] = train_data[col].astype('category')\n",
    "\n",
    "cat_cols = train_data.select_dtypes('category').columns\n",
    "\n",
    "#cat_cols = []\n",
    "#for i in train_data.columns:\n",
    "#    if train_data[i].dtype =='object' or len(np.unique(train_data[i]))<=25 : # if the number of levels is less that 25 considering the column as categorial\n",
    "#        cat_cols.append(i)\n",
    "#        print(\"{} : {} : {} \".format(i,len(train_data[i].unique()),train_data[i].unique()))"
   ]
  },
  {
   "cell_type": "markdown",
   "metadata": {},
   "source": [
    "##### Print the categorical column names "
   ]
  },
  {
   "cell_type": "code",
   "execution_count": 15,
   "metadata": {},
   "outputs": [
    {
     "data": {
      "text/plain": [
       "Index(['user_id', 'payment_method', 'partner_id', 'partner_category',\n",
       "       'country', 'device_type', 'transaction_initiation',\n",
       "       'partner_pricing_category', 'is_fraud'],\n",
       "      dtype='object')"
      ]
     },
     "execution_count": 15,
     "metadata": {},
     "output_type": "execute_result"
    }
   ],
   "source": [
    "cat_cols"
   ]
  },
  {
   "cell_type": "markdown",
   "metadata": {},
   "source": [
    "##### Check if the above columns are categorical in the dataset"
   ]
  },
  {
   "cell_type": "code",
   "execution_count": 16,
   "metadata": {},
   "outputs": [
    {
     "data": {
      "text/plain": [
       "user_id                     category\n",
       "payment_method              category\n",
       "partner_id                  category\n",
       "partner_category            category\n",
       "country                     category\n",
       "device_type                 category\n",
       "transaction_initiation      category\n",
       "partner_pricing_category    category\n",
       "is_fraud                    category\n",
       "dtype: object"
      ]
     },
     "execution_count": 16,
     "metadata": {},
     "output_type": "execute_result"
    }
   ],
   "source": [
    "train_data[cat_cols].dtypes"
   ]
  },
  {
   "cell_type": "markdown",
   "metadata": {},
   "source": [
    "#### Categorical attributes summary"
   ]
  },
  {
   "cell_type": "code",
   "execution_count": 17,
   "metadata": {},
   "outputs": [
    {
     "data": {
      "text/html": [
       "<div>\n",
       "<style scoped>\n",
       "    .dataframe tbody tr th:only-of-type {\n",
       "        vertical-align: middle;\n",
       "    }\n",
       "\n",
       "    .dataframe tbody tr th {\n",
       "        vertical-align: top;\n",
       "    }\n",
       "\n",
       "    .dataframe thead th {\n",
       "        text-align: right;\n",
       "    }\n",
       "</style>\n",
       "<table border=\"1\" class=\"dataframe\">\n",
       "  <thead>\n",
       "    <tr style=\"text-align: right;\">\n",
       "      <th></th>\n",
       "      <th>count</th>\n",
       "      <th>unique</th>\n",
       "      <th>top</th>\n",
       "      <th>freq</th>\n",
       "      <th>mean</th>\n",
       "      <th>std</th>\n",
       "      <th>min</th>\n",
       "      <th>25%</th>\n",
       "      <th>50%</th>\n",
       "      <th>75%</th>\n",
       "      <th>max</th>\n",
       "    </tr>\n",
       "  </thead>\n",
       "  <tbody>\n",
       "    <tr>\n",
       "      <th>transaction_number</th>\n",
       "      <td>76529</td>\n",
       "      <td>NaN</td>\n",
       "      <td>NaN</td>\n",
       "      <td>NaN</td>\n",
       "      <td>6.9402e+14</td>\n",
       "      <td>7.86789e+14</td>\n",
       "      <td>8</td>\n",
       "      <td>4.38787e+13</td>\n",
       "      <td>3.45254e+14</td>\n",
       "      <td>1.17344e+15</td>\n",
       "      <td>2.78424e+15</td>\n",
       "    </tr>\n",
       "    <tr>\n",
       "      <th>user_id</th>\n",
       "      <td>76529</td>\n",
       "      <td>3594</td>\n",
       "      <td>5.39196e+07</td>\n",
       "      <td>3240</td>\n",
       "      <td>NaN</td>\n",
       "      <td>NaN</td>\n",
       "      <td>NaN</td>\n",
       "      <td>NaN</td>\n",
       "      <td>NaN</td>\n",
       "      <td>NaN</td>\n",
       "      <td>NaN</td>\n",
       "    </tr>\n",
       "    <tr>\n",
       "      <th>payment_method</th>\n",
       "      <td>76529</td>\n",
       "      <td>6</td>\n",
       "      <td>sbi_atm_cum_debit_card</td>\n",
       "      <td>30538</td>\n",
       "      <td>NaN</td>\n",
       "      <td>NaN</td>\n",
       "      <td>NaN</td>\n",
       "      <td>NaN</td>\n",
       "      <td>NaN</td>\n",
       "      <td>NaN</td>\n",
       "      <td>NaN</td>\n",
       "    </tr>\n",
       "    <tr>\n",
       "      <th>partner_id</th>\n",
       "      <td>76529</td>\n",
       "      <td>23</td>\n",
       "      <td>47334</td>\n",
       "      <td>26105</td>\n",
       "      <td>NaN</td>\n",
       "      <td>NaN</td>\n",
       "      <td>NaN</td>\n",
       "      <td>NaN</td>\n",
       "      <td>NaN</td>\n",
       "      <td>NaN</td>\n",
       "      <td>NaN</td>\n",
       "    </tr>\n",
       "    <tr>\n",
       "      <th>partner_category</th>\n",
       "      <td>76529</td>\n",
       "      <td>9</td>\n",
       "      <td>cat_1</td>\n",
       "      <td>36306</td>\n",
       "      <td>NaN</td>\n",
       "      <td>NaN</td>\n",
       "      <td>NaN</td>\n",
       "      <td>NaN</td>\n",
       "      <td>NaN</td>\n",
       "      <td>NaN</td>\n",
       "      <td>NaN</td>\n",
       "    </tr>\n",
       "    <tr>\n",
       "      <th>country</th>\n",
       "      <td>76529</td>\n",
       "      <td>1</td>\n",
       "      <td>IND_INR</td>\n",
       "      <td>76529</td>\n",
       "      <td>NaN</td>\n",
       "      <td>NaN</td>\n",
       "      <td>NaN</td>\n",
       "      <td>NaN</td>\n",
       "      <td>NaN</td>\n",
       "      <td>NaN</td>\n",
       "      <td>NaN</td>\n",
       "    </tr>\n",
       "    <tr>\n",
       "      <th>device_type</th>\n",
       "      <td>76529</td>\n",
       "      <td>4</td>\n",
       "      <td>other_pcs</td>\n",
       "      <td>45560</td>\n",
       "      <td>NaN</td>\n",
       "      <td>NaN</td>\n",
       "      <td>NaN</td>\n",
       "      <td>NaN</td>\n",
       "      <td>NaN</td>\n",
       "      <td>NaN</td>\n",
       "      <td>NaN</td>\n",
       "    </tr>\n",
       "    <tr>\n",
       "      <th>money_transacted</th>\n",
       "      <td>76529</td>\n",
       "      <td>NaN</td>\n",
       "      <td>NaN</td>\n",
       "      <td>NaN</td>\n",
       "      <td>132.724</td>\n",
       "      <td>2350.11</td>\n",
       "      <td>-20000</td>\n",
       "      <td>-1</td>\n",
       "      <td>20</td>\n",
       "      <td>52</td>\n",
       "      <td>197218</td>\n",
       "    </tr>\n",
       "    <tr>\n",
       "      <th>transaction_initiation</th>\n",
       "      <td>76529</td>\n",
       "      <td>75811</td>\n",
       "      <td>2016-12-24 16:30:13+00:00</td>\n",
       "      <td>12</td>\n",
       "      <td>NaN</td>\n",
       "      <td>NaN</td>\n",
       "      <td>NaN</td>\n",
       "      <td>NaN</td>\n",
       "      <td>NaN</td>\n",
       "      <td>NaN</td>\n",
       "      <td>NaN</td>\n",
       "    </tr>\n",
       "    <tr>\n",
       "      <th>partner_pricing_category</th>\n",
       "      <td>76529</td>\n",
       "      <td>4</td>\n",
       "      <td>2</td>\n",
       "      <td>63899</td>\n",
       "      <td>NaN</td>\n",
       "      <td>NaN</td>\n",
       "      <td>NaN</td>\n",
       "      <td>NaN</td>\n",
       "      <td>NaN</td>\n",
       "      <td>NaN</td>\n",
       "      <td>NaN</td>\n",
       "    </tr>\n",
       "    <tr>\n",
       "      <th>is_fraud</th>\n",
       "      <td>76529</td>\n",
       "      <td>2</td>\n",
       "      <td>0</td>\n",
       "      <td>76375</td>\n",
       "      <td>NaN</td>\n",
       "      <td>NaN</td>\n",
       "      <td>NaN</td>\n",
       "      <td>NaN</td>\n",
       "      <td>NaN</td>\n",
       "      <td>NaN</td>\n",
       "      <td>NaN</td>\n",
       "    </tr>\n",
       "  </tbody>\n",
       "</table>\n",
       "</div>"
      ],
      "text/plain": [
       "                          count unique                        top   freq  \\\n",
       "transaction_number        76529    NaN                        NaN    NaN   \n",
       "user_id                   76529   3594                5.39196e+07   3240   \n",
       "payment_method            76529      6     sbi_atm_cum_debit_card  30538   \n",
       "partner_id                76529     23                      47334  26105   \n",
       "partner_category          76529      9                      cat_1  36306   \n",
       "country                   76529      1                    IND_INR  76529   \n",
       "device_type               76529      4                  other_pcs  45560   \n",
       "money_transacted          76529    NaN                        NaN    NaN   \n",
       "transaction_initiation    76529  75811  2016-12-24 16:30:13+00:00     12   \n",
       "partner_pricing_category  76529      4                          2  63899   \n",
       "is_fraud                  76529      2                          0  76375   \n",
       "\n",
       "                                mean          std    min          25%  \\\n",
       "transaction_number        6.9402e+14  7.86789e+14      8  4.38787e+13   \n",
       "user_id                          NaN          NaN    NaN          NaN   \n",
       "payment_method                   NaN          NaN    NaN          NaN   \n",
       "partner_id                       NaN          NaN    NaN          NaN   \n",
       "partner_category                 NaN          NaN    NaN          NaN   \n",
       "country                          NaN          NaN    NaN          NaN   \n",
       "device_type                      NaN          NaN    NaN          NaN   \n",
       "money_transacted             132.724      2350.11 -20000           -1   \n",
       "transaction_initiation           NaN          NaN    NaN          NaN   \n",
       "partner_pricing_category         NaN          NaN    NaN          NaN   \n",
       "is_fraud                         NaN          NaN    NaN          NaN   \n",
       "\n",
       "                                  50%          75%          max  \n",
       "transaction_number        3.45254e+14  1.17344e+15  2.78424e+15  \n",
       "user_id                           NaN          NaN          NaN  \n",
       "payment_method                    NaN          NaN          NaN  \n",
       "partner_id                        NaN          NaN          NaN  \n",
       "partner_category                  NaN          NaN          NaN  \n",
       "country                           NaN          NaN          NaN  \n",
       "device_type                       NaN          NaN          NaN  \n",
       "money_transacted                   20           52       197218  \n",
       "transaction_initiation            NaN          NaN          NaN  \n",
       "partner_pricing_category          NaN          NaN          NaN  \n",
       "is_fraud                          NaN          NaN          NaN  "
      ]
     },
     "execution_count": 17,
     "metadata": {},
     "output_type": "execute_result"
    }
   ],
   "source": [
    "train_data.describe(include='all').transpose()"
   ]
  },
  {
   "cell_type": "markdown",
   "metadata": {},
   "source": [
    "##### Extracting Numeric Columns"
   ]
  },
  {
   "cell_type": "code",
   "execution_count": 18,
   "metadata": {},
   "outputs": [],
   "source": [
    "num_cols = [i for i in train_data.columns if i not in cat_cols]"
   ]
  },
  {
   "cell_type": "code",
   "execution_count": 19,
   "metadata": {},
   "outputs": [
    {
     "data": {
      "text/plain": [
       "transaction_number      int64\n",
       "money_transacted      float64\n",
       "dtype: object"
      ]
     },
     "execution_count": 19,
     "metadata": {},
     "output_type": "execute_result"
    }
   ],
   "source": [
    "train_data[num_cols].dtypes"
   ]
  },
  {
   "cell_type": "code",
   "execution_count": 20,
   "metadata": {},
   "outputs": [
    {
     "data": {
      "text/plain": [
       "transaction_number             int64\n",
       "user_id                     category\n",
       "payment_method              category\n",
       "partner_id                  category\n",
       "partner_category            category\n",
       "country                     category\n",
       "device_type                 category\n",
       "money_transacted             float64\n",
       "transaction_initiation      category\n",
       "partner_pricing_category    category\n",
       "is_fraud                    category\n",
       "dtype: object"
      ]
     },
     "execution_count": 20,
     "metadata": {},
     "output_type": "execute_result"
    }
   ],
   "source": [
    "train_data.dtypes"
   ]
  },
  {
   "cell_type": "markdown",
   "metadata": {},
   "source": [
    "### Analysis on transaction_number and transaction_initiation"
   ]
  },
  {
   "cell_type": "code",
   "execution_count": 21,
   "metadata": {
    "colab": {
     "base_uri": "https://localhost:8080/",
     "height": 67
    },
    "colab_type": "code",
    "id": "wglTkP-8sGU-",
    "outputId": "3c0bbc38-963b-437e-fba4-c12f18285d27"
   },
   "outputs": [
    {
     "name": "stdout",
     "output_type": "stream",
     "text": [
      "The number of unique transaction_number's in the  data set\n",
      "76529\n",
      "The number of unique transaction_initiation's in the  data set\n",
      "75811\n"
     ]
    }
   ],
   "source": [
    "#Number of unique transaction_number's\n",
    "print(\"The number of unique transaction_number's in the  data set\")\n",
    "print(train_data['transaction_number'].nunique())\n",
    "\n",
    "#Number of unique transaction_initiation's\n",
    "print(\"The number of unique transaction_initiation's in the  data set\")\n",
    "print(train_data['transaction_initiation'].nunique())"
   ]
  },
  {
   "cell_type": "code",
   "execution_count": 22,
   "metadata": {},
   "outputs": [
    {
     "data": {
      "text/html": [
       "<div>\n",
       "<style scoped>\n",
       "    .dataframe tbody tr th:only-of-type {\n",
       "        vertical-align: middle;\n",
       "    }\n",
       "\n",
       "    .dataframe tbody tr th {\n",
       "        vertical-align: top;\n",
       "    }\n",
       "\n",
       "    .dataframe thead th {\n",
       "        text-align: right;\n",
       "    }\n",
       "</style>\n",
       "<table border=\"1\" class=\"dataframe\">\n",
       "  <thead>\n",
       "    <tr style=\"text-align: right;\">\n",
       "      <th></th>\n",
       "      <th>transaction_number</th>\n",
       "      <th>user_id</th>\n",
       "      <th>payment_method</th>\n",
       "      <th>partner_id</th>\n",
       "      <th>partner_category</th>\n",
       "      <th>country</th>\n",
       "      <th>device_type</th>\n",
       "      <th>money_transacted</th>\n",
       "      <th>transaction_initiation</th>\n",
       "      <th>partner_pricing_category</th>\n",
       "      <th>is_fraud</th>\n",
       "    </tr>\n",
       "  </thead>\n",
       "  <tbody>\n",
       "    <tr>\n",
       "      <th>0</th>\n",
       "      <td>144703125000</td>\n",
       "      <td>17539344</td>\n",
       "      <td>sbi_atm_cum_debit_card</td>\n",
       "      <td>47334</td>\n",
       "      <td>cat_1</td>\n",
       "      <td>IND_INR</td>\n",
       "      <td>android_devices</td>\n",
       "      <td>-5.0</td>\n",
       "      <td>2016-11-15 19:16:12+00:00</td>\n",
       "      <td>2</td>\n",
       "      <td>0</td>\n",
       "    </tr>\n",
       "  </tbody>\n",
       "</table>\n",
       "</div>"
      ],
      "text/plain": [
       "   transaction_number   user_id          payment_method partner_id  \\\n",
       "0        144703125000  17539344  sbi_atm_cum_debit_card      47334   \n",
       "\n",
       "  partner_category  country      device_type  money_transacted  \\\n",
       "0            cat_1  IND_INR  android_devices              -5.0   \n",
       "\n",
       "      transaction_initiation partner_pricing_category is_fraud  \n",
       "0  2016-11-15 19:16:12+00:00                        2        0  "
      ]
     },
     "execution_count": 22,
     "metadata": {},
     "output_type": "execute_result"
    }
   ],
   "source": [
    "train_data.head(1)"
   ]
  },
  {
   "cell_type": "markdown",
   "metadata": {},
   "source": [
    "__Observation:__ \n",
    "- Clearly transaction_number  is unique for each row and offers zero variance. Hence it can be deleted. \n",
    "\n",
    "- transaction_initiation can be apllied to feature engg later"
   ]
  },
  {
   "cell_type": "markdown",
   "metadata": {
    "colab_type": "text",
    "id": "bmHAkt6Od5p7"
   },
   "source": [
    "#### Dropping Zero Variance features like transaction_number"
   ]
  },
  {
   "cell_type": "code",
   "execution_count": 23,
   "metadata": {},
   "outputs": [],
   "source": [
    "train_data=train_data.drop(['transaction_number'], axis=1)\n",
    "test_data=test_data.drop(['transaction_number'], axis=1)"
   ]
  },
  {
   "cell_type": "code",
   "execution_count": 24,
   "metadata": {},
   "outputs": [
    {
     "data": {
      "text/plain": [
       "(76529, 10)"
      ]
     },
     "execution_count": 24,
     "metadata": {},
     "output_type": "execute_result"
    }
   ],
   "source": [
    "train_data.shape"
   ]
  },
  {
   "cell_type": "code",
   "execution_count": 25,
   "metadata": {},
   "outputs": [
    {
     "data": {
      "text/plain": [
       "(19133, 9)"
      ]
     },
     "execution_count": 25,
     "metadata": {},
     "output_type": "execute_result"
    }
   ],
   "source": [
    "test_data.shape"
   ]
  },
  {
   "cell_type": "markdown",
   "metadata": {
    "colab_type": "text",
    "id": "nUJ_qq8pd5qX"
   },
   "source": [
    "### Analysing Numerical features"
   ]
  },
  {
   "cell_type": "code",
   "execution_count": 26,
   "metadata": {},
   "outputs": [
    {
     "data": {
      "text/plain": [
       "user_id                     category\n",
       "payment_method              category\n",
       "partner_id                  category\n",
       "partner_category            category\n",
       "country                     category\n",
       "device_type                 category\n",
       "money_transacted             float64\n",
       "transaction_initiation      category\n",
       "partner_pricing_category    category\n",
       "is_fraud                    category\n",
       "dtype: object"
      ]
     },
     "execution_count": 26,
     "metadata": {},
     "output_type": "execute_result"
    }
   ],
   "source": [
    "train_data.dtypes"
   ]
  },
  {
   "cell_type": "code",
   "execution_count": 27,
   "metadata": {},
   "outputs": [
    {
     "data": {
      "image/png": "[encoded data removed]",
      "text/plain": [
       "<Figure size 720x360 with 1 Axes>"
      ]
     },
     "metadata": {
      "needs_background": "light"
     },
     "output_type": "display_data"
    }
   ],
   "source": [
    "train_data['money_transacted'].hist(figsize=(10, 5));"
   ]
  },
  {
   "cell_type": "markdown",
   "metadata": {
    "colab_type": "text",
    "id": "9JKliQt4ukB0"
   },
   "source": [
    "### Analysing Categorical Columns"
   ]
  },
  {
   "cell_type": "code",
   "execution_count": 28,
   "metadata": {
    "colab": {
     "base_uri": "https://localhost:8080/",
     "height": 235
    },
    "colab_type": "code",
    "id": "8qSHUtuc0qDH",
    "outputId": "4197b257-be3d-44ac-e7e5-5537f5df20dc",
    "scrolled": true
   },
   "outputs": [
    {
     "data": {
      "text/html": [
       "<div>\n",
       "<style scoped>\n",
       "    .dataframe tbody tr th:only-of-type {\n",
       "        vertical-align: middle;\n",
       "    }\n",
       "\n",
       "    .dataframe tbody tr th {\n",
       "        vertical-align: top;\n",
       "    }\n",
       "\n",
       "    .dataframe thead th {\n",
       "        text-align: right;\n",
       "    }\n",
       "</style>\n",
       "<table border=\"1\" class=\"dataframe\">\n",
       "  <thead>\n",
       "    <tr style=\"text-align: right;\">\n",
       "      <th></th>\n",
       "      <th>user_id</th>\n",
       "      <th>payment_method</th>\n",
       "      <th>partner_id</th>\n",
       "      <th>partner_category</th>\n",
       "      <th>country</th>\n",
       "      <th>device_type</th>\n",
       "      <th>transaction_initiation</th>\n",
       "      <th>partner_pricing_category</th>\n",
       "      <th>is_fraud</th>\n",
       "    </tr>\n",
       "  </thead>\n",
       "  <tbody>\n",
       "    <tr>\n",
       "      <th>count</th>\n",
       "      <td>76529</td>\n",
       "      <td>76529</td>\n",
       "      <td>76529</td>\n",
       "      <td>76529</td>\n",
       "      <td>76529</td>\n",
       "      <td>76529</td>\n",
       "      <td>76529</td>\n",
       "      <td>76529</td>\n",
       "      <td>76529</td>\n",
       "    </tr>\n",
       "    <tr>\n",
       "      <th>unique</th>\n",
       "      <td>3594</td>\n",
       "      <td>6</td>\n",
       "      <td>23</td>\n",
       "      <td>9</td>\n",
       "      <td>1</td>\n",
       "      <td>4</td>\n",
       "      <td>75811</td>\n",
       "      <td>4</td>\n",
       "      <td>2</td>\n",
       "    </tr>\n",
       "    <tr>\n",
       "      <th>top</th>\n",
       "      <td>53919649</td>\n",
       "      <td>sbi_atm_cum_debit_card</td>\n",
       "      <td>47334</td>\n",
       "      <td>cat_1</td>\n",
       "      <td>IND_INR</td>\n",
       "      <td>other_pcs</td>\n",
       "      <td>2016-12-24 16:30:13+00:00</td>\n",
       "      <td>2</td>\n",
       "      <td>0</td>\n",
       "    </tr>\n",
       "    <tr>\n",
       "      <th>freq</th>\n",
       "      <td>3240</td>\n",
       "      <td>30538</td>\n",
       "      <td>26105</td>\n",
       "      <td>36306</td>\n",
       "      <td>76529</td>\n",
       "      <td>45560</td>\n",
       "      <td>12</td>\n",
       "      <td>63899</td>\n",
       "      <td>76375</td>\n",
       "    </tr>\n",
       "  </tbody>\n",
       "</table>\n",
       "</div>"
      ],
      "text/plain": [
       "         user_id          payment_method  partner_id partner_category  \\\n",
       "count      76529                   76529       76529            76529   \n",
       "unique      3594                       6          23                9   \n",
       "top     53919649  sbi_atm_cum_debit_card       47334            cat_1   \n",
       "freq        3240                   30538       26105            36306   \n",
       "\n",
       "        country device_type     transaction_initiation  \\\n",
       "count     76529       76529                      76529   \n",
       "unique        1           4                      75811   \n",
       "top     IND_INR   other_pcs  2016-12-24 16:30:13+00:00   \n",
       "freq      76529       45560                         12   \n",
       "\n",
       "        partner_pricing_category  is_fraud  \n",
       "count                      76529     76529  \n",
       "unique                         4         2  \n",
       "top                            2         0  \n",
       "freq                       63899     76375  "
      ]
     },
     "execution_count": 28,
     "metadata": {},
     "output_type": "execute_result"
    }
   ],
   "source": [
    "train_data.describe(include='category')"
   ]
  },
  {
   "cell_type": "markdown",
   "metadata": {},
   "source": [
    "### Chi square test: check dependency of categorical columns with Target"
   ]
  },
  {
   "cell_type": "code",
   "execution_count": 29,
   "metadata": {
    "scrolled": true
   },
   "outputs": [],
   "source": [
    "from scipy.stats import chi2_contingency              # importing\n",
    "import statsmodels.api as sm"
   ]
  },
  {
   "cell_type": "code",
   "execution_count": 30,
   "metadata": {
    "scrolled": true
   },
   "outputs": [],
   "source": [
    "## Defining Function for Chi-square test\n",
    "\n",
    "def find_chi2_independence(cat_col, target, df, alpha=0.05):\n",
    "    data = df[[target, cat_col]]\n",
    "    tab = sm.stats.Table.from_data(data)\n",
    "    tab = tab.table_orig.to_numpy()\n",
    "    print(f\"---------------{target} Vs {cat_col} Chi Square Test of Independence -------------------\")\n",
    "    print(f\"\\n Contingency table :\\n\")\n",
    "    print(tab)\n",
    "    \n",
    "    stat, p, dof, expected = chi2_contingency(tab)\n",
    "    print(f\"\\n Expected table :\\n\")\n",
    "    print(expected)\n",
    "    \n",
    "    print(f\"The p value returned = {p} and degrees of freedom returned = {dof}\")\n",
    "    \n",
    "    # interpret p-value\n",
    "    print('significance(alpha) = %.3f' % (alpha))\n",
    "\n",
    "    if p <= alpha:\n",
    "        print('Dependent (reject H0)')\n",
    "    else:\n",
    "        print('Independent (fail to reject H0)') "
   ]
  },
  {
   "cell_type": "code",
   "execution_count": 31,
   "metadata": {
    "scrolled": true
   },
   "outputs": [
    {
     "name": "stdout",
     "output_type": "stream",
     "text": [
      "---------------is_fraud Vs user_id Chi Square Test of Independence -------------------\n",
      "\n",
      " Contingency table :\n",
      "\n",
      "[[ 1  1  1 ... 19  1  1]\n",
      " [ 0  0  0 ...  0  0  0]]\n",
      "\n",
      " Expected table :\n",
      "\n",
      "[[9.97987691e-01 9.97987691e-01 9.97987691e-01 ... 1.89617661e+01\n",
      "  9.97987691e-01 9.97987691e-01]\n",
      " [2.01230906e-03 2.01230906e-03 2.01230906e-03 ... 3.82338721e-02\n",
      "  2.01230906e-03 2.01230906e-03]]\n",
      "The p value returned = 0.0 and degrees of freedom returned = 3593\n",
      "significance(alpha) = 0.050\n",
      "Dependent (reject H0)\n",
      "---------------is_fraud Vs payment_method Chi Square Test of Independence -------------------\n",
      "\n",
      " Contingency table :\n",
      "\n",
      "[[27382  4452 30533    15  2401 11592]\n",
      " [    2    43     5     0    53    51]]\n",
      "\n",
      " Expected table :\n",
      "\n",
      "[[2.73288949e+04 4.48595467e+03 3.04765481e+04 1.49698154e+01\n",
      "  2.44906179e+03 1.16195707e+04]\n",
      " [5.51050713e+01 9.04532922e+00 6.14518941e+01 3.01846359e-02\n",
      "  4.93820643e+00 2.34293144e+01]]\n",
      "The p value returned = 5.316478181917259e-156 and degrees of freedom returned = 5\n",
      "significance(alpha) = 0.050\n",
      "Dependent (reject H0)\n",
      "---------------is_fraud Vs partner_id Chi Square Test of Independence -------------------\n",
      "\n",
      " Contingency table :\n",
      "\n",
      "[[ 2317   189 19517  1892    17 26104    75   159    12 12267  1121     2\n",
      "    227   640  9422    10   767   165  1212    88     1   146    25]\n",
      " [    0     0     9     0     2     1     0     0     3     6     0     0\n",
      "      4     0   124     0     0     0     4     1     0     0     0]]\n",
      "\n",
      " Expected table :\n",
      "\n",
      "[[2.31233748e+03 1.88619674e+02 1.94867077e+04 1.88819271e+03\n",
      "  1.89617661e+01 2.60524687e+04 7.48490768e+01 1.58680043e+02\n",
      "  1.49698154e+01 1.22483029e+04 1.11874420e+03 1.99597538e+00\n",
      "  2.30535157e+02 6.38712122e+02 9.52679050e+03 9.97987691e+00\n",
      "  7.65456559e+02 1.64667969e+02 1.21355303e+03 8.88209045e+01\n",
      "  9.97987691e-01 1.45706203e+02 2.49496923e+01]\n",
      " [4.66252009e+00 3.80326412e-01 3.92923467e+01 3.80728874e+00\n",
      "  3.82338721e-02 5.25313280e+01 1.50923179e-01 3.19957140e-01\n",
      "  3.01846359e-02 2.46970691e+01 2.25579846e+00 4.02461812e-03\n",
      "  4.64843393e-01 1.28787780e+00 1.92095023e+01 2.01230906e-02\n",
      "  1.54344105e+00 3.32030995e-01 2.44696782e+00 1.79095506e-01\n",
      "  2.01230906e-03 2.93797123e-01 5.03077265e-02]]\n",
      "The p value returned = 4.635079748110754e-219 and degrees of freedom returned = 22\n",
      "significance(alpha) = 0.050\n",
      "Dependent (reject H0)\n",
      "---------------is_fraud Vs partner_category Chi Square Test of Independence -------------------\n",
      "\n",
      " Contingency table :\n",
      "\n",
      "[[36178 36004  1527  1310  1026   146   165    17     2]\n",
      " [  128    15     9     0     0     0     0     2     0]]\n",
      "\n",
      " Expected table :\n",
      "\n",
      "[[3.62329411e+04 3.59465186e+04 1.53290909e+03 1.30736388e+03\n",
      "  1.02393537e+03 1.45706203e+02 1.64667969e+02 1.89617661e+01\n",
      "  1.99597538e+00]\n",
      " [7.30588927e+01 7.24813600e+01 3.09090672e+00 2.63612487e+00\n",
      "  2.06462909e+00 2.93797123e-01 3.32030995e-01 3.82338721e-02\n",
      "  4.02461812e-03]]\n",
      "The p value returned = 6.8587853565513275e-40 and degrees of freedom returned = 8\n",
      "significance(alpha) = 0.050\n",
      "Dependent (reject H0)\n",
      "---------------is_fraud Vs country Chi Square Test of Independence -------------------\n",
      "\n",
      " Contingency table :\n",
      "\n",
      "[[76375]\n",
      " [  154]]\n",
      "\n",
      " Expected table :\n",
      "\n",
      "[[76375.]\n",
      " [  154.]]\n",
      "The p value returned = 1.0 and degrees of freedom returned = 0\n",
      "significance(alpha) = 0.050\n",
      "Independent (fail to reject H0)\n",
      "---------------is_fraud Vs device_type Chi Square Test of Independence -------------------\n",
      "\n",
      " Contingency table :\n",
      "\n",
      "[[29657   876 45415   427]\n",
      " [    5     0   145     4]]\n",
      "\n",
      " Expected table :\n",
      "\n",
      "[[2.96023109e+04 8.74237217e+02 4.54683192e+04 4.30132695e+02]\n",
      " [5.96891113e+01 1.76278274e+00 9.16808007e+01 8.67305205e-01]]\n",
      "The p value returned = 2.5031183694642124e-20 and degrees of freedom returned = 3\n",
      "significance(alpha) = 0.050\n",
      "Dependent (reject H0)\n",
      "---------------is_fraud Vs transaction_initiation Chi Square Test of Independence -------------------\n",
      "\n",
      " Contingency table :\n",
      "\n",
      "[[1 1 1 ... 1 1 1]\n",
      " [0 0 0 ... 0 0 0]]\n",
      "\n",
      " Expected table :\n",
      "\n",
      "[[0.99798769 0.99798769 0.99798769 ... 0.99798769 0.99798769 0.99798769]\n",
      " [0.00201231 0.00201231 0.00201231 ... 0.00201231 0.00201231 0.00201231]]\n",
      "The p value returned = 0.11384470520159654 and degrees of freedom returned = 75810\n",
      "significance(alpha) = 0.050\n",
      "Independent (fail to reject H0)\n",
      "---------------is_fraud Vs partner_pricing_category Chi Square Test of Independence -------------------\n",
      "\n",
      " Contingency table :\n",
      "\n",
      "[[  271  1491 63789 10824]\n",
      " [   29     6   110     9]]\n",
      "\n",
      " Expected table :\n",
      "\n",
      "[[2.99396307e+02 1.49398757e+03 6.37704155e+04 1.08112007e+04]\n",
      " [6.03692718e-01 3.01242666e+00 1.28584537e+02 2.17993440e+01]]\n",
      "The p value returned = 9.456633670840907e-293 and degrees of freedom returned = 3\n",
      "significance(alpha) = 0.050\n",
      "Dependent (reject H0)\n",
      "---------------is_fraud Vs is_fraud Chi Square Test of Independence -------------------\n",
      "\n",
      " Contingency table :\n",
      "\n",
      "[[76375     0]\n",
      " [    0   154]]\n",
      "\n",
      " Expected table :\n",
      "\n",
      "[[7.62213099e+04 1.53690104e+02]\n",
      " [1.53690104e+02 3.09895595e-01]]\n",
      "The p value returned = 0.0 and degrees of freedom returned = 1\n",
      "significance(alpha) = 0.050\n",
      "Dependent (reject H0)\n"
     ]
    }
   ],
   "source": [
    "for col in cat_cols:                                           #Chi-Square Dependency test for Categorical Columns\n",
    "    find_chi2_independence(col, 'is_fraud', train_data)"
   ]
  },
  {
   "cell_type": "markdown",
   "metadata": {},
   "source": [
    " __Observation__ \n",
    "\n",
    "- All categorical columns are dependent except \"Country\" column to target variable \"is_fraud\""
   ]
  },
  {
   "cell_type": "code",
   "execution_count": 32,
   "metadata": {},
   "outputs": [],
   "source": [
    "### Dropping Zero variance Independent Country Column\n",
    "train_data=train_data.drop(['country'], axis=1)\n",
    "test_data=test_data.drop(['country'], axis=1)"
   ]
  },
  {
   "cell_type": "code",
   "execution_count": 33,
   "metadata": {},
   "outputs": [
    {
     "data": {
      "text/plain": [
       "(76529, 9)"
      ]
     },
     "execution_count": 33,
     "metadata": {},
     "output_type": "execute_result"
    }
   ],
   "source": [
    "train_data.shape"
   ]
  },
  {
   "cell_type": "markdown",
   "metadata": {},
   "source": [
    "##  Visualization\n",
    "------------------------"
   ]
  },
  {
   "cell_type": "code",
   "execution_count": 34,
   "metadata": {
    "scrolled": true
   },
   "outputs": [],
   "source": [
    "## Custom Function for Delay Probability on categorical columns\n",
    "\n",
    "def probStatusCategorical(col_list):\n",
    "    rows = []\n",
    "    for item in col_list:\n",
    "        for level in train_data[item].unique():\n",
    "            row = {'Condition': item}\n",
    "            ## Finding count of rows with that level in categorical column\n",
    "            total = len(train_data[train_data[item] == level])\n",
    "            ## Finding count of rows where level and \"1\" in fraud transaction match\n",
    "            n = len(train_data[(train_data[item] == level) & (train_data['is_fraud'] == 1)])\n",
    "            row.update({'Level': level, 'Probability': n / total})\n",
    "            rows.append(row)\n",
    "    return pd.DataFrame(rows)"
   ]
  },
  {
   "cell_type": "code",
   "execution_count": 35,
   "metadata": {
    "scrolled": true
   },
   "outputs": [],
   "source": [
    "## Custom Function for Bar Plots\n",
    "\n",
    "def barplot(column,df):\n",
    "    plt.figure(figsize = (10, 10))\n",
    "    bar_plot1 = sns.countplot(x=column, data=df)\n",
    "    \n",
    "    total = len(df[column])\n",
    "    for p in bar_plot1.patches:\n",
    "        percentage = '{:.2f}%'.format(100 * p.get_height()/total)\n",
    "        height = p.get_height()\n",
    "        bar_plot1.text(p.get_x()+ p.get_width()/2, height + 400, percentage, ha=\"center\")"
   ]
  },
  {
   "cell_type": "markdown",
   "metadata": {},
   "source": [
    "### Univariate Analysis on Categorical Columns"
   ]
  },
  {
   "cell_type": "code",
   "execution_count": 36,
   "metadata": {
    "scrolled": true
   },
   "outputs": [
    {
     "data": {
      "image/png": "[encoded data removed]",
      "text/plain": [
       "<Figure size 720x720 with 1 Axes>"
      ]
     },
     "metadata": {
      "needs_background": "light"
     },
     "output_type": "display_data"
    }
   ],
   "source": [
    "barplot(\"payment_method\",train_data)"
   ]
  },
  {
   "cell_type": "code",
   "execution_count": 37,
   "metadata": {
    "scrolled": true
   },
   "outputs": [
    {
     "data": {
      "image/png": "[encoded data removed]",
      "text/plain": [
       "<Figure size 720x720 with 1 Axes>"
      ]
     },
     "metadata": {
      "needs_background": "light"
     },
     "output_type": "display_data"
    }
   ],
   "source": [
    "barplot(\"partner_id\",train_data)     "
   ]
  },
  {
   "cell_type": "code",
   "execution_count": 38,
   "metadata": {
    "scrolled": true
   },
   "outputs": [
    {
     "data": {
      "image/png": "[encoded data removed]",
      "text/plain": [
       "<Figure size 720x720 with 1 Axes>"
      ]
     },
     "metadata": {
      "needs_background": "light"
     },
     "output_type": "display_data"
    }
   ],
   "source": [
    "barplot(\"partner_category\",train_data) "
   ]
  },
  {
   "cell_type": "code",
   "execution_count": 39,
   "metadata": {},
   "outputs": [],
   "source": [
    "#Binning of categories can be done as they give approx  1% relevance togeather\n",
    "\n",
    "train_data['partner_category'] = train_data['partner_category'].replace(['cat_5','cat_6','cat_7','cat_8','cat_9'],'cat_5')\n",
    "test_data['partner_category'] = test_data['partner_category'].replace(['cat_5','cat_6','cat_7','cat_8','cat_9'],'cat_5')"
   ]
  },
  {
   "cell_type": "code",
   "execution_count": 40,
   "metadata": {},
   "outputs": [
    {
     "data": {
      "image/png": "[encoded data removed]",
      "text/plain": [
       "<Figure size 720x720 with 1 Axes>"
      ]
     },
     "metadata": {
      "needs_background": "light"
     },
     "output_type": "display_data"
    }
   ],
   "source": [
    "barplot(\"partner_category\",train_data) "
   ]
  },
  {
   "cell_type": "code",
   "execution_count": 41,
   "metadata": {
    "scrolled": true
   },
   "outputs": [
    {
     "data": {
      "image/png": "[encoded data removed]",
      "text/plain": [
       "<Figure size 720x720 with 1 Axes>"
      ]
     },
     "metadata": {
      "needs_background": "light"
     },
     "output_type": "display_data"
    }
   ],
   "source": [
    "barplot(\"device_type\",train_data)"
   ]
  },
  {
   "cell_type": "code",
   "execution_count": 42,
   "metadata": {},
   "outputs": [
    {
     "data": {
      "image/png": "[encoded data removed]",
      "text/plain": [
       "<Figure size 720x720 with 1 Axes>"
      ]
     },
     "metadata": {
      "needs_background": "light"
     },
     "output_type": "display_data"
    }
   ],
   "source": [
    "barplot(\"partner_pricing_category\",train_data)"
   ]
  },
  {
   "cell_type": "markdown",
   "metadata": {},
   "source": [
    "### Probabilistic Analysis of Categorical columns on Flight Delay"
   ]
  },
  {
   "cell_type": "code",
   "execution_count": 43,
   "metadata": {},
   "outputs": [
    {
     "data": {
      "text/html": [
       "<div>\n",
       "<style scoped>\n",
       "    .dataframe tbody tr th:only-of-type {\n",
       "        vertical-align: middle;\n",
       "    }\n",
       "\n",
       "    .dataframe tbody tr th {\n",
       "        vertical-align: top;\n",
       "    }\n",
       "\n",
       "    .dataframe thead th {\n",
       "        text-align: right;\n",
       "    }\n",
       "</style>\n",
       "<table border=\"1\" class=\"dataframe\">\n",
       "  <thead>\n",
       "    <tr style=\"text-align: right;\">\n",
       "      <th></th>\n",
       "      <th>user_id</th>\n",
       "      <th>payment_method</th>\n",
       "      <th>partner_id</th>\n",
       "      <th>partner_category</th>\n",
       "      <th>device_type</th>\n",
       "      <th>transaction_initiation</th>\n",
       "      <th>partner_pricing_category</th>\n",
       "      <th>is_fraud</th>\n",
       "    </tr>\n",
       "  </thead>\n",
       "  <tbody>\n",
       "    <tr>\n",
       "      <th>count</th>\n",
       "      <td>76529</td>\n",
       "      <td>76529</td>\n",
       "      <td>76529</td>\n",
       "      <td>76529</td>\n",
       "      <td>76529</td>\n",
       "      <td>76529</td>\n",
       "      <td>76529</td>\n",
       "      <td>76529</td>\n",
       "    </tr>\n",
       "    <tr>\n",
       "      <th>unique</th>\n",
       "      <td>3594</td>\n",
       "      <td>6</td>\n",
       "      <td>23</td>\n",
       "      <td>5</td>\n",
       "      <td>4</td>\n",
       "      <td>75811</td>\n",
       "      <td>4</td>\n",
       "      <td>2</td>\n",
       "    </tr>\n",
       "    <tr>\n",
       "      <th>top</th>\n",
       "      <td>53919649</td>\n",
       "      <td>sbi_atm_cum_debit_card</td>\n",
       "      <td>47334</td>\n",
       "      <td>cat_1</td>\n",
       "      <td>other_pcs</td>\n",
       "      <td>2016-12-24 16:30:13+00:00</td>\n",
       "      <td>2</td>\n",
       "      <td>0</td>\n",
       "    </tr>\n",
       "    <tr>\n",
       "      <th>freq</th>\n",
       "      <td>3240</td>\n",
       "      <td>30538</td>\n",
       "      <td>26105</td>\n",
       "      <td>36306</td>\n",
       "      <td>45560</td>\n",
       "      <td>12</td>\n",
       "      <td>63899</td>\n",
       "      <td>76375</td>\n",
       "    </tr>\n",
       "  </tbody>\n",
       "</table>\n",
       "</div>"
      ],
      "text/plain": [
       "         user_id          payment_method  partner_id partner_category  \\\n",
       "count      76529                   76529       76529            76529   \n",
       "unique      3594                       6          23                5   \n",
       "top     53919649  sbi_atm_cum_debit_card       47334            cat_1   \n",
       "freq        3240                   30538       26105            36306   \n",
       "\n",
       "       device_type     transaction_initiation  partner_pricing_category  \\\n",
       "count        76529                      76529                     76529   \n",
       "unique           4                      75811                         4   \n",
       "top      other_pcs  2016-12-24 16:30:13+00:00                         2   \n",
       "freq         45560                         12                     63899   \n",
       "\n",
       "        is_fraud  \n",
       "count      76529  \n",
       "unique         2  \n",
       "top            0  \n",
       "freq       76375  "
      ]
     },
     "execution_count": 43,
     "metadata": {},
     "output_type": "execute_result"
    }
   ],
   "source": [
    "train_data.describe(include='category')"
   ]
  },
  {
   "cell_type": "code",
   "execution_count": 44,
   "metadata": {
    "scrolled": false
   },
   "outputs": [
    {
     "data": {
      "image/png": "[encoded data removed]",
      "text/plain": [
       "<Figure size 720x720 with 1 Axes>"
      ]
     },
     "metadata": {
      "needs_background": "light"
     },
     "output_type": "display_data"
    }
   ],
   "source": [
    "## Probability of Fraud Transaction wrt payment_method\n",
    "plt.figure(figsize=(10,10))\n",
    "sns.barplot(data = probStatusCategorical(['payment_method']),\n",
    "            x = 'Condition', y = 'Probability', hue = 'Level', palette = 'Set2')\n",
    "plt.title('Probability of Fraud Transaction')\n",
    "plt.ylabel('Probability')\n",
    "plt.show()"
   ]
  },
  {
   "cell_type": "code",
   "execution_count": 45,
   "metadata": {
    "scrolled": false
   },
   "outputs": [
    {
     "data": {
      "image/png": "[encoded data removed]",
      "text/plain": [
       "<Figure size 720x720 with 1 Axes>"
      ]
     },
     "metadata": {
      "needs_background": "light"
     },
     "output_type": "display_data"
    }
   ],
   "source": [
    "## Probability of Fraud Transaction wrt partner_id\n",
    "plt.figure(figsize=(10,10))\n",
    "sns.barplot(data = probStatusCategorical(['partner_id']),\n",
    "            x = 'Condition', y = 'Probability', hue = 'Level', palette = 'Set2')\n",
    "plt.title('Probability of Fraud Transaction')\n",
    "plt.ylabel('Probability')\n",
    "plt.show()"
   ]
  },
  {
   "cell_type": "code",
   "execution_count": 46,
   "metadata": {},
   "outputs": [
    {
     "data": {
      "image/png": "[encoded data removed]",
      "text/plain": [
       "<Figure size 720x720 with 1 Axes>"
      ]
     },
     "metadata": {
      "needs_background": "light"
     },
     "output_type": "display_data"
    }
   ],
   "source": [
    "## Probability of Fraud Transaction wrt partner_category\n",
    "plt.figure(figsize=(10,10))\n",
    "sns.barplot(data = probStatusCategorical(['partner_category']),\n",
    "            x = 'Condition', y = 'Probability', hue = 'Level', palette = 'Set2')\n",
    "plt.title('Probability of Fraud Transaction')\n",
    "plt.ylabel('Probability')\n",
    "plt.show()"
   ]
  },
  {
   "cell_type": "code",
   "execution_count": 47,
   "metadata": {},
   "outputs": [
    {
     "data": {
      "image/png": "[encoded data removed]",
      "text/plain": [
       "<Figure size 720x720 with 1 Axes>"
      ]
     },
     "metadata": {
      "needs_background": "light"
     },
     "output_type": "display_data"
    }
   ],
   "source": [
    "## Probability of Fraud Transaction wrt device_type\n",
    "plt.figure(figsize=(10,10))\n",
    "sns.barplot(data = probStatusCategorical(['device_type']),\n",
    "            x = 'Condition', y = 'Probability', hue = 'Level', palette = 'Set2')\n",
    "plt.title('Probability of Fraud Transaction')\n",
    "plt.ylabel('Probability')\n",
    "plt.show()\n"
   ]
  },
  {
   "cell_type": "code",
   "execution_count": 48,
   "metadata": {},
   "outputs": [
    {
     "data": {
      "image/png": "[encoded data removed]",
      "text/plain": [
       "<Figure size 720x720 with 1 Axes>"
      ]
     },
     "metadata": {
      "needs_background": "light"
     },
     "output_type": "display_data"
    }
   ],
   "source": [
    "## Probability of Fraud Transaction wrt partner_pricing_category\n",
    "plt.figure(figsize=(10,10))\n",
    "sns.barplot(data = probStatusCategorical(['partner_pricing_category']),\n",
    "            x = 'Condition', y = 'Probability', hue = 'Level', palette = 'Set2')\n",
    "plt.title('Probability of Fraud Transaction')\n",
    "plt.ylabel('Probability')\n",
    "plt.show()"
   ]
  },
  {
   "cell_type": "markdown",
   "metadata": {},
   "source": [
    "__Observation :__\n",
    "\n",
    " - We can clearly see the probability of fraud transaction wrt particular categorical columns"
   ]
  },
  {
   "cell_type": "markdown",
   "metadata": {},
   "source": [
    "### Check relation between target other variables"
   ]
  },
  {
   "cell_type": "code",
   "execution_count": 49,
   "metadata": {
    "scrolled": true
   },
   "outputs": [
    {
     "data": {
      "text/html": [
       "<div>\n",
       "<style scoped>\n",
       "    .dataframe tbody tr th:only-of-type {\n",
       "        vertical-align: middle;\n",
       "    }\n",
       "\n",
       "    .dataframe tbody tr th {\n",
       "        vertical-align: top;\n",
       "    }\n",
       "\n",
       "    .dataframe thead th {\n",
       "        text-align: right;\n",
       "    }\n",
       "</style>\n",
       "<table border=\"1\" class=\"dataframe\">\n",
       "  <thead>\n",
       "    <tr style=\"text-align: right;\">\n",
       "      <th></th>\n",
       "      <th>partner_pricing_category</th>\n",
       "      <th>is_fraud</th>\n",
       "      <th>Count</th>\n",
       "    </tr>\n",
       "  </thead>\n",
       "  <tbody>\n",
       "    <tr>\n",
       "      <th>0</th>\n",
       "      <td>0</td>\n",
       "      <td>0</td>\n",
       "      <td>271</td>\n",
       "    </tr>\n",
       "    <tr>\n",
       "      <th>1</th>\n",
       "      <td>0</td>\n",
       "      <td>1</td>\n",
       "      <td>29</td>\n",
       "    </tr>\n",
       "    <tr>\n",
       "      <th>2</th>\n",
       "      <td>1</td>\n",
       "      <td>0</td>\n",
       "      <td>1491</td>\n",
       "    </tr>\n",
       "    <tr>\n",
       "      <th>3</th>\n",
       "      <td>1</td>\n",
       "      <td>1</td>\n",
       "      <td>6</td>\n",
       "    </tr>\n",
       "    <tr>\n",
       "      <th>4</th>\n",
       "      <td>2</td>\n",
       "      <td>0</td>\n",
       "      <td>63789</td>\n",
       "    </tr>\n",
       "    <tr>\n",
       "      <th>5</th>\n",
       "      <td>2</td>\n",
       "      <td>1</td>\n",
       "      <td>110</td>\n",
       "    </tr>\n",
       "    <tr>\n",
       "      <th>6</th>\n",
       "      <td>4</td>\n",
       "      <td>0</td>\n",
       "      <td>10824</td>\n",
       "    </tr>\n",
       "    <tr>\n",
       "      <th>7</th>\n",
       "      <td>4</td>\n",
       "      <td>1</td>\n",
       "      <td>9</td>\n",
       "    </tr>\n",
       "  </tbody>\n",
       "</table>\n",
       "</div>"
      ],
      "text/plain": [
       "  partner_pricing_category is_fraud  Count\n",
       "0                        0        0    271\n",
       "1                        0        1     29\n",
       "2                        1        0   1491\n",
       "3                        1        1      6\n",
       "4                        2        0  63789\n",
       "5                        2        1    110\n",
       "6                        4        0  10824\n",
       "7                        4        1      9"
      ]
     },
     "execution_count": 49,
     "metadata": {},
     "output_type": "execute_result"
    }
   ],
   "source": [
    "temp = train_data.groupby(['partner_pricing_category','is_fraud']).size().to_frame()\n",
    "temp = temp.reset_index()\n",
    "temp.columns = ['partner_pricing_category','is_fraud','Count']\n",
    "temp"
   ]
  },
  {
   "cell_type": "code",
   "execution_count": 50,
   "metadata": {
    "scrolled": true
   },
   "outputs": [
    {
     "data": {
      "text/plain": [
       "2    63899\n",
       "4    10833\n",
       "1     1497\n",
       "0      300\n",
       "Name: partner_pricing_category, dtype: int64"
      ]
     },
     "execution_count": 50,
     "metadata": {},
     "output_type": "execute_result"
    }
   ],
   "source": [
    "train_data.partner_pricing_category.value_counts()"
   ]
  },
  {
   "cell_type": "code",
   "execution_count": 51,
   "metadata": {
    "scrolled": true
   },
   "outputs": [
    {
     "data": {
      "text/html": [
       "<div>\n",
       "<style scoped>\n",
       "    .dataframe tbody tr th:only-of-type {\n",
       "        vertical-align: middle;\n",
       "    }\n",
       "\n",
       "    .dataframe tbody tr th {\n",
       "        vertical-align: top;\n",
       "    }\n",
       "\n",
       "    .dataframe thead th {\n",
       "        text-align: right;\n",
       "    }\n",
       "</style>\n",
       "<table border=\"1\" class=\"dataframe\">\n",
       "  <thead>\n",
       "    <tr style=\"text-align: right;\">\n",
       "      <th></th>\n",
       "      <th>payment_method</th>\n",
       "      <th>is_fraud</th>\n",
       "      <th>Count</th>\n",
       "    </tr>\n",
       "  </thead>\n",
       "  <tbody>\n",
       "    <tr>\n",
       "      <th>0</th>\n",
       "      <td>e_wallet_payments</td>\n",
       "      <td>0</td>\n",
       "      <td>27382</td>\n",
       "    </tr>\n",
       "    <tr>\n",
       "      <th>1</th>\n",
       "      <td>e_wallet_payments</td>\n",
       "      <td>1</td>\n",
       "      <td>2</td>\n",
       "    </tr>\n",
       "    <tr>\n",
       "      <th>2</th>\n",
       "      <td>other_debit_cards</td>\n",
       "      <td>0</td>\n",
       "      <td>4452</td>\n",
       "    </tr>\n",
       "    <tr>\n",
       "      <th>3</th>\n",
       "      <td>other_debit_cards</td>\n",
       "      <td>1</td>\n",
       "      <td>43</td>\n",
       "    </tr>\n",
       "    <tr>\n",
       "      <th>4</th>\n",
       "      <td>sbi_atm_cum_debit_card</td>\n",
       "      <td>0</td>\n",
       "      <td>30533</td>\n",
       "    </tr>\n",
       "    <tr>\n",
       "      <th>5</th>\n",
       "      <td>sbi_atm_cum_debit_card</td>\n",
       "      <td>1</td>\n",
       "      <td>5</td>\n",
       "    </tr>\n",
       "    <tr>\n",
       "      <th>6</th>\n",
       "      <td>unified_payments_interface</td>\n",
       "      <td>0</td>\n",
       "      <td>15</td>\n",
       "    </tr>\n",
       "    <tr>\n",
       "      <th>7</th>\n",
       "      <td>unified_payments_interface</td>\n",
       "      <td>1</td>\n",
       "      <td>0</td>\n",
       "    </tr>\n",
       "    <tr>\n",
       "      <th>8</th>\n",
       "      <td>visa_master_credit_cards</td>\n",
       "      <td>0</td>\n",
       "      <td>2401</td>\n",
       "    </tr>\n",
       "    <tr>\n",
       "      <th>9</th>\n",
       "      <td>visa_master_credit_cards</td>\n",
       "      <td>1</td>\n",
       "      <td>53</td>\n",
       "    </tr>\n",
       "    <tr>\n",
       "      <th>10</th>\n",
       "      <td>visa_master_debit_cards</td>\n",
       "      <td>0</td>\n",
       "      <td>11592</td>\n",
       "    </tr>\n",
       "    <tr>\n",
       "      <th>11</th>\n",
       "      <td>visa_master_debit_cards</td>\n",
       "      <td>1</td>\n",
       "      <td>51</td>\n",
       "    </tr>\n",
       "  </tbody>\n",
       "</table>\n",
       "</div>"
      ],
      "text/plain": [
       "                payment_method is_fraud  Count\n",
       "0            e_wallet_payments        0  27382\n",
       "1            e_wallet_payments        1      2\n",
       "2            other_debit_cards        0   4452\n",
       "3            other_debit_cards        1     43\n",
       "4       sbi_atm_cum_debit_card        0  30533\n",
       "5       sbi_atm_cum_debit_card        1      5\n",
       "6   unified_payments_interface        0     15\n",
       "7   unified_payments_interface        1      0\n",
       "8     visa_master_credit_cards        0   2401\n",
       "9     visa_master_credit_cards        1     53\n",
       "10     visa_master_debit_cards        0  11592\n",
       "11     visa_master_debit_cards        1     51"
      ]
     },
     "execution_count": 51,
     "metadata": {},
     "output_type": "execute_result"
    }
   ],
   "source": [
    "temp = train_data.groupby(['payment_method','is_fraud']).size().to_frame()\n",
    "temp = temp.reset_index()\n",
    "temp.columns = ['payment_method','is_fraud','Count']\n",
    "temp"
   ]
  },
  {
   "cell_type": "code",
   "execution_count": 52,
   "metadata": {
    "scrolled": true
   },
   "outputs": [
    {
     "data": {
      "text/plain": [
       "sbi_atm_cum_debit_card        30538\n",
       "e_wallet_payments             27384\n",
       "visa_master_debit_cards       11643\n",
       "other_debit_cards              4495\n",
       "visa_master_credit_cards       2454\n",
       "unified_payments_interface       15\n",
       "Name: payment_method, dtype: int64"
      ]
     },
     "execution_count": 52,
     "metadata": {},
     "output_type": "execute_result"
    }
   ],
   "source": [
    "train_data.payment_method.value_counts()"
   ]
  },
  {
   "cell_type": "code",
   "execution_count": 53,
   "metadata": {
    "scrolled": true
   },
   "outputs": [
    {
     "data": {
      "text/html": [
       "<div>\n",
       "<style scoped>\n",
       "    .dataframe tbody tr th:only-of-type {\n",
       "        vertical-align: middle;\n",
       "    }\n",
       "\n",
       "    .dataframe tbody tr th {\n",
       "        vertical-align: top;\n",
       "    }\n",
       "\n",
       "    .dataframe thead th {\n",
       "        text-align: right;\n",
       "    }\n",
       "</style>\n",
       "<table border=\"1\" class=\"dataframe\">\n",
       "  <thead>\n",
       "    <tr style=\"text-align: right;\">\n",
       "      <th></th>\n",
       "      <th>partner_category</th>\n",
       "      <th>is_fraud</th>\n",
       "      <th>Count</th>\n",
       "    </tr>\n",
       "  </thead>\n",
       "  <tbody>\n",
       "    <tr>\n",
       "      <th>0</th>\n",
       "      <td>cat_1</td>\n",
       "      <td>0</td>\n",
       "      <td>36178</td>\n",
       "    </tr>\n",
       "    <tr>\n",
       "      <th>1</th>\n",
       "      <td>cat_1</td>\n",
       "      <td>1</td>\n",
       "      <td>128</td>\n",
       "    </tr>\n",
       "    <tr>\n",
       "      <th>2</th>\n",
       "      <td>cat_2</td>\n",
       "      <td>0</td>\n",
       "      <td>36004</td>\n",
       "    </tr>\n",
       "    <tr>\n",
       "      <th>3</th>\n",
       "      <td>cat_2</td>\n",
       "      <td>1</td>\n",
       "      <td>15</td>\n",
       "    </tr>\n",
       "    <tr>\n",
       "      <th>4</th>\n",
       "      <td>cat_3</td>\n",
       "      <td>0</td>\n",
       "      <td>1527</td>\n",
       "    </tr>\n",
       "    <tr>\n",
       "      <th>5</th>\n",
       "      <td>cat_3</td>\n",
       "      <td>1</td>\n",
       "      <td>9</td>\n",
       "    </tr>\n",
       "    <tr>\n",
       "      <th>6</th>\n",
       "      <td>cat_4</td>\n",
       "      <td>0</td>\n",
       "      <td>1310</td>\n",
       "    </tr>\n",
       "    <tr>\n",
       "      <th>7</th>\n",
       "      <td>cat_4</td>\n",
       "      <td>1</td>\n",
       "      <td>0</td>\n",
       "    </tr>\n",
       "    <tr>\n",
       "      <th>8</th>\n",
       "      <td>cat_5</td>\n",
       "      <td>0</td>\n",
       "      <td>1356</td>\n",
       "    </tr>\n",
       "    <tr>\n",
       "      <th>9</th>\n",
       "      <td>cat_5</td>\n",
       "      <td>1</td>\n",
       "      <td>2</td>\n",
       "    </tr>\n",
       "  </tbody>\n",
       "</table>\n",
       "</div>"
      ],
      "text/plain": [
       "  partner_category is_fraud  Count\n",
       "0            cat_1        0  36178\n",
       "1            cat_1        1    128\n",
       "2            cat_2        0  36004\n",
       "3            cat_2        1     15\n",
       "4            cat_3        0   1527\n",
       "5            cat_3        1      9\n",
       "6            cat_4        0   1310\n",
       "7            cat_4        1      0\n",
       "8            cat_5        0   1356\n",
       "9            cat_5        1      2"
      ]
     },
     "execution_count": 53,
     "metadata": {},
     "output_type": "execute_result"
    }
   ],
   "source": [
    "temp = train_data.groupby(['partner_category','is_fraud']).size().to_frame()\n",
    "temp = temp.reset_index()\n",
    "temp.columns = ['partner_category','is_fraud','Count']\n",
    "temp"
   ]
  },
  {
   "cell_type": "code",
   "execution_count": 54,
   "metadata": {
    "scrolled": true
   },
   "outputs": [
    {
     "data": {
      "text/plain": [
       "cat_1    36306\n",
       "cat_2    36019\n",
       "cat_3     1536\n",
       "cat_5     1358\n",
       "cat_4     1310\n",
       "Name: partner_category, dtype: int64"
      ]
     },
     "execution_count": 54,
     "metadata": {},
     "output_type": "execute_result"
    }
   ],
   "source": [
    "train_data.partner_category.value_counts()"
   ]
  },
  {
   "cell_type": "code",
   "execution_count": 55,
   "metadata": {
    "scrolled": true
   },
   "outputs": [
    {
     "data": {
      "text/html": [
       "<div>\n",
       "<style scoped>\n",
       "    .dataframe tbody tr th:only-of-type {\n",
       "        vertical-align: middle;\n",
       "    }\n",
       "\n",
       "    .dataframe tbody tr th {\n",
       "        vertical-align: top;\n",
       "    }\n",
       "\n",
       "    .dataframe thead th {\n",
       "        text-align: right;\n",
       "    }\n",
       "</style>\n",
       "<table border=\"1\" class=\"dataframe\">\n",
       "  <thead>\n",
       "    <tr style=\"text-align: right;\">\n",
       "      <th></th>\n",
       "      <th>device_type</th>\n",
       "      <th>is_fraud</th>\n",
       "      <th>Count</th>\n",
       "    </tr>\n",
       "  </thead>\n",
       "  <tbody>\n",
       "    <tr>\n",
       "      <th>0</th>\n",
       "      <td>android_devices</td>\n",
       "      <td>0</td>\n",
       "      <td>29657</td>\n",
       "    </tr>\n",
       "    <tr>\n",
       "      <th>1</th>\n",
       "      <td>android_devices</td>\n",
       "      <td>1</td>\n",
       "      <td>5</td>\n",
       "    </tr>\n",
       "    <tr>\n",
       "      <th>2</th>\n",
       "      <td>ios_devices</td>\n",
       "      <td>0</td>\n",
       "      <td>876</td>\n",
       "    </tr>\n",
       "    <tr>\n",
       "      <th>3</th>\n",
       "      <td>ios_devices</td>\n",
       "      <td>1</td>\n",
       "      <td>0</td>\n",
       "    </tr>\n",
       "    <tr>\n",
       "      <th>4</th>\n",
       "      <td>other_pcs</td>\n",
       "      <td>0</td>\n",
       "      <td>45415</td>\n",
       "    </tr>\n",
       "    <tr>\n",
       "      <th>5</th>\n",
       "      <td>other_pcs</td>\n",
       "      <td>1</td>\n",
       "      <td>145</td>\n",
       "    </tr>\n",
       "    <tr>\n",
       "      <th>6</th>\n",
       "      <td>windows_pcs</td>\n",
       "      <td>0</td>\n",
       "      <td>427</td>\n",
       "    </tr>\n",
       "    <tr>\n",
       "      <th>7</th>\n",
       "      <td>windows_pcs</td>\n",
       "      <td>1</td>\n",
       "      <td>4</td>\n",
       "    </tr>\n",
       "  </tbody>\n",
       "</table>\n",
       "</div>"
      ],
      "text/plain": [
       "       device_type is_fraud  Count\n",
       "0  android_devices        0  29657\n",
       "1  android_devices        1      5\n",
       "2      ios_devices        0    876\n",
       "3      ios_devices        1      0\n",
       "4        other_pcs        0  45415\n",
       "5        other_pcs        1    145\n",
       "6      windows_pcs        0    427\n",
       "7      windows_pcs        1      4"
      ]
     },
     "execution_count": 55,
     "metadata": {},
     "output_type": "execute_result"
    }
   ],
   "source": [
    "temp = train_data.groupby(['device_type','is_fraud']).size().to_frame()\n",
    "temp = temp.reset_index()\n",
    "temp.columns = ['device_type','is_fraud','Count']\n",
    "temp"
   ]
  },
  {
   "cell_type": "code",
   "execution_count": 56,
   "metadata": {
    "scrolled": true
   },
   "outputs": [
    {
     "data": {
      "text/plain": [
       "other_pcs          45560\n",
       "android_devices    29662\n",
       "ios_devices          876\n",
       "windows_pcs          431\n",
       "Name: device_type, dtype: int64"
      ]
     },
     "execution_count": 56,
     "metadata": {},
     "output_type": "execute_result"
    }
   ],
   "source": [
    "train_data.device_type.value_counts()"
   ]
  },
  {
   "cell_type": "code",
   "execution_count": 57,
   "metadata": {
    "scrolled": true
   },
   "outputs": [
    {
     "data": {
      "text/html": [
       "<div>\n",
       "<style scoped>\n",
       "    .dataframe tbody tr th:only-of-type {\n",
       "        vertical-align: middle;\n",
       "    }\n",
       "\n",
       "    .dataframe tbody tr th {\n",
       "        vertical-align: top;\n",
       "    }\n",
       "\n",
       "    .dataframe thead th {\n",
       "        text-align: right;\n",
       "    }\n",
       "</style>\n",
       "<table border=\"1\" class=\"dataframe\">\n",
       "  <thead>\n",
       "    <tr style=\"text-align: right;\">\n",
       "      <th></th>\n",
       "      <th>money_transacted</th>\n",
       "      <th>is_fraud</th>\n",
       "      <th>Count</th>\n",
       "    </tr>\n",
       "  </thead>\n",
       "  <tbody>\n",
       "    <tr>\n",
       "      <th>0</th>\n",
       "      <td>-20000.00</td>\n",
       "      <td>0</td>\n",
       "      <td>1</td>\n",
       "    </tr>\n",
       "    <tr>\n",
       "      <th>1</th>\n",
       "      <td>-20000.00</td>\n",
       "      <td>1</td>\n",
       "      <td>0</td>\n",
       "    </tr>\n",
       "    <tr>\n",
       "      <th>2</th>\n",
       "      <td>-18000.00</td>\n",
       "      <td>0</td>\n",
       "      <td>0</td>\n",
       "    </tr>\n",
       "    <tr>\n",
       "      <th>3</th>\n",
       "      <td>-18000.00</td>\n",
       "      <td>1</td>\n",
       "      <td>1</td>\n",
       "    </tr>\n",
       "    <tr>\n",
       "      <th>4</th>\n",
       "      <td>-10000.00</td>\n",
       "      <td>0</td>\n",
       "      <td>0</td>\n",
       "    </tr>\n",
       "    <tr>\n",
       "      <th>...</th>\n",
       "      <td>...</td>\n",
       "      <td>...</td>\n",
       "      <td>...</td>\n",
       "    </tr>\n",
       "    <tr>\n",
       "      <th>2903</th>\n",
       "      <td>196000.00</td>\n",
       "      <td>1</td>\n",
       "      <td>1</td>\n",
       "    </tr>\n",
       "    <tr>\n",
       "      <th>2904</th>\n",
       "      <td>197000.00</td>\n",
       "      <td>0</td>\n",
       "      <td>0</td>\n",
       "    </tr>\n",
       "    <tr>\n",
       "      <th>2905</th>\n",
       "      <td>197000.00</td>\n",
       "      <td>1</td>\n",
       "      <td>1</td>\n",
       "    </tr>\n",
       "    <tr>\n",
       "      <th>2906</th>\n",
       "      <td>197217.76</td>\n",
       "      <td>0</td>\n",
       "      <td>0</td>\n",
       "    </tr>\n",
       "    <tr>\n",
       "      <th>2907</th>\n",
       "      <td>197217.76</td>\n",
       "      <td>1</td>\n",
       "      <td>1</td>\n",
       "    </tr>\n",
       "  </tbody>\n",
       "</table>\n",
       "<p>2908 rows × 3 columns</p>\n",
       "</div>"
      ],
      "text/plain": [
       "      money_transacted is_fraud  Count\n",
       "0            -20000.00        0      1\n",
       "1            -20000.00        1      0\n",
       "2            -18000.00        0      0\n",
       "3            -18000.00        1      1\n",
       "4            -10000.00        0      0\n",
       "...                ...      ...    ...\n",
       "2903         196000.00        1      1\n",
       "2904         197000.00        0      0\n",
       "2905         197000.00        1      1\n",
       "2906         197217.76        0      0\n",
       "2907         197217.76        1      1\n",
       "\n",
       "[2908 rows x 3 columns]"
      ]
     },
     "execution_count": 57,
     "metadata": {},
     "output_type": "execute_result"
    }
   ],
   "source": [
    "temp = train_data.groupby(['money_transacted','is_fraud']).size().to_frame()\n",
    "temp = temp.reset_index()\n",
    "temp.columns = ['money_transacted','is_fraud','Count']\n",
    "temp"
   ]
  },
  {
   "cell_type": "code",
   "execution_count": 58,
   "metadata": {
    "scrolled": true
   },
   "outputs": [
    {
     "data": {
      "text/plain": [
       " 20.0000     13743\n",
       "-1.0000       6838\n",
       " 200.0000     6606\n",
       " 40.0000      4406\n",
       " 10.0000      4161\n",
       "             ...  \n",
       " 26.2000         1\n",
       "-3.7528          1\n",
       "-70.2000         1\n",
       " 581.0000        1\n",
       "-299.9800        1\n",
       "Name: money_transacted, Length: 1454, dtype: int64"
      ]
     },
     "execution_count": 58,
     "metadata": {},
     "output_type": "execute_result"
    }
   ],
   "source": [
    "train_data.money_transacted.value_counts()"
   ]
  },
  {
   "cell_type": "code",
   "execution_count": 59,
   "metadata": {
    "scrolled": true
   },
   "outputs": [
    {
     "data": {
      "text/html": [
       "<div>\n",
       "<style scoped>\n",
       "    .dataframe tbody tr th:only-of-type {\n",
       "        vertical-align: middle;\n",
       "    }\n",
       "\n",
       "    .dataframe tbody tr th {\n",
       "        vertical-align: top;\n",
       "    }\n",
       "\n",
       "    .dataframe thead th {\n",
       "        text-align: right;\n",
       "    }\n",
       "</style>\n",
       "<table border=\"1\" class=\"dataframe\">\n",
       "  <thead>\n",
       "    <tr style=\"text-align: right;\">\n",
       "      <th></th>\n",
       "      <th>user_id</th>\n",
       "      <th>is_fraud</th>\n",
       "      <th>Count</th>\n",
       "    </tr>\n",
       "  </thead>\n",
       "  <tbody>\n",
       "    <tr>\n",
       "      <th>0</th>\n",
       "      <td>1</td>\n",
       "      <td>0</td>\n",
       "      <td>1</td>\n",
       "    </tr>\n",
       "    <tr>\n",
       "      <th>1</th>\n",
       "      <td>1</td>\n",
       "      <td>1</td>\n",
       "      <td>0</td>\n",
       "    </tr>\n",
       "    <tr>\n",
       "      <th>2</th>\n",
       "      <td>4</td>\n",
       "      <td>0</td>\n",
       "      <td>1</td>\n",
       "    </tr>\n",
       "    <tr>\n",
       "      <th>3</th>\n",
       "      <td>4</td>\n",
       "      <td>1</td>\n",
       "      <td>0</td>\n",
       "    </tr>\n",
       "    <tr>\n",
       "      <th>4</th>\n",
       "      <td>9</td>\n",
       "      <td>0</td>\n",
       "      <td>1</td>\n",
       "    </tr>\n",
       "    <tr>\n",
       "      <th>...</th>\n",
       "      <td>...</td>\n",
       "      <td>...</td>\n",
       "      <td>...</td>\n",
       "    </tr>\n",
       "    <tr>\n",
       "      <th>7183</th>\n",
       "      <td>55890576</td>\n",
       "      <td>1</td>\n",
       "      <td>0</td>\n",
       "    </tr>\n",
       "    <tr>\n",
       "      <th>7184</th>\n",
       "      <td>55905529</td>\n",
       "      <td>0</td>\n",
       "      <td>1</td>\n",
       "    </tr>\n",
       "    <tr>\n",
       "      <th>7185</th>\n",
       "      <td>55905529</td>\n",
       "      <td>1</td>\n",
       "      <td>0</td>\n",
       "    </tr>\n",
       "    <tr>\n",
       "      <th>7186</th>\n",
       "      <td>55920484</td>\n",
       "      <td>0</td>\n",
       "      <td>1</td>\n",
       "    </tr>\n",
       "    <tr>\n",
       "      <th>7187</th>\n",
       "      <td>55920484</td>\n",
       "      <td>1</td>\n",
       "      <td>0</td>\n",
       "    </tr>\n",
       "  </tbody>\n",
       "</table>\n",
       "<p>7188 rows × 3 columns</p>\n",
       "</div>"
      ],
      "text/plain": [
       "       user_id is_fraud  Count\n",
       "0            1        0      1\n",
       "1            1        1      0\n",
       "2            4        0      1\n",
       "3            4        1      0\n",
       "4            9        0      1\n",
       "...        ...      ...    ...\n",
       "7183  55890576        1      0\n",
       "7184  55905529        0      1\n",
       "7185  55905529        1      0\n",
       "7186  55920484        0      1\n",
       "7187  55920484        1      0\n",
       "\n",
       "[7188 rows x 3 columns]"
      ]
     },
     "execution_count": 59,
     "metadata": {},
     "output_type": "execute_result"
    }
   ],
   "source": [
    "temp = train_data.groupby(['user_id','is_fraud']).size().to_frame()\n",
    "temp = temp.reset_index()\n",
    "temp.columns = ['user_id','is_fraud','Count']\n",
    "temp"
   ]
  },
  {
   "cell_type": "markdown",
   "metadata": {},
   "source": [
    "# Feature Engineering"
   ]
  },
  {
   "cell_type": "markdown",
   "metadata": {},
   "source": [
    "### Generating new features from transaction_initiation feature"
   ]
  },
  {
   "cell_type": "code",
   "execution_count": 60,
   "metadata": {},
   "outputs": [],
   "source": [
    "train_data['transaction_DateTime'] = pd.to_datetime(train_data['transaction_initiation'])\n",
    "train_data['transaction_year'] = train_data['transaction_DateTime'].dt.year\n",
    "train_data['transaction_month']=train_data['transaction_DateTime'].dt.month\n",
    "train_data['transaction_hour'] = train_data['transaction_DateTime'].dt.hour\n",
    "train_data['transaction_weekday']=train_data['transaction_DateTime'].dt.weekday"
   ]
  },
  {
   "cell_type": "code",
   "execution_count": 61,
   "metadata": {},
   "outputs": [],
   "source": [
    "test_data['transaction_DateTime'] = pd.to_datetime(test_data['transaction_initiation'])\n",
    "test_data['transaction_year'] = test_data['transaction_DateTime'].dt.year\n",
    "test_data['transaction_month']=test_data['transaction_DateTime'].dt.month\n",
    "test_data['transaction_hour'] = test_data['transaction_DateTime'].dt.hour\n",
    "test_data['transaction_weekday']=test_data['transaction_DateTime'].dt.weekday"
   ]
  },
  {
   "cell_type": "code",
   "execution_count": 62,
   "metadata": {},
   "outputs": [
    {
     "data": {
      "text/html": [
       "<div>\n",
       "<style scoped>\n",
       "    .dataframe tbody tr th:only-of-type {\n",
       "        vertical-align: middle;\n",
       "    }\n",
       "\n",
       "    .dataframe tbody tr th {\n",
       "        vertical-align: top;\n",
       "    }\n",
       "\n",
       "    .dataframe thead th {\n",
       "        text-align: right;\n",
       "    }\n",
       "</style>\n",
       "<table border=\"1\" class=\"dataframe\">\n",
       "  <thead>\n",
       "    <tr style=\"text-align: right;\">\n",
       "      <th></th>\n",
       "      <th>transaction_DateTime</th>\n",
       "      <th>transaction_year</th>\n",
       "      <th>transaction_month</th>\n",
       "      <th>transaction_hour</th>\n",
       "      <th>transaction_weekday</th>\n",
       "    </tr>\n",
       "  </thead>\n",
       "  <tbody>\n",
       "    <tr>\n",
       "      <th>0</th>\n",
       "      <td>2016-11-15 19:16:12+00:00</td>\n",
       "      <td>2016</td>\n",
       "      <td>11</td>\n",
       "      <td>19</td>\n",
       "      <td>1</td>\n",
       "    </tr>\n",
       "    <tr>\n",
       "      <th>1</th>\n",
       "      <td>2017-01-11 09:25:33+00:00</td>\n",
       "      <td>2017</td>\n",
       "      <td>1</td>\n",
       "      <td>9</td>\n",
       "      <td>2</td>\n",
       "    </tr>\n",
       "    <tr>\n",
       "      <th>2</th>\n",
       "      <td>2016-12-07 07:58:09+00:00</td>\n",
       "      <td>2016</td>\n",
       "      <td>12</td>\n",
       "      <td>7</td>\n",
       "      <td>2</td>\n",
       "    </tr>\n",
       "    <tr>\n",
       "      <th>3</th>\n",
       "      <td>2017-01-11 16:15:44+00:00</td>\n",
       "      <td>2017</td>\n",
       "      <td>1</td>\n",
       "      <td>16</td>\n",
       "      <td>2</td>\n",
       "    </tr>\n",
       "    <tr>\n",
       "      <th>4</th>\n",
       "      <td>2016-11-16 17:04:42+00:00</td>\n",
       "      <td>2016</td>\n",
       "      <td>11</td>\n",
       "      <td>17</td>\n",
       "      <td>2</td>\n",
       "    </tr>\n",
       "    <tr>\n",
       "      <th>...</th>\n",
       "      <td>...</td>\n",
       "      <td>...</td>\n",
       "      <td>...</td>\n",
       "      <td>...</td>\n",
       "      <td>...</td>\n",
       "    </tr>\n",
       "    <tr>\n",
       "      <th>76524</th>\n",
       "      <td>2016-11-30 13:40:45+00:00</td>\n",
       "      <td>2016</td>\n",
       "      <td>11</td>\n",
       "      <td>13</td>\n",
       "      <td>2</td>\n",
       "    </tr>\n",
       "    <tr>\n",
       "      <th>76525</th>\n",
       "      <td>2017-01-08 08:35:31+00:00</td>\n",
       "      <td>2017</td>\n",
       "      <td>1</td>\n",
       "      <td>8</td>\n",
       "      <td>6</td>\n",
       "    </tr>\n",
       "    <tr>\n",
       "      <th>76526</th>\n",
       "      <td>2016-12-26 21:47:08+00:00</td>\n",
       "      <td>2016</td>\n",
       "      <td>12</td>\n",
       "      <td>21</td>\n",
       "      <td>0</td>\n",
       "    </tr>\n",
       "    <tr>\n",
       "      <th>76527</th>\n",
       "      <td>2016-12-11 13:44:06+00:00</td>\n",
       "      <td>2016</td>\n",
       "      <td>12</td>\n",
       "      <td>13</td>\n",
       "      <td>6</td>\n",
       "    </tr>\n",
       "    <tr>\n",
       "      <th>76528</th>\n",
       "      <td>2017-01-11 19:08:18+00:00</td>\n",
       "      <td>2017</td>\n",
       "      <td>1</td>\n",
       "      <td>19</td>\n",
       "      <td>2</td>\n",
       "    </tr>\n",
       "  </tbody>\n",
       "</table>\n",
       "<p>76529 rows × 5 columns</p>\n",
       "</div>"
      ],
      "text/plain": [
       "           transaction_DateTime  transaction_year  transaction_month  \\\n",
       "0     2016-11-15 19:16:12+00:00              2016                 11   \n",
       "1     2017-01-11 09:25:33+00:00              2017                  1   \n",
       "2     2016-12-07 07:58:09+00:00              2016                 12   \n",
       "3     2017-01-11 16:15:44+00:00              2017                  1   \n",
       "4     2016-11-16 17:04:42+00:00              2016                 11   \n",
       "...                         ...               ...                ...   \n",
       "76524 2016-11-30 13:40:45+00:00              2016                 11   \n",
       "76525 2017-01-08 08:35:31+00:00              2017                  1   \n",
       "76526 2016-12-26 21:47:08+00:00              2016                 12   \n",
       "76527 2016-12-11 13:44:06+00:00              2016                 12   \n",
       "76528 2017-01-11 19:08:18+00:00              2017                  1   \n",
       "\n",
       "       transaction_hour  transaction_weekday  \n",
       "0                    19                    1  \n",
       "1                     9                    2  \n",
       "2                     7                    2  \n",
       "3                    16                    2  \n",
       "4                    17                    2  \n",
       "...                 ...                  ...  \n",
       "76524                13                    2  \n",
       "76525                 8                    6  \n",
       "76526                21                    0  \n",
       "76527                13                    6  \n",
       "76528                19                    2  \n",
       "\n",
       "[76529 rows x 5 columns]"
      ]
     },
     "execution_count": 62,
     "metadata": {},
     "output_type": "execute_result"
    }
   ],
   "source": [
    "#0:MONDAY 1:TUESDAY 2:WEDNESDAY 3:THURSDAY 4:FRIDAY 5:SATURDAY\n",
    "train_data[['transaction_DateTime', 'transaction_year', 'transaction_month', 'transaction_hour', 'transaction_weekday']]"
   ]
  },
  {
   "cell_type": "code",
   "execution_count": 63,
   "metadata": {},
   "outputs": [],
   "source": [
    "train_data = train_data.drop(['transaction_initiation','transaction_DateTime'], axis=1)"
   ]
  },
  {
   "cell_type": "code",
   "execution_count": 64,
   "metadata": {},
   "outputs": [],
   "source": [
    "test_data = test_data.drop(['transaction_initiation','transaction_DateTime'], axis=1)"
   ]
  },
  {
   "cell_type": "markdown",
   "metadata": {},
   "source": [
    "## Exploring more about created features"
   ]
  },
  {
   "cell_type": "code",
   "execution_count": 65,
   "metadata": {},
   "outputs": [
    {
     "data": {
      "text/plain": [
       "user_id                     category\n",
       "payment_method              category\n",
       "partner_id                  category\n",
       "partner_category            category\n",
       "device_type                 category\n",
       "money_transacted             float64\n",
       "partner_pricing_category    category\n",
       "is_fraud                    category\n",
       "transaction_year               int64\n",
       "transaction_month              int64\n",
       "transaction_hour               int64\n",
       "transaction_weekday            int64\n",
       "dtype: object"
      ]
     },
     "execution_count": 65,
     "metadata": {},
     "output_type": "execute_result"
    }
   ],
   "source": [
    "train_data.dtypes"
   ]
  },
  {
   "cell_type": "code",
   "execution_count": 66,
   "metadata": {},
   "outputs": [
    {
     "data": {
      "text/plain": [
       "user_id                     3594\n",
       "payment_method                 6\n",
       "partner_id                    23\n",
       "partner_category               5\n",
       "device_type                    4\n",
       "money_transacted            1454\n",
       "partner_pricing_category       4\n",
       "is_fraud                       2\n",
       "transaction_year               2\n",
       "transaction_month              4\n",
       "transaction_hour              24\n",
       "transaction_weekday            7\n",
       "dtype: int64"
      ]
     },
     "execution_count": 66,
     "metadata": {},
     "output_type": "execute_result"
    }
   ],
   "source": [
    "train_data.nunique(axis=0)"
   ]
  },
  {
   "cell_type": "code",
   "execution_count": 67,
   "metadata": {},
   "outputs": [],
   "source": [
    "cols = [\"transaction_year\", \"transaction_month\",\"transaction_hour\",\"transaction_weekday\"]"
   ]
  },
  {
   "cell_type": "code",
   "execution_count": 68,
   "metadata": {},
   "outputs": [],
   "source": [
    "train_data[cols] = train_data[cols].astype(\"category\") \n",
    "test_data[cols] = test_data[cols].astype(\"category\") "
   ]
  },
  {
   "cell_type": "code",
   "execution_count": 69,
   "metadata": {},
   "outputs": [
    {
     "data": {
      "text/plain": [
       "user_id                     category\n",
       "payment_method              category\n",
       "partner_id                  category\n",
       "partner_category            category\n",
       "device_type                 category\n",
       "money_transacted             float64\n",
       "partner_pricing_category    category\n",
       "is_fraud                    category\n",
       "transaction_year            category\n",
       "transaction_month           category\n",
       "transaction_hour            category\n",
       "transaction_weekday         category\n",
       "dtype: object"
      ]
     },
     "execution_count": 69,
     "metadata": {},
     "output_type": "execute_result"
    }
   ],
   "source": [
    "train_data.dtypes"
   ]
  },
  {
   "cell_type": "code",
   "execution_count": 70,
   "metadata": {},
   "outputs": [
    {
     "data": {
      "image/png": "[encoded data removed]",
      "text/plain": [
       "<Figure size 720x720 with 1 Axes>"
      ]
     },
     "metadata": {
      "needs_background": "light"
     },
     "output_type": "display_data"
    }
   ],
   "source": [
    "barplot(\"transaction_year\", train_data)"
   ]
  },
  {
   "cell_type": "code",
   "execution_count": 71,
   "metadata": {},
   "outputs": [
    {
     "data": {
      "image/png": "[encoded data removed]",
      "text/plain": [
       "<Figure size 720x720 with 1 Axes>"
      ]
     },
     "metadata": {
      "needs_background": "light"
     },
     "output_type": "display_data"
    }
   ],
   "source": [
    "barplot(\"transaction_month\", train_data)"
   ]
  },
  {
   "cell_type": "code",
   "execution_count": 72,
   "metadata": {},
   "outputs": [
    {
     "data": {
      "image/png": "[encoded data removed]",
      "text/plain": [
       "<Figure size 720x720 with 1 Axes>"
      ]
     },
     "metadata": {
      "needs_background": "light"
     },
     "output_type": "display_data"
    }
   ],
   "source": [
    "barplot(\"transaction_hour\", train_data)"
   ]
  },
  {
   "cell_type": "code",
   "execution_count": 73,
   "metadata": {},
   "outputs": [
    {
     "data": {
      "image/png": "[encoded data removed]",
      "text/plain": [
       "<Figure size 720x720 with 1 Axes>"
      ]
     },
     "metadata": {
      "needs_background": "light"
     },
     "output_type": "display_data"
    }
   ],
   "source": [
    "barplot(\"transaction_weekday\", train_data)"
   ]
  },
  {
   "cell_type": "code",
   "execution_count": 74,
   "metadata": {},
   "outputs": [
    {
     "name": "stdout",
     "output_type": "stream",
     "text": [
      "---------------is_fraud Vs transaction_year Chi Square Test of Independence -------------------\n",
      "\n",
      " Contingency table :\n",
      "\n",
      "[[38502 37873]\n",
      " [   61    93]]\n",
      "\n",
      " Expected table :\n",
      "\n",
      "[[38485.39932575 37889.60067425]\n",
      " [   77.60067425    76.39932575]]\n",
      "The p value returned = 0.009389078690882107 and degrees of freedom returned = 1\n",
      "significance(alpha) = 0.050\n",
      "Dependent (reject H0)\n",
      "---------------is_fraud Vs transaction_month Chi Square Test of Independence -------------------\n",
      "\n",
      " Contingency table :\n",
      "\n",
      "[[25295 12578 10004 28498]\n",
      " [   50    43    11    50]]\n",
      "\n",
      " Expected table :\n",
      "\n",
      "[[2.52939980e+04 1.25956026e+04 9.99484672e+03 2.84905526e+04]\n",
      " [5.10019731e+01 2.53973526e+01 2.01532752e+01 5.74473990e+01]]\n",
      "The p value returned = 0.0005909621971541256 and degrees of freedom returned = 3\n",
      "significance(alpha) = 0.050\n",
      "Dependent (reject H0)\n",
      "---------------is_fraud Vs transaction_hour Chi Square Test of Independence -------------------\n",
      "\n",
      " Contingency table :\n",
      "\n",
      "[[ 132  141  231  569 1841 3364 4284 4534 4505 4339 4793 4964 4117 4142\n",
      "  4133 5056 5801 5889 5084 4066 2455 1171  544  220]\n",
      " [   1    0    0    6    0    5    6    9    4    6    2    6   23   16\n",
      "     7    7   13   10    9    4    8    9    3    0]]\n",
      "\n",
      " Expected table :\n",
      "\n",
      "[[1.32732363e+02 1.40716264e+02 2.30535157e+02 5.73842922e+02\n",
      "  1.83729534e+03 3.36222053e+03 4.28136719e+03 4.53385808e+03\n",
      "  4.49992650e+03 4.33625652e+03 4.78535098e+03 4.95999882e+03\n",
      "  4.13166904e+03 4.14963282e+03 4.13166904e+03 5.05281168e+03\n",
      "  5.80230044e+03 5.88712939e+03 5.08275131e+03 4.06180990e+03\n",
      "  2.45804368e+03 1.17762548e+03 5.45899267e+02 2.19557292e+02]\n",
      " [2.67637105e-01 2.83735577e-01 4.64843393e-01 1.15707771e+00\n",
      "  3.70466098e+00 6.77946922e+00 8.63280586e+00 9.14192006e+00\n",
      "  9.07350155e+00 8.74348286e+00 9.64902194e+00 1.00011760e+01\n",
      "  8.33095951e+00 8.36718107e+00 8.33095951e+00 1.01883208e+01\n",
      "  1.16995649e+01 1.18706111e+01 1.02486900e+01 8.19009787e+00\n",
      "  4.95631721e+00 2.37452469e+00 1.10073306e+00 4.42707993e-01]]\n",
      "The p value returned = 1.21209158593858e-11 and degrees of freedom returned = 23\n",
      "significance(alpha) = 0.050\n",
      "Dependent (reject H0)\n",
      "---------------is_fraud Vs transaction_weekday Chi Square Test of Independence -------------------\n",
      "\n",
      " Contingency table :\n",
      "\n",
      "[[ 8186  8795 22149  8102  7752  9396 11995]\n",
      " [   19    28    22    23    13    24    25]]\n",
      "\n",
      " Expected table :\n",
      "\n",
      "[[8.18848900e+03 8.80524540e+03 2.21263851e+04 8.10864999e+03\n",
      "  7.74937442e+03 9.40104405e+03 1.19958120e+04]\n",
      " [1.65109958e+01 1.77546028e+01 4.46149042e+01 1.63500111e+01\n",
      "  1.56255798e+01 1.89559513e+01 2.41879549e+01]]\n",
      "The p value returned = 0.0010633733603864887 and degrees of freedom returned = 6\n",
      "significance(alpha) = 0.050\n",
      "Dependent (reject H0)\n"
     ]
    }
   ],
   "source": [
    "for col in cols:                                           #Chi-Square Dependency test for Categorical Columns\n",
    "    find_chi2_independence(col, 'is_fraud', train_data)"
   ]
  },
  {
   "cell_type": "markdown",
   "metadata": {},
   "source": [
    "__Observation__: \n",
    "- Every catgeroical feture tend to influence the target as per Chi-Square test"
   ]
  },
  {
   "cell_type": "markdown",
   "metadata": {},
   "source": [
    "## Checking  Target Feature distribution"
   ]
  },
  {
   "cell_type": "code",
   "execution_count": 75,
   "metadata": {},
   "outputs": [
    {
     "data": {
      "image/png": "[encoded data removed]",
      "text/plain": [
       "<Figure size 720x720 with 1 Axes>"
      ]
     },
     "metadata": {
      "needs_background": "light"
     },
     "output_type": "display_data"
    }
   ],
   "source": [
    "barplot(\"is_fraud\",train_data)"
   ]
  },
  {
   "cell_type": "code",
   "execution_count": 76,
   "metadata": {},
   "outputs": [
    {
     "name": "stdout",
     "output_type": "stream",
     "text": [
      "The count distribution target classes is as below:\n"
     ]
    },
    {
     "data": {
      "text/plain": [
       "0    76375\n",
       "1      154\n",
       "Name: is_fraud, dtype: int64"
      ]
     },
     "execution_count": 76,
     "metadata": {},
     "output_type": "execute_result"
    }
   ],
   "source": [
    "print(\"The count distribution target classes is as below:\")\n",
    "\n",
    "train_data['is_fraud'].value_counts()"
   ]
  },
  {
   "cell_type": "code",
   "execution_count": 77,
   "metadata": {},
   "outputs": [
    {
     "name": "stdout",
     "output_type": "stream",
     "text": [
      "The percentage distribution target classes is as below:\n"
     ]
    },
    {
     "data": {
      "text/plain": [
       "0    0.997988\n",
       "1    0.002012\n",
       "Name: is_fraud, dtype: float64"
      ]
     },
     "execution_count": 77,
     "metadata": {},
     "output_type": "execute_result"
    }
   ],
   "source": [
    "print(\"The percentage distribution target classes is as below:\")\n",
    "\n",
    "train_data['is_fraud'].value_counts('1')"
   ]
  },
  {
   "cell_type": "markdown",
   "metadata": {},
   "source": [
    "__Observation :__\n",
    " - Highly Class Imbalance"
   ]
  },
  {
   "cell_type": "markdown",
   "metadata": {},
   "source": [
    "# Outliers"
   ]
  },
  {
   "cell_type": "code",
   "execution_count": 78,
   "metadata": {},
   "outputs": [],
   "source": [
    "median = train_data['money_transacted'].median()\n",
    "std = train_data['money_transacted'].std()\n",
    "outliers = (train_data['money_transacted'] - median).abs() > 3*std\n"
   ]
  },
  {
   "cell_type": "code",
   "execution_count": 79,
   "metadata": {},
   "outputs": [],
   "source": [
    "train_data.loc[outliers,'money_transacted'] = np.nan"
   ]
  },
  {
   "cell_type": "code",
   "execution_count": 80,
   "metadata": {
    "scrolled": true
   },
   "outputs": [
    {
     "data": {
      "text/plain": [
       "user_id                       0\n",
       "payment_method                0\n",
       "partner_id                    0\n",
       "partner_category              0\n",
       "device_type                   0\n",
       "money_transacted            218\n",
       "partner_pricing_category      0\n",
       "is_fraud                      0\n",
       "transaction_year              0\n",
       "transaction_month             0\n",
       "transaction_hour              0\n",
       "transaction_weekday           0\n",
       "dtype: int64"
      ]
     },
     "execution_count": 80,
     "metadata": {},
     "output_type": "execute_result"
    }
   ],
   "source": [
    "train_data.isnull().sum() "
   ]
  },
  {
   "cell_type": "code",
   "execution_count": 81,
   "metadata": {},
   "outputs": [],
   "source": [
    "train_data['money_transacted'].fillna(median, inplace=True)"
   ]
  },
  {
   "cell_type": "code",
   "execution_count": 82,
   "metadata": {},
   "outputs": [
    {
     "data": {
      "text/plain": [
       "user_id                     0\n",
       "payment_method              0\n",
       "partner_id                  0\n",
       "partner_category            0\n",
       "device_type                 0\n",
       "money_transacted            0\n",
       "partner_pricing_category    0\n",
       "is_fraud                    0\n",
       "transaction_year            0\n",
       "transaction_month           0\n",
       "transaction_hour            0\n",
       "transaction_weekday         0\n",
       "dtype: int64"
      ]
     },
     "execution_count": 82,
     "metadata": {},
     "output_type": "execute_result"
    }
   ],
   "source": [
    "train_data.isnull().sum() "
   ]
  },
  {
   "cell_type": "markdown",
   "metadata": {
    "colab_type": "text",
    "id": "X0o4R4QSYxvB"
   },
   "source": [
    "# Split the data into train and test"
   ]
  },
  {
   "cell_type": "code",
   "execution_count": 85,
   "metadata": {
    "colab": {},
    "colab_type": "code",
    "id": "nu40qDCMYhJz"
   },
   "outputs": [],
   "source": [
    "y=train_data[\"is_fraud\"]\n",
    "X=train_data.drop('is_fraud', axis=1)\n",
    "X_train, X_val, y_train, y_val = train_test_split(X, y, test_size=0.25 , random_state=123, stratify=y)"
   ]
  },
  {
   "cell_type": "code",
   "execution_count": 86,
   "metadata": {
    "colab": {
     "base_uri": "https://localhost:8080/",
     "height": 84
    },
    "colab_type": "code",
    "id": "rNkF067nZC_K",
    "outputId": "f83f2d44-0580-4190-eb7e-31384307435e"
   },
   "outputs": [
    {
     "name": "stdout",
     "output_type": "stream",
     "text": [
      "(57396, 11)\n",
      "(19133, 11)\n",
      "(57396,)\n",
      "(19133,)\n"
     ]
    }
   ],
   "source": [
    "print(X_train.shape)\n",
    "print(X_val.shape)\n",
    "print(y_train.shape)\n",
    "print(y_val.shape)"
   ]
  },
  {
   "cell_type": "markdown",
   "metadata": {},
   "source": [
    "# Preparation for Model buillding\n",
    "\n"
   ]
  },
  {
   "cell_type": "markdown",
   "metadata": {},
   "source": [
    "## Checking for missing values "
   ]
  },
  {
   "cell_type": "code",
   "execution_count": 87,
   "metadata": {},
   "outputs": [
    {
     "name": "stdout",
     "output_type": "stream",
     "text": [
      "user_id                     0\n",
      "payment_method              0\n",
      "partner_id                  0\n",
      "partner_category            0\n",
      "device_type                 0\n",
      "money_transacted            0\n",
      "partner_pricing_category    0\n",
      "transaction_year            0\n",
      "transaction_month           0\n",
      "transaction_hour            0\n",
      "transaction_weekday         0\n",
      "dtype: int64\n",
      "#################\n",
      "user_id                     0\n",
      "payment_method              0\n",
      "partner_id                  0\n",
      "partner_category            0\n",
      "device_type                 0\n",
      "money_transacted            0\n",
      "partner_pricing_category    0\n",
      "transaction_year            0\n",
      "transaction_month           0\n",
      "transaction_hour            0\n",
      "transaction_weekday         0\n",
      "dtype: int64\n"
     ]
    }
   ],
   "source": [
    "print(X_train.isnull().sum())\n",
    "print(\"#################\")\n",
    "print(X_val.isnull().sum())"
   ]
  },
  {
   "cell_type": "markdown",
   "metadata": {},
   "source": [
    "Observation : No missing values"
   ]
  },
  {
   "cell_type": "code",
   "execution_count": 88,
   "metadata": {},
   "outputs": [
    {
     "name": "stdout",
     "output_type": "stream",
     "text": [
      "user_id                     0\n",
      "payment_method              0\n",
      "partner_id                  0\n",
      "partner_category            0\n",
      "device_type                 0\n",
      "money_transacted            0\n",
      "partner_pricing_category    0\n",
      "transaction_year            0\n",
      "transaction_month           0\n",
      "transaction_hour            0\n",
      "transaction_weekday         0\n",
      "dtype: int64\n"
     ]
    }
   ],
   "source": [
    "print(test_data.isnull().sum())"
   ]
  },
  {
   "cell_type": "markdown",
   "metadata": {},
   "source": [
    "# Target Encoding"
   ]
  },
  {
   "cell_type": "markdown",
   "metadata": {},
   "source": [
    "### Converting categorical with large levels to numerical features"
   ]
  },
  {
   "cell_type": "code",
   "execution_count": 89,
   "metadata": {},
   "outputs": [],
   "source": [
    "import category_encoders as ce                        #import category_encoders"
   ]
  },
  {
   "cell_type": "code",
   "execution_count": 90,
   "metadata": {},
   "outputs": [],
   "source": [
    "encoder=ce.TargetEncoder(return_df = True, handle_unknown ='value',handle_missing='value',smoothing =1)    #Initiating target encoder"
   ]
  },
  {
   "cell_type": "code",
   "execution_count": 91,
   "metadata": {},
   "outputs": [],
   "source": [
    "## Fitting and transforming in train and test \n",
    "X_train['user_id']=encoder.fit_transform(X_train['user_id'],y_train.astype('int'))\n",
    "X_val['user_id']=encoder.transform(X_val['user_id'])\n",
    "test_data['user_id']=encoder.transform(test_data['user_id'])"
   ]
  },
  {
   "cell_type": "markdown",
   "metadata": {
    "colab_type": "text",
    "id": "mhXLf6cyZJ9t"
   },
   "source": [
    "## Split the attributes into numerical and categorical types"
   ]
  },
  {
   "cell_type": "code",
   "execution_count": 93,
   "metadata": {},
   "outputs": [
    {
     "data": {
      "text/plain": [
       "user_id                      float64\n",
       "payment_method              category\n",
       "partner_id                  category\n",
       "partner_category            category\n",
       "device_type                 category\n",
       "money_transacted             float64\n",
       "partner_pricing_category    category\n",
       "transaction_year            category\n",
       "transaction_month           category\n",
       "transaction_hour            category\n",
       "transaction_weekday         category\n",
       "dtype: object"
      ]
     },
     "execution_count": 93,
     "metadata": {},
     "output_type": "execute_result"
    }
   ],
   "source": [
    "X_train.dtypes"
   ]
  },
  {
   "cell_type": "code",
   "execution_count": 94,
   "metadata": {
    "colab": {
     "base_uri": "https://localhost:8080/",
     "height": 34
    },
    "colab_type": "code",
    "id": "lyFFCBJ-ZMtL",
    "outputId": "faaff1f8-3369-4cfb-839e-7154666213f6"
   },
   "outputs": [
    {
     "data": {
      "text/plain": [
       "['money_transacted', 'user_id']"
      ]
     },
     "execution_count": 94,
     "metadata": {},
     "output_type": "execute_result"
    }
   ],
   "source": [
    "num_attr=[\"money_transacted\",\"user_id\"]\n",
    "num_attr"
   ]
  },
  {
   "cell_type": "code",
   "execution_count": 95,
   "metadata": {
    "colab": {
     "base_uri": "https://localhost:8080/",
     "height": 84
    },
    "colab_type": "code",
    "id": "v77MaP0MZMw1",
    "outputId": "df106421-0e5a-4b31-f4ad-5f6562113816"
   },
   "outputs": [
    {
     "data": {
      "text/plain": [
       "Index(['payment_method', 'partner_id', 'partner_category', 'device_type',\n",
       "       'partner_pricing_category', 'transaction_year', 'transaction_month',\n",
       "       'transaction_hour', 'transaction_weekday'],\n",
       "      dtype='object')"
      ]
     },
     "execution_count": 95,
     "metadata": {},
     "output_type": "execute_result"
    }
   ],
   "source": [
    "cat_attr = X_train.select_dtypes('category').columns\n",
    "cat_attr"
   ]
  },
  {
   "cell_type": "markdown",
   "metadata": {
    "colab_type": "text",
    "id": "HC6ewXEwFoqn"
   },
   "source": [
    "## Initiating Pipeline : Standardizing the Numerical attributes and One-hot encoding Categorical attributes "
   ]
  },
  {
   "cell_type": "code",
   "execution_count": 96,
   "metadata": {
    "scrolled": true
   },
   "outputs": [],
   "source": [
    "# DataFrameMapper, a class for mapping pandas data frame columns to different sklearn transformations\n",
    "mapper = DataFrameMapper(\n",
    "  [([continuous_col], StandardScaler()) for continuous_col in num_attr]  + \n",
    "    [([categorical_col], OneHotEncoder(handle_unknown='ignore')) for categorical_col in cat_attr]\n",
    ", df_out=True)"
   ]
  },
  {
   "cell_type": "code",
   "execution_count": 97,
   "metadata": {
    "scrolled": true
   },
   "outputs": [
    {
     "name": "stdout",
     "output_type": "stream",
     "text": [
      "<class 'sklearn_pandas.dataframe_mapper.DataFrameMapper'>\n"
     ]
    }
   ],
   "source": [
    "print(type(mapper))"
   ]
  },
  {
   "cell_type": "code",
   "execution_count": 98,
   "metadata": {
    "scrolled": false
   },
   "outputs": [],
   "source": [
    "mapper.fit(X_train)\n",
    "\n",
    "X_train = mapper.transform(X_train)\n",
    "X_val = mapper.transform(X_val)\n",
    "test_data = mapper.transform(test_data)"
   ]
  },
  {
   "cell_type": "code",
   "execution_count": 99,
   "metadata": {
    "scrolled": true
   },
   "outputs": [
    {
     "name": "stdout",
     "output_type": "stream",
     "text": [
      "(57396, 81)\n",
      "(19133, 81)\n",
      "(19133, 81)\n"
     ]
    }
   ],
   "source": [
    "print(X_train.shape)\n",
    "print(X_val.shape)\n",
    "print(test_data.shape)"
   ]
  },
  {
   "cell_type": "markdown",
   "metadata": {},
   "source": [
    "# Classification report"
   ]
  },
  {
   "cell_type": "code",
   "execution_count": 100,
   "metadata": {
    "scrolled": true
   },
   "outputs": [],
   "source": [
    "def get_CR_CM(train_actual,train_predicted,test_actual,test_predicted):\n",
    "    print('''\n",
    "         ========================================\n",
    "           CLASSIFICATION REPORT FOR TRAIN DATA\n",
    "         ========================================\n",
    "        ''')\n",
    "    print(classification_report(train_actual, train_predicted, digits=4))\n",
    "\n",
    "    print('''\n",
    "             =============================================\n",
    "               CLASSIFICATION REPORT FOR VALIDATION DATA\n",
    "             =============================================\n",
    "            ''')\n",
    "    print(classification_report(test_actual, test_predicted, digits=4))\n",
    "\n",
    "    print('''\n",
    "             ========================================\n",
    "               Confusion Matrix FOR TRAIN DATA\n",
    "             ========================================\n",
    "            ''')\n",
    "    print(confusion_matrix(train_actual, train_predicted))\n",
    "\n",
    "    print('''\n",
    "             =============================================\n",
    "               Confusion matrix FOR VALIDATION DATA\n",
    "             =============================================\n",
    "            ''')\n",
    "    print(confusion_matrix(test_actual, test_predicted))\n",
    "    "
   ]
  },
  {
   "cell_type": "markdown",
   "metadata": {},
   "source": [
    "## Function to calculate accuracy, recall, precision and F1 score# "
   ]
  },
  {
   "cell_type": "code",
   "execution_count": 101,
   "metadata": {
    "scrolled": true
   },
   "outputs": [],
   "source": [
    "scores = pd.DataFrame(columns=['Model','Train_Accuracy','Train_Recall','Train_Precision','Train_F1_Score','Test_Accuracy','Test_Recall','Test_Precision','Test_F1_Score'])\n",
    "\n",
    "def get_metrics(train_actual,train_predicted,test_actual,test_predicted,model_description,dataframe):\n",
    "    get_CR_CM(train_actual,train_predicted,test_actual,test_predicted)\n",
    "    train_accuracy = accuracy_score(train_actual,train_predicted)\n",
    "    train_recall   = recall_score(train_actual,train_predicted)\n",
    "    train_precision= precision_score(train_actual,train_predicted)\n",
    "    train_f1score  = f1_score(train_actual,train_predicted)\n",
    "    test_accuracy = accuracy_score(test_actual,test_predicted)\n",
    "    test_recall   = recall_score(test_actual,test_predicted)\n",
    "    test_precision= precision_score(test_actual,test_predicted)\n",
    "    test_f1score  = f1_score(test_actual,test_predicted)\n",
    "    dataframe = dataframe.append(pd.Series([model_description, train_accuracy,train_recall,train_precision,train_f1score,\n",
    "                                            test_accuracy,test_recall,test_precision,test_f1score],\n",
    "                                           index=scores.columns ), ignore_index=True)\n",
    "    return(dataframe)"
   ]
  },
  {
   "cell_type": "markdown",
   "metadata": {},
   "source": [
    "#  MODEL BUILDING"
   ]
  },
  {
   "cell_type": "markdown",
   "metadata": {},
   "source": [
    "### Logistic Regression"
   ]
  },
  {
   "cell_type": "code",
   "execution_count": 102,
   "metadata": {
    "scrolled": true
   },
   "outputs": [],
   "source": [
    "log_mod = LogisticRegression(random_state=123)"
   ]
  },
  {
   "cell_type": "code",
   "execution_count": 103,
   "metadata": {
    "scrolled": true
   },
   "outputs": [
    {
     "data": {
      "text/plain": [
       "LogisticRegression(random_state=123)"
      ]
     },
     "execution_count": 103,
     "metadata": {},
     "output_type": "execute_result"
    }
   ],
   "source": [
    "log_mod.fit(X_train, y_train)"
   ]
  },
  {
   "cell_type": "code",
   "execution_count": 104,
   "metadata": {
    "scrolled": true
   },
   "outputs": [],
   "source": [
    "y_pred_train = log_mod.predict(X_train)\n",
    "y_pred_val = log_mod.predict(X_val)"
   ]
  },
  {
   "cell_type": "markdown",
   "metadata": {},
   "source": [
    "##### Evaluating the model performance"
   ]
  },
  {
   "cell_type": "code",
   "execution_count": 105,
   "metadata": {},
   "outputs": [
    {
     "name": "stdout",
     "output_type": "stream",
     "text": [
      "\n",
      "         ========================================\n",
      "           CLASSIFICATION REPORT FOR TRAIN DATA\n",
      "         ========================================\n",
      "        \n",
      "              precision    recall  f1-score   support\n",
      "\n",
      "           0     0.9987    0.9998    0.9993     57281\n",
      "           1     0.7778    0.3652    0.4970       115\n",
      "\n",
      "    accuracy                         0.9985     57396\n",
      "   macro avg     0.8883    0.6825    0.7481     57396\n",
      "weighted avg     0.9983    0.9985    0.9983     57396\n",
      "\n",
      "\n",
      "             =============================================\n",
      "               CLASSIFICATION REPORT FOR VALIDATION DATA\n",
      "             =============================================\n",
      "            \n",
      "              precision    recall  f1-score   support\n",
      "\n",
      "           0     0.9985    0.9998    0.9991     19094\n",
      "           1     0.7143    0.2564    0.3774        39\n",
      "\n",
      "    accuracy                         0.9983     19133\n",
      "   macro avg     0.8564    0.6281    0.6882     19133\n",
      "weighted avg     0.9979    0.9983    0.9979     19133\n",
      "\n",
      "\n",
      "             ========================================\n",
      "               Confusion Matrix FOR TRAIN DATA\n",
      "             ========================================\n",
      "            \n",
      "[[57269    12]\n",
      " [   73    42]]\n",
      "\n",
      "             =============================================\n",
      "               Confusion matrix FOR VALIDATION DATA\n",
      "             =============================================\n",
      "            \n",
      "[[19090     4]\n",
      " [   29    10]]\n"
     ]
    },
    {
     "data": {
      "text/html": [
       "<div>\n",
       "<style scoped>\n",
       "    .dataframe tbody tr th:only-of-type {\n",
       "        vertical-align: middle;\n",
       "    }\n",
       "\n",
       "    .dataframe tbody tr th {\n",
       "        vertical-align: top;\n",
       "    }\n",
       "\n",
       "    .dataframe thead th {\n",
       "        text-align: right;\n",
       "    }\n",
       "</style>\n",
       "<table border=\"1\" class=\"dataframe\">\n",
       "  <thead>\n",
       "    <tr style=\"text-align: right;\">\n",
       "      <th></th>\n",
       "      <th>Model</th>\n",
       "      <th>Train_Accuracy</th>\n",
       "      <th>Train_Recall</th>\n",
       "      <th>Train_Precision</th>\n",
       "      <th>Train_F1_Score</th>\n",
       "      <th>Test_Accuracy</th>\n",
       "      <th>Test_Recall</th>\n",
       "      <th>Test_Precision</th>\n",
       "      <th>Test_F1_Score</th>\n",
       "    </tr>\n",
       "  </thead>\n",
       "  <tbody>\n",
       "    <tr>\n",
       "      <th>0</th>\n",
       "      <td>LogisticRegression</td>\n",
       "      <td>0.998519</td>\n",
       "      <td>0.365217</td>\n",
       "      <td>0.777778</td>\n",
       "      <td>0.497041</td>\n",
       "      <td>0.998275</td>\n",
       "      <td>0.25641</td>\n",
       "      <td>0.714286</td>\n",
       "      <td>0.377358</td>\n",
       "    </tr>\n",
       "  </tbody>\n",
       "</table>\n",
       "</div>"
      ],
      "text/plain": [
       "                Model  Train_Accuracy  Train_Recall  Train_Precision  \\\n",
       "0  LogisticRegression        0.998519      0.365217         0.777778   \n",
       "\n",
       "   Train_F1_Score  Test_Accuracy  Test_Recall  Test_Precision  Test_F1_Score  \n",
       "0        0.497041       0.998275      0.25641        0.714286       0.377358  "
      ]
     },
     "execution_count": 105,
     "metadata": {},
     "output_type": "execute_result"
    }
   ],
   "source": [
    "scores = get_metrics(y_train,y_pred_train,y_val,y_pred_val,\"LogisticRegression\",scores)\n",
    "scores"
   ]
  },
  {
   "cell_type": "code",
   "execution_count": null,
   "metadata": {
    "scrolled": true
   },
   "outputs": [],
   "source": [
    "#y_pred_test = log_mod.predict(test_data)\n",
    "df = pd.DataFrame(y_pred_test)\n",
    "df.to_csv(\"logistic.csv\")"
   ]
  },
  {
   "cell_type": "markdown",
   "metadata": {},
   "source": [
    "### Handling Imbalanced Data"
   ]
  },
  {
   "cell_type": "markdown",
   "metadata": {},
   "source": [
    "### Logistic Regression with class_weight='balanced'"
   ]
  },
  {
   "cell_type": "code",
   "execution_count": 106,
   "metadata": {
    "scrolled": true
   },
   "outputs": [],
   "source": [
    "log_mod = LogisticRegression(class_weight='balanced', random_state=123)"
   ]
  },
  {
   "cell_type": "code",
   "execution_count": 107,
   "metadata": {
    "scrolled": true
   },
   "outputs": [
    {
     "data": {
      "text/plain": [
       "LogisticRegression(class_weight='balanced', random_state=123)"
      ]
     },
     "execution_count": 107,
     "metadata": {},
     "output_type": "execute_result"
    }
   ],
   "source": [
    "log_mod.fit(X_train, y_train)"
   ]
  },
  {
   "cell_type": "code",
   "execution_count": 108,
   "metadata": {
    "scrolled": true
   },
   "outputs": [],
   "source": [
    "y_pred_train = log_mod.predict(X_train)\n",
    "y_pred_val = log_mod.predict(X_val)"
   ]
  },
  {
   "cell_type": "code",
   "execution_count": 109,
   "metadata": {
    "scrolled": true
   },
   "outputs": [
    {
     "name": "stdout",
     "output_type": "stream",
     "text": [
      "\n",
      "         ========================================\n",
      "           CLASSIFICATION REPORT FOR TRAIN DATA\n",
      "         ========================================\n",
      "        \n",
      "              precision    recall  f1-score   support\n",
      "\n",
      "           0     1.0000    0.9796    0.9897     57281\n",
      "           1     0.0897    1.0000    0.1646       115\n",
      "\n",
      "    accuracy                         0.9797     57396\n",
      "   macro avg     0.5449    0.9898    0.5772     57396\n",
      "weighted avg     0.9982    0.9797    0.9881     57396\n",
      "\n",
      "\n",
      "             =============================================\n",
      "               CLASSIFICATION REPORT FOR VALIDATION DATA\n",
      "             =============================================\n",
      "            \n",
      "              precision    recall  f1-score   support\n",
      "\n",
      "           0     0.9998    0.9796    0.9896     19094\n",
      "           1     0.0824    0.8974    0.1509        39\n",
      "\n",
      "    accuracy                         0.9794     19133\n",
      "   macro avg     0.5411    0.9385    0.5702     19133\n",
      "weighted avg     0.9979    0.9794    0.9879     19133\n",
      "\n",
      "\n",
      "             ========================================\n",
      "               Confusion Matrix FOR TRAIN DATA\n",
      "             ========================================\n",
      "            \n",
      "[[56114  1167]\n",
      " [    0   115]]\n",
      "\n",
      "             =============================================\n",
      "               Confusion matrix FOR VALIDATION DATA\n",
      "             =============================================\n",
      "            \n",
      "[[18704   390]\n",
      " [    4    35]]\n"
     ]
    },
    {
     "data": {
      "text/html": [
       "<div>\n",
       "<style scoped>\n",
       "    .dataframe tbody tr th:only-of-type {\n",
       "        vertical-align: middle;\n",
       "    }\n",
       "\n",
       "    .dataframe tbody tr th {\n",
       "        vertical-align: top;\n",
       "    }\n",
       "\n",
       "    .dataframe thead th {\n",
       "        text-align: right;\n",
       "    }\n",
       "</style>\n",
       "<table border=\"1\" class=\"dataframe\">\n",
       "  <thead>\n",
       "    <tr style=\"text-align: right;\">\n",
       "      <th></th>\n",
       "      <th>Model</th>\n",
       "      <th>Train_Accuracy</th>\n",
       "      <th>Train_Recall</th>\n",
       "      <th>Train_Precision</th>\n",
       "      <th>Train_F1_Score</th>\n",
       "      <th>Test_Accuracy</th>\n",
       "      <th>Test_Recall</th>\n",
       "      <th>Test_Precision</th>\n",
       "      <th>Test_F1_Score</th>\n",
       "    </tr>\n",
       "  </thead>\n",
       "  <tbody>\n",
       "    <tr>\n",
       "      <th>0</th>\n",
       "      <td>LogisticRegression</td>\n",
       "      <td>0.998519</td>\n",
       "      <td>0.365217</td>\n",
       "      <td>0.777778</td>\n",
       "      <td>0.497041</td>\n",
       "      <td>0.998275</td>\n",
       "      <td>0.256410</td>\n",
       "      <td>0.714286</td>\n",
       "      <td>0.377358</td>\n",
       "    </tr>\n",
       "    <tr>\n",
       "      <th>1</th>\n",
       "      <td>LogisticRegression_Balanced</td>\n",
       "      <td>0.979668</td>\n",
       "      <td>1.000000</td>\n",
       "      <td>0.089704</td>\n",
       "      <td>0.164639</td>\n",
       "      <td>0.979407</td>\n",
       "      <td>0.897436</td>\n",
       "      <td>0.082353</td>\n",
       "      <td>0.150862</td>\n",
       "    </tr>\n",
       "  </tbody>\n",
       "</table>\n",
       "</div>"
      ],
      "text/plain": [
       "                         Model  Train_Accuracy  Train_Recall  Train_Precision  \\\n",
       "0           LogisticRegression        0.998519      0.365217         0.777778   \n",
       "1  LogisticRegression_Balanced        0.979668      1.000000         0.089704   \n",
       "\n",
       "   Train_F1_Score  Test_Accuracy  Test_Recall  Test_Precision  Test_F1_Score  \n",
       "0        0.497041       0.998275     0.256410        0.714286       0.377358  \n",
       "1        0.164639       0.979407     0.897436        0.082353       0.150862  "
      ]
     },
     "execution_count": 109,
     "metadata": {},
     "output_type": "execute_result"
    }
   ],
   "source": [
    "scores = get_metrics(y_train,y_pred_train,y_val,y_pred_val,\"LogisticRegression_Balanced\",scores)\n",
    "scores"
   ]
  },
  {
   "cell_type": "code",
   "execution_count": null,
   "metadata": {
    "scrolled": true
   },
   "outputs": [],
   "source": [
    "y_pred_test = log_mod.predict(test_data)\n",
    "df = pd.DataFrame(y_pred_test)\n",
    "df.to_csv(\"logistic_balanced1.csv\")"
   ]
  },
  {
   "cell_type": "markdown",
   "metadata": {
    "id": "bMqBBQzMSFwt"
   },
   "source": [
    "\n",
    "\n",
    "### ROC AUC Curve"
   ]
  },
  {
   "cell_type": "code",
   "execution_count": 110,
   "metadata": {},
   "outputs": [],
   "source": [
    "from sklearn.metrics import roc_auc_score,roc_curve"
   ]
  },
  {
   "cell_type": "code",
   "execution_count": 111,
   "metadata": {
    "id": "Q7PyckAfSFwt",
    "outputId": "4bb93371-1224-48bc-a5ec-d2bda2743220",
    "scrolled": true
   },
   "outputs": [
    {
     "data": {
      "image/png": "[encoded data removed]",
      "text/plain": [
       "<Figure size 432x288 with 1 Axes>"
      ]
     },
     "metadata": {
      "needs_background": "light"
     },
     "output_type": "display_data"
    }
   ],
   "source": [
    "y_pred_train_prob = log_mod.predict_proba(X_train)[:,1]\n",
    "fpr, tpr, threshold = roc_curve(y_train, y_pred_train_prob, pos_label = 1)\n",
    "auc = roc_auc_score(y_train, y_pred_train)\n",
    "plt.plot(fpr,tpr,label=\"auc=\"+str(auc))\n",
    "plt.xlabel('False Positive Rate')\n",
    "plt.ylabel('True Positive Rate')\n",
    "plt.legend()\n",
    "plt.show()"
   ]
  },
  {
   "cell_type": "markdown",
   "metadata": {
    "id": "ysJNwuwXSFyq"
   },
   "source": [
    "### Lasso for Variable Selection"
   ]
  },
  {
   "cell_type": "code",
   "execution_count": 112,
   "metadata": {
    "scrolled": true
   },
   "outputs": [],
   "source": [
    "clf_logreg = LogisticRegression(penalty='l1', solver='liblinear',class_weight ='balanced')"
   ]
  },
  {
   "cell_type": "code",
   "execution_count": 113,
   "metadata": {
    "id": "exrN3d7bSFyy",
    "outputId": "a8f2e763-5250-4a01-aac0-5b28ed699c82",
    "scrolled": true
   },
   "outputs": [
    {
     "data": {
      "text/plain": [
       "LogisticRegression(class_weight='balanced', penalty='l1', solver='liblinear')"
      ]
     },
     "execution_count": 113,
     "metadata": {},
     "output_type": "execute_result"
    }
   ],
   "source": [
    "clf_logreg.fit(X_train,y_train)"
   ]
  },
  {
   "cell_type": "code",
   "execution_count": 114,
   "metadata": {
    "scrolled": true
   },
   "outputs": [],
   "source": [
    "y_pred_train = clf_logreg.predict(X_train)\n",
    "y_pred_val = clf_logreg.predict(X_val)"
   ]
  },
  {
   "cell_type": "code",
   "execution_count": 115,
   "metadata": {
    "scrolled": false
   },
   "outputs": [
    {
     "name": "stdout",
     "output_type": "stream",
     "text": [
      "\n",
      "         ========================================\n",
      "           CLASSIFICATION REPORT FOR TRAIN DATA\n",
      "         ========================================\n",
      "        \n",
      "              precision    recall  f1-score   support\n",
      "\n",
      "           0     1.0000    0.9805    0.9902     57281\n",
      "           1     0.0934    1.0000    0.1709       115\n",
      "\n",
      "    accuracy                         0.9806     57396\n",
      "   macro avg     0.5467    0.9903    0.5805     57396\n",
      "weighted avg     0.9982    0.9806    0.9885     57396\n",
      "\n",
      "\n",
      "             =============================================\n",
      "               CLASSIFICATION REPORT FOR VALIDATION DATA\n",
      "             =============================================\n",
      "            \n",
      "              precision    recall  f1-score   support\n",
      "\n",
      "           0     0.9998    0.9808    0.9902     19094\n",
      "           1     0.0871    0.8974    0.1587        39\n",
      "\n",
      "    accuracy                         0.9806     19133\n",
      "   macro avg     0.5434    0.9391    0.5745     19133\n",
      "weighted avg     0.9979    0.9806    0.9885     19133\n",
      "\n",
      "\n",
      "             ========================================\n",
      "               Confusion Matrix FOR TRAIN DATA\n",
      "             ========================================\n",
      "            \n",
      "[[56165  1116]\n",
      " [    0   115]]\n",
      "\n",
      "             =============================================\n",
      "               Confusion matrix FOR VALIDATION DATA\n",
      "             =============================================\n",
      "            \n",
      "[[18727   367]\n",
      " [    4    35]]\n"
     ]
    },
    {
     "data": {
      "text/html": [
       "<div>\n",
       "<style scoped>\n",
       "    .dataframe tbody tr th:only-of-type {\n",
       "        vertical-align: middle;\n",
       "    }\n",
       "\n",
       "    .dataframe tbody tr th {\n",
       "        vertical-align: top;\n",
       "    }\n",
       "\n",
       "    .dataframe thead th {\n",
       "        text-align: right;\n",
       "    }\n",
       "</style>\n",
       "<table border=\"1\" class=\"dataframe\">\n",
       "  <thead>\n",
       "    <tr style=\"text-align: right;\">\n",
       "      <th></th>\n",
       "      <th>Model</th>\n",
       "      <th>Train_Accuracy</th>\n",
       "      <th>Train_Recall</th>\n",
       "      <th>Train_Precision</th>\n",
       "      <th>Train_F1_Score</th>\n",
       "      <th>Test_Accuracy</th>\n",
       "      <th>Test_Recall</th>\n",
       "      <th>Test_Precision</th>\n",
       "      <th>Test_F1_Score</th>\n",
       "    </tr>\n",
       "  </thead>\n",
       "  <tbody>\n",
       "    <tr>\n",
       "      <th>0</th>\n",
       "      <td>LogisticRegression</td>\n",
       "      <td>0.998519</td>\n",
       "      <td>0.365217</td>\n",
       "      <td>0.777778</td>\n",
       "      <td>0.497041</td>\n",
       "      <td>0.998275</td>\n",
       "      <td>0.256410</td>\n",
       "      <td>0.714286</td>\n",
       "      <td>0.377358</td>\n",
       "    </tr>\n",
       "    <tr>\n",
       "      <th>1</th>\n",
       "      <td>LogisticRegression_Balanced</td>\n",
       "      <td>0.979668</td>\n",
       "      <td>1.000000</td>\n",
       "      <td>0.089704</td>\n",
       "      <td>0.164639</td>\n",
       "      <td>0.979407</td>\n",
       "      <td>0.897436</td>\n",
       "      <td>0.082353</td>\n",
       "      <td>0.150862</td>\n",
       "    </tr>\n",
       "    <tr>\n",
       "      <th>2</th>\n",
       "      <td>Lasso</td>\n",
       "      <td>0.980556</td>\n",
       "      <td>1.000000</td>\n",
       "      <td>0.093420</td>\n",
       "      <td>0.170877</td>\n",
       "      <td>0.980609</td>\n",
       "      <td>0.897436</td>\n",
       "      <td>0.087065</td>\n",
       "      <td>0.158730</td>\n",
       "    </tr>\n",
       "  </tbody>\n",
       "</table>\n",
       "</div>"
      ],
      "text/plain": [
       "                         Model  Train_Accuracy  Train_Recall  Train_Precision  \\\n",
       "0           LogisticRegression        0.998519      0.365217         0.777778   \n",
       "1  LogisticRegression_Balanced        0.979668      1.000000         0.089704   \n",
       "2                        Lasso        0.980556      1.000000         0.093420   \n",
       "\n",
       "   Train_F1_Score  Test_Accuracy  Test_Recall  Test_Precision  Test_F1_Score  \n",
       "0        0.497041       0.998275     0.256410        0.714286       0.377358  \n",
       "1        0.164639       0.979407     0.897436        0.082353       0.150862  \n",
       "2        0.170877       0.980609     0.897436        0.087065       0.158730  "
      ]
     },
     "execution_count": 115,
     "metadata": {},
     "output_type": "execute_result"
    }
   ],
   "source": [
    "scores = get_metrics(y_train,y_pred_train,y_val,y_pred_val,\"Lasso\",scores)\n",
    "scores"
   ]
  },
  {
   "cell_type": "markdown",
   "metadata": {},
   "source": [
    "## RandomForestClassifier Model"
   ]
  },
  {
   "cell_type": "code",
   "execution_count": 116,
   "metadata": {},
   "outputs": [],
   "source": [
    "clf2 = RandomForestClassifier(class_weight = 'balanced')"
   ]
  },
  {
   "cell_type": "code",
   "execution_count": 117,
   "metadata": {},
   "outputs": [
    {
     "data": {
      "text/plain": [
       "RandomForestClassifier(class_weight='balanced')"
      ]
     },
     "execution_count": 117,
     "metadata": {},
     "output_type": "execute_result"
    }
   ],
   "source": [
    "clf2.fit(X_train, y_train)"
   ]
  },
  {
   "cell_type": "code",
   "execution_count": 118,
   "metadata": {},
   "outputs": [],
   "source": [
    "y_pred_train = clf2.predict(X_train)\n",
    "y_pred_val = clf2.predict(X_val)"
   ]
  },
  {
   "cell_type": "code",
   "execution_count": 119,
   "metadata": {},
   "outputs": [
    {
     "name": "stdout",
     "output_type": "stream",
     "text": [
      "\n",
      "         ========================================\n",
      "           CLASSIFICATION REPORT FOR TRAIN DATA\n",
      "         ========================================\n",
      "        \n",
      "              precision    recall  f1-score   support\n",
      "\n",
      "           0     1.0000    0.9997    0.9999     57281\n",
      "           1     0.8779    1.0000    0.9350       115\n",
      "\n",
      "    accuracy                         0.9997     57396\n",
      "   macro avg     0.9389    0.9999    0.9674     57396\n",
      "weighted avg     0.9998    0.9997    0.9997     57396\n",
      "\n",
      "\n",
      "             =============================================\n",
      "               CLASSIFICATION REPORT FOR VALIDATION DATA\n",
      "             =============================================\n",
      "            \n",
      "              precision    recall  f1-score   support\n",
      "\n",
      "           0     0.9991    0.9998    0.9995     19094\n",
      "           1     0.8800    0.5641    0.6875        39\n",
      "\n",
      "    accuracy                         0.9990     19133\n",
      "   macro avg     0.9396    0.7820    0.8435     19133\n",
      "weighted avg     0.9989    0.9990    0.9988     19133\n",
      "\n",
      "\n",
      "             ========================================\n",
      "               Confusion Matrix FOR TRAIN DATA\n",
      "             ========================================\n",
      "            \n",
      "[[57265    16]\n",
      " [    0   115]]\n",
      "\n",
      "             =============================================\n",
      "               Confusion matrix FOR VALIDATION DATA\n",
      "             =============================================\n",
      "            \n",
      "[[19091     3]\n",
      " [   17    22]]\n"
     ]
    },
    {
     "data": {
      "text/html": [
       "<div>\n",
       "<style scoped>\n",
       "    .dataframe tbody tr th:only-of-type {\n",
       "        vertical-align: middle;\n",
       "    }\n",
       "\n",
       "    .dataframe tbody tr th {\n",
       "        vertical-align: top;\n",
       "    }\n",
       "\n",
       "    .dataframe thead th {\n",
       "        text-align: right;\n",
       "    }\n",
       "</style>\n",
       "<table border=\"1\" class=\"dataframe\">\n",
       "  <thead>\n",
       "    <tr style=\"text-align: right;\">\n",
       "      <th></th>\n",
       "      <th>Model</th>\n",
       "      <th>Train_Accuracy</th>\n",
       "      <th>Train_Recall</th>\n",
       "      <th>Train_Precision</th>\n",
       "      <th>Train_F1_Score</th>\n",
       "      <th>Test_Accuracy</th>\n",
       "      <th>Test_Recall</th>\n",
       "      <th>Test_Precision</th>\n",
       "      <th>Test_F1_Score</th>\n",
       "    </tr>\n",
       "  </thead>\n",
       "  <tbody>\n",
       "    <tr>\n",
       "      <th>0</th>\n",
       "      <td>LogisticRegression</td>\n",
       "      <td>0.998519</td>\n",
       "      <td>0.365217</td>\n",
       "      <td>0.777778</td>\n",
       "      <td>0.497041</td>\n",
       "      <td>0.998275</td>\n",
       "      <td>0.256410</td>\n",
       "      <td>0.714286</td>\n",
       "      <td>0.377358</td>\n",
       "    </tr>\n",
       "    <tr>\n",
       "      <th>1</th>\n",
       "      <td>LogisticRegression_Balanced</td>\n",
       "      <td>0.979668</td>\n",
       "      <td>1.000000</td>\n",
       "      <td>0.089704</td>\n",
       "      <td>0.164639</td>\n",
       "      <td>0.979407</td>\n",
       "      <td>0.897436</td>\n",
       "      <td>0.082353</td>\n",
       "      <td>0.150862</td>\n",
       "    </tr>\n",
       "    <tr>\n",
       "      <th>2</th>\n",
       "      <td>Lasso</td>\n",
       "      <td>0.980556</td>\n",
       "      <td>1.000000</td>\n",
       "      <td>0.093420</td>\n",
       "      <td>0.170877</td>\n",
       "      <td>0.980609</td>\n",
       "      <td>0.897436</td>\n",
       "      <td>0.087065</td>\n",
       "      <td>0.158730</td>\n",
       "    </tr>\n",
       "    <tr>\n",
       "      <th>3</th>\n",
       "      <td>Random Forest</td>\n",
       "      <td>0.999721</td>\n",
       "      <td>1.000000</td>\n",
       "      <td>0.877863</td>\n",
       "      <td>0.934959</td>\n",
       "      <td>0.998955</td>\n",
       "      <td>0.564103</td>\n",
       "      <td>0.880000</td>\n",
       "      <td>0.687500</td>\n",
       "    </tr>\n",
       "  </tbody>\n",
       "</table>\n",
       "</div>"
      ],
      "text/plain": [
       "                         Model  Train_Accuracy  Train_Recall  Train_Precision  \\\n",
       "0           LogisticRegression        0.998519      0.365217         0.777778   \n",
       "1  LogisticRegression_Balanced        0.979668      1.000000         0.089704   \n",
       "2                        Lasso        0.980556      1.000000         0.093420   \n",
       "3                Random Forest        0.999721      1.000000         0.877863   \n",
       "\n",
       "   Train_F1_Score  Test_Accuracy  Test_Recall  Test_Precision  Test_F1_Score  \n",
       "0        0.497041       0.998275     0.256410        0.714286       0.377358  \n",
       "1        0.164639       0.979407     0.897436        0.082353       0.150862  \n",
       "2        0.170877       0.980609     0.897436        0.087065       0.158730  \n",
       "3        0.934959       0.998955     0.564103        0.880000       0.687500  "
      ]
     },
     "execution_count": 119,
     "metadata": {},
     "output_type": "execute_result"
    }
   ],
   "source": [
    "scores = get_metrics(y_train,y_pred_train,y_val,y_pred_val,\"Random Forest\",scores)\n",
    "scores"
   ]
  },
  {
   "cell_type": "markdown",
   "metadata": {},
   "source": [
    "### Hyper-parameter tuning using Grid Search and Cross Validation"
   ]
  },
  {
   "cell_type": "code",
   "execution_count": 120,
   "metadata": {},
   "outputs": [],
   "source": [
    "param_grid = {\"n_estimators\" : [20,50,100,200],\n",
    "              \"max_depth\" : [4,6,8,10,12],\n",
    "              \"min_samples_leaf\" : [8,6,4]}"
   ]
  },
  {
   "cell_type": "code",
   "execution_count": 121,
   "metadata": {},
   "outputs": [],
   "source": [
    "clf3 = RandomForestClassifier(class_weight = 'balanced')"
   ]
  },
  {
   "cell_type": "code",
   "execution_count": 122,
   "metadata": {},
   "outputs": [],
   "source": [
    "clf_grid = GridSearchCV(clf2, param_grid, cv=3)"
   ]
  },
  {
   "cell_type": "code",
   "execution_count": 123,
   "metadata": {},
   "outputs": [
    {
     "data": {
      "text/plain": [
       "GridSearchCV(cv=3, estimator=RandomForestClassifier(class_weight='balanced'),\n",
       "             param_grid={'max_depth': [4, 6, 8, 10, 12],\n",
       "                         'min_samples_leaf': [8, 6, 4],\n",
       "                         'n_estimators': [20, 50, 100, 200]})"
      ]
     },
     "execution_count": 123,
     "metadata": {},
     "output_type": "execute_result"
    }
   ],
   "source": [
    "clf_grid.fit(X_train, y_train)"
   ]
  },
  {
   "cell_type": "code",
   "execution_count": 124,
   "metadata": {},
   "outputs": [
    {
     "data": {
      "text/plain": [
       "{'max_depth': 12, 'min_samples_leaf': 4, 'n_estimators': 50}"
      ]
     },
     "execution_count": 124,
     "metadata": {},
     "output_type": "execute_result"
    }
   ],
   "source": [
    "clf_grid.best_params_"
   ]
  },
  {
   "cell_type": "code",
   "execution_count": 125,
   "metadata": {},
   "outputs": [],
   "source": [
    "y_pred_train = clf_grid.predict(X_train)\n",
    "y_pred_val = clf_grid.predict(X_val)"
   ]
  },
  {
   "cell_type": "code",
   "execution_count": 126,
   "metadata": {},
   "outputs": [
    {
     "name": "stdout",
     "output_type": "stream",
     "text": [
      "\n",
      "         ========================================\n",
      "           CLASSIFICATION REPORT FOR TRAIN DATA\n",
      "         ========================================\n",
      "        \n",
      "              precision    recall  f1-score   support\n",
      "\n",
      "           0     1.0000    0.9970    0.9985     57281\n",
      "           1     0.3986    0.9913    0.5686       115\n",
      "\n",
      "    accuracy                         0.9970     57396\n",
      "   macro avg     0.6993    0.9942    0.7835     57396\n",
      "weighted avg     0.9988    0.9970    0.9976     57396\n",
      "\n",
      "\n",
      "             =============================================\n",
      "               CLASSIFICATION REPORT FOR VALIDATION DATA\n",
      "             =============================================\n",
      "            \n",
      "              precision    recall  f1-score   support\n",
      "\n",
      "           0     0.9997    0.9968    0.9983     19094\n",
      "           1     0.3579    0.8718    0.5075        39\n",
      "\n",
      "    accuracy                         0.9966     19133\n",
      "   macro avg     0.6788    0.9343    0.7529     19133\n",
      "weighted avg     0.9984    0.9966    0.9973     19133\n",
      "\n",
      "\n",
      "             ========================================\n",
      "               Confusion Matrix FOR TRAIN DATA\n",
      "             ========================================\n",
      "            \n",
      "[[57109   172]\n",
      " [    1   114]]\n",
      "\n",
      "             =============================================\n",
      "               Confusion matrix FOR VALIDATION DATA\n",
      "             =============================================\n",
      "            \n",
      "[[19033    61]\n",
      " [    5    34]]\n"
     ]
    },
    {
     "data": {
      "text/html": [
       "<div>\n",
       "<style scoped>\n",
       "    .dataframe tbody tr th:only-of-type {\n",
       "        vertical-align: middle;\n",
       "    }\n",
       "\n",
       "    .dataframe tbody tr th {\n",
       "        vertical-align: top;\n",
       "    }\n",
       "\n",
       "    .dataframe thead th {\n",
       "        text-align: right;\n",
       "    }\n",
       "</style>\n",
       "<table border=\"1\" class=\"dataframe\">\n",
       "  <thead>\n",
       "    <tr style=\"text-align: right;\">\n",
       "      <th></th>\n",
       "      <th>Model</th>\n",
       "      <th>Train_Accuracy</th>\n",
       "      <th>Train_Recall</th>\n",
       "      <th>Train_Precision</th>\n",
       "      <th>Train_F1_Score</th>\n",
       "      <th>Test_Accuracy</th>\n",
       "      <th>Test_Recall</th>\n",
       "      <th>Test_Precision</th>\n",
       "      <th>Test_F1_Score</th>\n",
       "    </tr>\n",
       "  </thead>\n",
       "  <tbody>\n",
       "    <tr>\n",
       "      <th>0</th>\n",
       "      <td>LogisticRegression</td>\n",
       "      <td>0.998519</td>\n",
       "      <td>0.365217</td>\n",
       "      <td>0.777778</td>\n",
       "      <td>0.497041</td>\n",
       "      <td>0.998275</td>\n",
       "      <td>0.256410</td>\n",
       "      <td>0.714286</td>\n",
       "      <td>0.377358</td>\n",
       "    </tr>\n",
       "    <tr>\n",
       "      <th>1</th>\n",
       "      <td>LogisticRegression_Balanced</td>\n",
       "      <td>0.979668</td>\n",
       "      <td>1.000000</td>\n",
       "      <td>0.089704</td>\n",
       "      <td>0.164639</td>\n",
       "      <td>0.979407</td>\n",
       "      <td>0.897436</td>\n",
       "      <td>0.082353</td>\n",
       "      <td>0.150862</td>\n",
       "    </tr>\n",
       "    <tr>\n",
       "      <th>2</th>\n",
       "      <td>Lasso</td>\n",
       "      <td>0.980556</td>\n",
       "      <td>1.000000</td>\n",
       "      <td>0.093420</td>\n",
       "      <td>0.170877</td>\n",
       "      <td>0.980609</td>\n",
       "      <td>0.897436</td>\n",
       "      <td>0.087065</td>\n",
       "      <td>0.158730</td>\n",
       "    </tr>\n",
       "    <tr>\n",
       "      <th>3</th>\n",
       "      <td>Random Forest</td>\n",
       "      <td>0.999721</td>\n",
       "      <td>1.000000</td>\n",
       "      <td>0.877863</td>\n",
       "      <td>0.934959</td>\n",
       "      <td>0.998955</td>\n",
       "      <td>0.564103</td>\n",
       "      <td>0.880000</td>\n",
       "      <td>0.687500</td>\n",
       "    </tr>\n",
       "    <tr>\n",
       "      <th>4</th>\n",
       "      <td>Random Forest_best</td>\n",
       "      <td>0.996986</td>\n",
       "      <td>0.991304</td>\n",
       "      <td>0.398601</td>\n",
       "      <td>0.568579</td>\n",
       "      <td>0.996550</td>\n",
       "      <td>0.871795</td>\n",
       "      <td>0.357895</td>\n",
       "      <td>0.507463</td>\n",
       "    </tr>\n",
       "  </tbody>\n",
       "</table>\n",
       "</div>"
      ],
      "text/plain": [
       "                         Model  Train_Accuracy  Train_Recall  Train_Precision  \\\n",
       "0           LogisticRegression        0.998519      0.365217         0.777778   \n",
       "1  LogisticRegression_Balanced        0.979668      1.000000         0.089704   \n",
       "2                        Lasso        0.980556      1.000000         0.093420   \n",
       "3                Random Forest        0.999721      1.000000         0.877863   \n",
       "4           Random Forest_best        0.996986      0.991304         0.398601   \n",
       "\n",
       "   Train_F1_Score  Test_Accuracy  Test_Recall  Test_Precision  Test_F1_Score  \n",
       "0        0.497041       0.998275     0.256410        0.714286       0.377358  \n",
       "1        0.164639       0.979407     0.897436        0.082353       0.150862  \n",
       "2        0.170877       0.980609     0.897436        0.087065       0.158730  \n",
       "3        0.934959       0.998955     0.564103        0.880000       0.687500  \n",
       "4        0.568579       0.996550     0.871795        0.357895       0.507463  "
      ]
     },
     "execution_count": 126,
     "metadata": {},
     "output_type": "execute_result"
    }
   ],
   "source": [
    "scores = get_metrics(y_train,y_pred_train,y_val,y_pred_val,\"Random Forest_best\",scores)\n",
    "scores"
   ]
  },
  {
   "cell_type": "markdown",
   "metadata": {},
   "source": [
    "### Decision Tree Classifier"
   ]
  },
  {
   "cell_type": "code",
   "execution_count": 127,
   "metadata": {
    "scrolled": true
   },
   "outputs": [
    {
     "data": {
      "text/plain": [
       "DecisionTreeClassifier(class_weight='balanced', random_state=123)"
      ]
     },
     "execution_count": 127,
     "metadata": {},
     "output_type": "execute_result"
    }
   ],
   "source": [
    "# Create Decision Tree classifer object\n",
    "clf_dt = DecisionTreeClassifier(class_weight = 'balanced', random_state=123)\n",
    "\n",
    "# Train Decision Tree Classifer\n",
    "clf_dt.fit(X_train,y_train)"
   ]
  },
  {
   "cell_type": "code",
   "execution_count": 128,
   "metadata": {
    "scrolled": true
   },
   "outputs": [],
   "source": [
    "y_pred_train = clf_dt.predict(X_train)\n",
    "y_pred_val = clf_dt.predict(X_val)"
   ]
  },
  {
   "cell_type": "code",
   "execution_count": 129,
   "metadata": {
    "scrolled": false
   },
   "outputs": [
    {
     "name": "stdout",
     "output_type": "stream",
     "text": [
      "\n",
      "         ========================================\n",
      "           CLASSIFICATION REPORT FOR TRAIN DATA\n",
      "         ========================================\n",
      "        \n",
      "              precision    recall  f1-score   support\n",
      "\n",
      "           0     1.0000    0.9997    0.9999     57281\n",
      "           1     0.8779    1.0000    0.9350       115\n",
      "\n",
      "    accuracy                         0.9997     57396\n",
      "   macro avg     0.9389    0.9999    0.9674     57396\n",
      "weighted avg     0.9998    0.9997    0.9997     57396\n",
      "\n",
      "\n",
      "             =============================================\n",
      "               CLASSIFICATION REPORT FOR VALIDATION DATA\n",
      "             =============================================\n",
      "            \n",
      "              precision    recall  f1-score   support\n",
      "\n",
      "           0     0.9994    0.9993    0.9994     19094\n",
      "           1     0.6829    0.7179    0.7000        39\n",
      "\n",
      "    accuracy                         0.9987     19133\n",
      "   macro avg     0.8412    0.8586    0.8497     19133\n",
      "weighted avg     0.9988    0.9987    0.9988     19133\n",
      "\n",
      "\n",
      "             ========================================\n",
      "               Confusion Matrix FOR TRAIN DATA\n",
      "             ========================================\n",
      "            \n",
      "[[57265    16]\n",
      " [    0   115]]\n",
      "\n",
      "             =============================================\n",
      "               Confusion matrix FOR VALIDATION DATA\n",
      "             =============================================\n",
      "            \n",
      "[[19081    13]\n",
      " [   11    28]]\n"
     ]
    },
    {
     "data": {
      "text/html": [
       "<div>\n",
       "<style scoped>\n",
       "    .dataframe tbody tr th:only-of-type {\n",
       "        vertical-align: middle;\n",
       "    }\n",
       "\n",
       "    .dataframe tbody tr th {\n",
       "        vertical-align: top;\n",
       "    }\n",
       "\n",
       "    .dataframe thead th {\n",
       "        text-align: right;\n",
       "    }\n",
       "</style>\n",
       "<table border=\"1\" class=\"dataframe\">\n",
       "  <thead>\n",
       "    <tr style=\"text-align: right;\">\n",
       "      <th></th>\n",
       "      <th>Model</th>\n",
       "      <th>Train_Accuracy</th>\n",
       "      <th>Train_Recall</th>\n",
       "      <th>Train_Precision</th>\n",
       "      <th>Train_F1_Score</th>\n",
       "      <th>Test_Accuracy</th>\n",
       "      <th>Test_Recall</th>\n",
       "      <th>Test_Precision</th>\n",
       "      <th>Test_F1_Score</th>\n",
       "    </tr>\n",
       "  </thead>\n",
       "  <tbody>\n",
       "    <tr>\n",
       "      <th>0</th>\n",
       "      <td>LogisticRegression</td>\n",
       "      <td>0.998519</td>\n",
       "      <td>0.365217</td>\n",
       "      <td>0.777778</td>\n",
       "      <td>0.497041</td>\n",
       "      <td>0.998275</td>\n",
       "      <td>0.256410</td>\n",
       "      <td>0.714286</td>\n",
       "      <td>0.377358</td>\n",
       "    </tr>\n",
       "    <tr>\n",
       "      <th>1</th>\n",
       "      <td>LogisticRegression_Balanced</td>\n",
       "      <td>0.979668</td>\n",
       "      <td>1.000000</td>\n",
       "      <td>0.089704</td>\n",
       "      <td>0.164639</td>\n",
       "      <td>0.979407</td>\n",
       "      <td>0.897436</td>\n",
       "      <td>0.082353</td>\n",
       "      <td>0.150862</td>\n",
       "    </tr>\n",
       "    <tr>\n",
       "      <th>2</th>\n",
       "      <td>Lasso</td>\n",
       "      <td>0.980556</td>\n",
       "      <td>1.000000</td>\n",
       "      <td>0.093420</td>\n",
       "      <td>0.170877</td>\n",
       "      <td>0.980609</td>\n",
       "      <td>0.897436</td>\n",
       "      <td>0.087065</td>\n",
       "      <td>0.158730</td>\n",
       "    </tr>\n",
       "    <tr>\n",
       "      <th>3</th>\n",
       "      <td>Random Forest</td>\n",
       "      <td>0.999721</td>\n",
       "      <td>1.000000</td>\n",
       "      <td>0.877863</td>\n",
       "      <td>0.934959</td>\n",
       "      <td>0.998955</td>\n",
       "      <td>0.564103</td>\n",
       "      <td>0.880000</td>\n",
       "      <td>0.687500</td>\n",
       "    </tr>\n",
       "    <tr>\n",
       "      <th>4</th>\n",
       "      <td>Random Forest_best</td>\n",
       "      <td>0.996986</td>\n",
       "      <td>0.991304</td>\n",
       "      <td>0.398601</td>\n",
       "      <td>0.568579</td>\n",
       "      <td>0.996550</td>\n",
       "      <td>0.871795</td>\n",
       "      <td>0.357895</td>\n",
       "      <td>0.507463</td>\n",
       "    </tr>\n",
       "    <tr>\n",
       "      <th>5</th>\n",
       "      <td>DecisionTree</td>\n",
       "      <td>0.999721</td>\n",
       "      <td>1.000000</td>\n",
       "      <td>0.877863</td>\n",
       "      <td>0.934959</td>\n",
       "      <td>0.998746</td>\n",
       "      <td>0.717949</td>\n",
       "      <td>0.682927</td>\n",
       "      <td>0.700000</td>\n",
       "    </tr>\n",
       "  </tbody>\n",
       "</table>\n",
       "</div>"
      ],
      "text/plain": [
       "                         Model  Train_Accuracy  Train_Recall  Train_Precision  \\\n",
       "0           LogisticRegression        0.998519      0.365217         0.777778   \n",
       "1  LogisticRegression_Balanced        0.979668      1.000000         0.089704   \n",
       "2                        Lasso        0.980556      1.000000         0.093420   \n",
       "3                Random Forest        0.999721      1.000000         0.877863   \n",
       "4           Random Forest_best        0.996986      0.991304         0.398601   \n",
       "5                 DecisionTree        0.999721      1.000000         0.877863   \n",
       "\n",
       "   Train_F1_Score  Test_Accuracy  Test_Recall  Test_Precision  Test_F1_Score  \n",
       "0        0.497041       0.998275     0.256410        0.714286       0.377358  \n",
       "1        0.164639       0.979407     0.897436        0.082353       0.150862  \n",
       "2        0.170877       0.980609     0.897436        0.087065       0.158730  \n",
       "3        0.934959       0.998955     0.564103        0.880000       0.687500  \n",
       "4        0.568579       0.996550     0.871795        0.357895       0.507463  \n",
       "5        0.934959       0.998746     0.717949        0.682927       0.700000  "
      ]
     },
     "execution_count": 129,
     "metadata": {},
     "output_type": "execute_result"
    }
   ],
   "source": [
    "scores = get_metrics(y_train,y_pred_train,y_val,y_pred_val,\"DecisionTree\",scores)\n",
    "scores"
   ]
  },
  {
   "cell_type": "markdown",
   "metadata": {
    "id": "j9WjzHhrRHyT"
   },
   "source": [
    "### Feature Importances"
   ]
  },
  {
   "cell_type": "code",
   "execution_count": 130,
   "metadata": {},
   "outputs": [],
   "source": [
    "from sklearn.ensemble import ExtraTreesClassifier"
   ]
  },
  {
   "cell_type": "code",
   "execution_count": 131,
   "metadata": {
    "colab": {
     "base_uri": "https://localhost:8080/"
    },
    "executionInfo": {
     "elapsed": 3330,
     "status": "ok",
     "timestamp": 1621456082463,
     "user": {
      "displayName": "Himanshu Rai",
      "photoUrl": "",
      "userId": "05553162241328899148"
     },
     "user_tz": -330
    },
    "id": "DijH2l4zTlJU",
    "outputId": "78deb08b-6361-496b-9d2a-0ef20335dee6"
   },
   "outputs": [
    {
     "data": {
      "text/plain": [
       "ExtraTreesClassifier(class_weight='balanced')"
      ]
     },
     "execution_count": 131,
     "metadata": {},
     "output_type": "execute_result"
    }
   ],
   "source": [
    "#from sklearn.ensemble import ExtraTreesClassifier\n",
    "model = ExtraTreesClassifier(class_weight ='balanced')\n",
    "model.fit(X_train,y_train)"
   ]
  },
  {
   "cell_type": "code",
   "execution_count": 132,
   "metadata": {
    "colab": {
     "base_uri": "https://localhost:8080/",
     "height": 592
    },
    "executionInfo": {
     "elapsed": 875,
     "status": "ok",
     "timestamp": 1621456958768,
     "user": {
      "displayName": "Himanshu Rai",
      "photoUrl": "",
      "userId": "05553162241328899148"
     },
     "user_tz": -330
    },
    "id": "IwBzOIpvUvme",
    "outputId": "72b79c17-60bb-45b4-be16-856505d66703"
   },
   "outputs": [
    {
     "data": {
      "image/png": "[encoded data removed]",
      "text/plain": [
       "<Figure size 720x720 with 1 Axes>"
      ]
     },
     "metadata": {
      "needs_background": "light"
     },
     "output_type": "display_data"
    }
   ],
   "source": [
    "ranked_features = pd.Series(model.feature_importances_,index = X_train.columns)\n",
    "plt.figure(figsize= (10,10))\n",
    "ranked_features.nlargest(20).plot(kind='barh')\n",
    "plt.show()"
   ]
  },
  {
   "cell_type": "markdown",
   "metadata": {
    "id": "gVQvlwcLSF0f"
   },
   "source": [
    "# Max_depth"
   ]
  },
  {
   "cell_type": "code",
   "execution_count": 133,
   "metadata": {
    "id": "p9QCR5XUSF0g",
    "outputId": "ceb71738-9e41-419b-bf1f-db28a55924e7",
    "scrolled": true
   },
   "outputs": [
    {
     "data": {
      "image/png": "[encoded data removed]",
      "text/plain": [
       "<Figure size 432x288 with 1 Axes>"
      ]
     },
     "metadata": {
      "needs_background": "light"
     },
     "output_type": "display_data"
    }
   ],
   "source": [
    "max_depths = np.linspace(1, 50, 50, endpoint=True)\n",
    "\n",
    "train_results = []\n",
    "val_results = []\n",
    "\n",
    "for max_depth in max_depths:\n",
    "    dt = tree.DecisionTreeClassifier(max_depth=max_depth)\n",
    "    dt.fit(X_train, y_train)\n",
    "    \n",
    "    train_pred = dt.predict(X_train)\n",
    "    confusion_matrix_train = confusion_matrix(y_train, train_pred)\n",
    "    Accuracy_Train=(confusion_matrix_train[0,0]+confusion_matrix_train[1,1])/(confusion_matrix_train[0,0]+confusion_matrix_train[0,1]+confusion_matrix_train[1,0]+confusion_matrix_train[1,1])\n",
    "    train_results.append(Accuracy_Train)\n",
    "    \n",
    "    val_pred = dt.predict(X_val)\n",
    "    confusion_matrix_val = confusion_matrix(y_val, val_pred)\n",
    "    Accuracy_val=(confusion_matrix_val[0,0]+confusion_matrix_val[1,1])/(confusion_matrix_val[0,0]+confusion_matrix_val[0,1]+confusion_matrix_val[1,0]+confusion_matrix_val[1,1])\n",
    "    val_results.append(Accuracy_val)\n",
    "    \n",
    "from matplotlib.legend_handler import HandlerLine2D\n",
    "line1, = plt.plot(max_depths, train_results,'b', label='Train Accuracy')\n",
    "line2, = plt.plot(max_depths, val_results,'r', label='val Accuracy')\n",
    "plt.legend(handler_map={line1: HandlerLine2D(numpoints=2)})\n",
    "plt.ylabel('Accuracy')\n",
    "plt.xlabel('Tree depth')\n",
    "plt.show()"
   ]
  },
  {
   "cell_type": "markdown",
   "metadata": {
    "id": "GUTiVU3eSF0i"
   },
   "source": [
    "# DT with imp features and optimized tree depth"
   ]
  },
  {
   "cell_type": "code",
   "execution_count": 134,
   "metadata": {
    "id": "waWysF5ISF0i",
    "scrolled": true
   },
   "outputs": [],
   "source": [
    "clf_dt_best = DecisionTreeClassifier(max_depth=15, class_weight = 'balanced')"
   ]
  },
  {
   "cell_type": "code",
   "execution_count": 135,
   "metadata": {
    "scrolled": true
   },
   "outputs": [
    {
     "data": {
      "text/plain": [
       "DecisionTreeClassifier(class_weight='balanced', max_depth=15)"
      ]
     },
     "execution_count": 135,
     "metadata": {},
     "output_type": "execute_result"
    }
   ],
   "source": [
    "# Train Decision Tree Classifer\n",
    "clf_dt_best.fit(X_train,y_train)"
   ]
  },
  {
   "cell_type": "code",
   "execution_count": 136,
   "metadata": {
    "scrolled": true
   },
   "outputs": [],
   "source": [
    "y_pred_train = clf_dt_best.predict(X_train)\n",
    "y_pred_val = clf_dt_best.predict(X_val)"
   ]
  },
  {
   "cell_type": "code",
   "execution_count": 137,
   "metadata": {
    "scrolled": true
   },
   "outputs": [
    {
     "name": "stdout",
     "output_type": "stream",
     "text": [
      "\n",
      "         ========================================\n",
      "           CLASSIFICATION REPORT FOR TRAIN DATA\n",
      "         ========================================\n",
      "        \n",
      "              precision    recall  f1-score   support\n",
      "\n",
      "           0     1.0000    0.9979    0.9990     57281\n",
      "           1     0.4894    1.0000    0.6571       115\n",
      "\n",
      "    accuracy                         0.9979     57396\n",
      "   macro avg     0.7447    0.9990    0.8280     57396\n",
      "weighted avg     0.9990    0.9979    0.9983     57396\n",
      "\n",
      "\n",
      "             =============================================\n",
      "               CLASSIFICATION REPORT FOR VALIDATION DATA\n",
      "             =============================================\n",
      "            \n",
      "              precision    recall  f1-score   support\n",
      "\n",
      "           0     0.9997    0.9976    0.9987     19094\n",
      "           1     0.4231    0.8462    0.5641        39\n",
      "\n",
      "    accuracy                         0.9973     19133\n",
      "   macro avg     0.7114    0.9219    0.7814     19133\n",
      "weighted avg     0.9985    0.9973    0.9978     19133\n",
      "\n",
      "\n",
      "             ========================================\n",
      "               Confusion Matrix FOR TRAIN DATA\n",
      "             ========================================\n",
      "            \n",
      "[[57161   120]\n",
      " [    0   115]]\n",
      "\n",
      "             =============================================\n",
      "               Confusion matrix FOR VALIDATION DATA\n",
      "             =============================================\n",
      "            \n",
      "[[19049    45]\n",
      " [    6    33]]\n"
     ]
    },
    {
     "data": {
      "text/html": [
       "<div>\n",
       "<style scoped>\n",
       "    .dataframe tbody tr th:only-of-type {\n",
       "        vertical-align: middle;\n",
       "    }\n",
       "\n",
       "    .dataframe tbody tr th {\n",
       "        vertical-align: top;\n",
       "    }\n",
       "\n",
       "    .dataframe thead th {\n",
       "        text-align: right;\n",
       "    }\n",
       "</style>\n",
       "<table border=\"1\" class=\"dataframe\">\n",
       "  <thead>\n",
       "    <tr style=\"text-align: right;\">\n",
       "      <th></th>\n",
       "      <th>Model</th>\n",
       "      <th>Train_Accuracy</th>\n",
       "      <th>Train_Recall</th>\n",
       "      <th>Train_Precision</th>\n",
       "      <th>Train_F1_Score</th>\n",
       "      <th>Test_Accuracy</th>\n",
       "      <th>Test_Recall</th>\n",
       "      <th>Test_Precision</th>\n",
       "      <th>Test_F1_Score</th>\n",
       "    </tr>\n",
       "  </thead>\n",
       "  <tbody>\n",
       "    <tr>\n",
       "      <th>0</th>\n",
       "      <td>LogisticRegression</td>\n",
       "      <td>0.998519</td>\n",
       "      <td>0.365217</td>\n",
       "      <td>0.777778</td>\n",
       "      <td>0.497041</td>\n",
       "      <td>0.998275</td>\n",
       "      <td>0.256410</td>\n",
       "      <td>0.714286</td>\n",
       "      <td>0.377358</td>\n",
       "    </tr>\n",
       "    <tr>\n",
       "      <th>1</th>\n",
       "      <td>LogisticRegression_Balanced</td>\n",
       "      <td>0.979668</td>\n",
       "      <td>1.000000</td>\n",
       "      <td>0.089704</td>\n",
       "      <td>0.164639</td>\n",
       "      <td>0.979407</td>\n",
       "      <td>0.897436</td>\n",
       "      <td>0.082353</td>\n",
       "      <td>0.150862</td>\n",
       "    </tr>\n",
       "    <tr>\n",
       "      <th>2</th>\n",
       "      <td>Lasso</td>\n",
       "      <td>0.980556</td>\n",
       "      <td>1.000000</td>\n",
       "      <td>0.093420</td>\n",
       "      <td>0.170877</td>\n",
       "      <td>0.980609</td>\n",
       "      <td>0.897436</td>\n",
       "      <td>0.087065</td>\n",
       "      <td>0.158730</td>\n",
       "    </tr>\n",
       "    <tr>\n",
       "      <th>3</th>\n",
       "      <td>Random Forest</td>\n",
       "      <td>0.999721</td>\n",
       "      <td>1.000000</td>\n",
       "      <td>0.877863</td>\n",
       "      <td>0.934959</td>\n",
       "      <td>0.998955</td>\n",
       "      <td>0.564103</td>\n",
       "      <td>0.880000</td>\n",
       "      <td>0.687500</td>\n",
       "    </tr>\n",
       "    <tr>\n",
       "      <th>4</th>\n",
       "      <td>Random Forest_best</td>\n",
       "      <td>0.996986</td>\n",
       "      <td>0.991304</td>\n",
       "      <td>0.398601</td>\n",
       "      <td>0.568579</td>\n",
       "      <td>0.996550</td>\n",
       "      <td>0.871795</td>\n",
       "      <td>0.357895</td>\n",
       "      <td>0.507463</td>\n",
       "    </tr>\n",
       "    <tr>\n",
       "      <th>5</th>\n",
       "      <td>DecisionTree</td>\n",
       "      <td>0.999721</td>\n",
       "      <td>1.000000</td>\n",
       "      <td>0.877863</td>\n",
       "      <td>0.934959</td>\n",
       "      <td>0.998746</td>\n",
       "      <td>0.717949</td>\n",
       "      <td>0.682927</td>\n",
       "      <td>0.700000</td>\n",
       "    </tr>\n",
       "    <tr>\n",
       "      <th>6</th>\n",
       "      <td>DecisionTree_best</td>\n",
       "      <td>0.997909</td>\n",
       "      <td>1.000000</td>\n",
       "      <td>0.489362</td>\n",
       "      <td>0.657143</td>\n",
       "      <td>0.997334</td>\n",
       "      <td>0.846154</td>\n",
       "      <td>0.423077</td>\n",
       "      <td>0.564103</td>\n",
       "    </tr>\n",
       "  </tbody>\n",
       "</table>\n",
       "</div>"
      ],
      "text/plain": [
       "                         Model  Train_Accuracy  Train_Recall  Train_Precision  \\\n",
       "0           LogisticRegression        0.998519      0.365217         0.777778   \n",
       "1  LogisticRegression_Balanced        0.979668      1.000000         0.089704   \n",
       "2                        Lasso        0.980556      1.000000         0.093420   \n",
       "3                Random Forest        0.999721      1.000000         0.877863   \n",
       "4           Random Forest_best        0.996986      0.991304         0.398601   \n",
       "5                 DecisionTree        0.999721      1.000000         0.877863   \n",
       "6            DecisionTree_best        0.997909      1.000000         0.489362   \n",
       "\n",
       "   Train_F1_Score  Test_Accuracy  Test_Recall  Test_Precision  Test_F1_Score  \n",
       "0        0.497041       0.998275     0.256410        0.714286       0.377358  \n",
       "1        0.164639       0.979407     0.897436        0.082353       0.150862  \n",
       "2        0.170877       0.980609     0.897436        0.087065       0.158730  \n",
       "3        0.934959       0.998955     0.564103        0.880000       0.687500  \n",
       "4        0.568579       0.996550     0.871795        0.357895       0.507463  \n",
       "5        0.934959       0.998746     0.717949        0.682927       0.700000  \n",
       "6        0.657143       0.997334     0.846154        0.423077       0.564103  "
      ]
     },
     "execution_count": 137,
     "metadata": {},
     "output_type": "execute_result"
    }
   ],
   "source": [
    "scores = get_metrics(y_train,y_pred_train,y_val,y_pred_val,\"DecisionTree_best\",scores)\n",
    "scores"
   ]
  },
  {
   "cell_type": "markdown",
   "metadata": {},
   "source": [
    "### Decision Tree with Grid-Search CV - Hyper-parameter Tuning"
   ]
  },
  {
   "cell_type": "code",
   "execution_count": 138,
   "metadata": {
    "scrolled": true
   },
   "outputs": [],
   "source": [
    "# set of parameters to test\n",
    "param_grid = {\"criterion\": [\"gini\"],\n",
    "              \"max_depth\": [8,12,16],\n",
    "              \"min_samples_leaf\": [2,4],\n",
    "               \"max_leaf_nodes\": [10,20,30],\n",
    "              \"ccp_alpha\" : [0.001]\n",
    "              }"
   ]
  },
  {
   "cell_type": "code",
   "execution_count": 139,
   "metadata": {
    "scrolled": true
   },
   "outputs": [
    {
     "name": "stdout",
     "output_type": "stream",
     "text": [
      "Fitting 3 folds for each of 18 candidates, totalling 54 fits\n"
     ]
    },
    {
     "name": "stderr",
     "output_type": "stream",
     "text": [
      "[Parallel(n_jobs=1)]: Using backend SequentialBackend with 1 concurrent workers.\n",
      "[Parallel(n_jobs=1)]: Done  54 out of  54 | elapsed:    9.4s finished\n"
     ]
    },
    {
     "data": {
      "text/plain": [
       "GridSearchCV(cv=3,\n",
       "             estimator=DecisionTreeClassifier(class_weight='balanced',\n",
       "                                              random_state=123),\n",
       "             param_grid={'ccp_alpha': [0.001], 'criterion': ['gini'],\n",
       "                         'max_depth': [8, 12, 16],\n",
       "                         'max_leaf_nodes': [10, 20, 30],\n",
       "                         'min_samples_leaf': [2, 4]},\n",
       "             scoring='f1', verbose=True)"
      ]
     },
     "execution_count": 139,
     "metadata": {},
     "output_type": "execute_result"
    }
   ],
   "source": [
    "dt = tree.DecisionTreeClassifier(random_state=123, class_weight = 'balanced')\n",
    "clf_dt_grid = GridSearchCV(dt, param_grid,cv=3,scoring='f1',verbose = True)\n",
    "clf_dt_grid.fit(X_train, y_train)"
   ]
  },
  {
   "cell_type": "code",
   "execution_count": 140,
   "metadata": {
    "scrolled": true
   },
   "outputs": [
    {
     "data": {
      "text/plain": [
       "{'ccp_alpha': 0.001,\n",
       " 'criterion': 'gini',\n",
       " 'max_depth': 8,\n",
       " 'max_leaf_nodes': 20,\n",
       " 'min_samples_leaf': 2}"
      ]
     },
     "execution_count": 140,
     "metadata": {},
     "output_type": "execute_result"
    }
   ],
   "source": [
    "clf_dt_grid.best_params_"
   ]
  },
  {
   "cell_type": "code",
   "execution_count": 141,
   "metadata": {
    "scrolled": true
   },
   "outputs": [],
   "source": [
    "y_pred_train = clf_dt_grid.predict(X_train)\n",
    "y_pred_val = clf_dt_grid.predict(X_val)"
   ]
  },
  {
   "cell_type": "code",
   "execution_count": 142,
   "metadata": {
    "scrolled": true
   },
   "outputs": [
    {
     "name": "stdout",
     "output_type": "stream",
     "text": [
      "\n",
      "         ========================================\n",
      "           CLASSIFICATION REPORT FOR TRAIN DATA\n",
      "         ========================================\n",
      "        \n",
      "              precision    recall  f1-score   support\n",
      "\n",
      "           0     1.0000    0.9941    0.9970     57281\n",
      "           1     0.2539    1.0000    0.4049       115\n",
      "\n",
      "    accuracy                         0.9941     57396\n",
      "   macro avg     0.6269    0.9970    0.7010     57396\n",
      "weighted avg     0.9985    0.9941    0.9959     57396\n",
      "\n",
      "\n",
      "             =============================================\n",
      "               CLASSIFICATION REPORT FOR VALIDATION DATA\n",
      "             =============================================\n",
      "            \n",
      "              precision    recall  f1-score   support\n",
      "\n",
      "           0     0.9998    0.9929    0.9963     19094\n",
      "           1     0.2047    0.8974    0.3333        39\n",
      "\n",
      "    accuracy                         0.9927     19133\n",
      "   macro avg     0.6022    0.9452    0.6648     19133\n",
      "weighted avg     0.9982    0.9927    0.9950     19133\n",
      "\n",
      "\n",
      "             ========================================\n",
      "               Confusion Matrix FOR TRAIN DATA\n",
      "             ========================================\n",
      "            \n",
      "[[56943   338]\n",
      " [    0   115]]\n",
      "\n",
      "             =============================================\n",
      "               Confusion matrix FOR VALIDATION DATA\n",
      "             =============================================\n",
      "            \n",
      "[[18958   136]\n",
      " [    4    35]]\n"
     ]
    },
    {
     "data": {
      "text/html": [
       "<div>\n",
       "<style scoped>\n",
       "    .dataframe tbody tr th:only-of-type {\n",
       "        vertical-align: middle;\n",
       "    }\n",
       "\n",
       "    .dataframe tbody tr th {\n",
       "        vertical-align: top;\n",
       "    }\n",
       "\n",
       "    .dataframe thead th {\n",
       "        text-align: right;\n",
       "    }\n",
       "</style>\n",
       "<table border=\"1\" class=\"dataframe\">\n",
       "  <thead>\n",
       "    <tr style=\"text-align: right;\">\n",
       "      <th></th>\n",
       "      <th>Model</th>\n",
       "      <th>Train_Accuracy</th>\n",
       "      <th>Train_Recall</th>\n",
       "      <th>Train_Precision</th>\n",
       "      <th>Train_F1_Score</th>\n",
       "      <th>Test_Accuracy</th>\n",
       "      <th>Test_Recall</th>\n",
       "      <th>Test_Precision</th>\n",
       "      <th>Test_F1_Score</th>\n",
       "    </tr>\n",
       "  </thead>\n",
       "  <tbody>\n",
       "    <tr>\n",
       "      <th>0</th>\n",
       "      <td>LogisticRegression</td>\n",
       "      <td>0.998519</td>\n",
       "      <td>0.365217</td>\n",
       "      <td>0.777778</td>\n",
       "      <td>0.497041</td>\n",
       "      <td>0.998275</td>\n",
       "      <td>0.256410</td>\n",
       "      <td>0.714286</td>\n",
       "      <td>0.377358</td>\n",
       "    </tr>\n",
       "    <tr>\n",
       "      <th>1</th>\n",
       "      <td>LogisticRegression_Balanced</td>\n",
       "      <td>0.979668</td>\n",
       "      <td>1.000000</td>\n",
       "      <td>0.089704</td>\n",
       "      <td>0.164639</td>\n",
       "      <td>0.979407</td>\n",
       "      <td>0.897436</td>\n",
       "      <td>0.082353</td>\n",
       "      <td>0.150862</td>\n",
       "    </tr>\n",
       "    <tr>\n",
       "      <th>2</th>\n",
       "      <td>Lasso</td>\n",
       "      <td>0.980556</td>\n",
       "      <td>1.000000</td>\n",
       "      <td>0.093420</td>\n",
       "      <td>0.170877</td>\n",
       "      <td>0.980609</td>\n",
       "      <td>0.897436</td>\n",
       "      <td>0.087065</td>\n",
       "      <td>0.158730</td>\n",
       "    </tr>\n",
       "    <tr>\n",
       "      <th>3</th>\n",
       "      <td>Random Forest</td>\n",
       "      <td>0.999721</td>\n",
       "      <td>1.000000</td>\n",
       "      <td>0.877863</td>\n",
       "      <td>0.934959</td>\n",
       "      <td>0.998955</td>\n",
       "      <td>0.564103</td>\n",
       "      <td>0.880000</td>\n",
       "      <td>0.687500</td>\n",
       "    </tr>\n",
       "    <tr>\n",
       "      <th>4</th>\n",
       "      <td>Random Forest_best</td>\n",
       "      <td>0.996986</td>\n",
       "      <td>0.991304</td>\n",
       "      <td>0.398601</td>\n",
       "      <td>0.568579</td>\n",
       "      <td>0.996550</td>\n",
       "      <td>0.871795</td>\n",
       "      <td>0.357895</td>\n",
       "      <td>0.507463</td>\n",
       "    </tr>\n",
       "    <tr>\n",
       "      <th>5</th>\n",
       "      <td>DecisionTree</td>\n",
       "      <td>0.999721</td>\n",
       "      <td>1.000000</td>\n",
       "      <td>0.877863</td>\n",
       "      <td>0.934959</td>\n",
       "      <td>0.998746</td>\n",
       "      <td>0.717949</td>\n",
       "      <td>0.682927</td>\n",
       "      <td>0.700000</td>\n",
       "    </tr>\n",
       "    <tr>\n",
       "      <th>6</th>\n",
       "      <td>DecisionTree_best</td>\n",
       "      <td>0.997909</td>\n",
       "      <td>1.000000</td>\n",
       "      <td>0.489362</td>\n",
       "      <td>0.657143</td>\n",
       "      <td>0.997334</td>\n",
       "      <td>0.846154</td>\n",
       "      <td>0.423077</td>\n",
       "      <td>0.564103</td>\n",
       "    </tr>\n",
       "    <tr>\n",
       "      <th>7</th>\n",
       "      <td>DT_gridsearch</td>\n",
       "      <td>0.994111</td>\n",
       "      <td>1.000000</td>\n",
       "      <td>0.253863</td>\n",
       "      <td>0.404930</td>\n",
       "      <td>0.992683</td>\n",
       "      <td>0.897436</td>\n",
       "      <td>0.204678</td>\n",
       "      <td>0.333333</td>\n",
       "    </tr>\n",
       "  </tbody>\n",
       "</table>\n",
       "</div>"
      ],
      "text/plain": [
       "                         Model  Train_Accuracy  Train_Recall  Train_Precision  \\\n",
       "0           LogisticRegression        0.998519      0.365217         0.777778   \n",
       "1  LogisticRegression_Balanced        0.979668      1.000000         0.089704   \n",
       "2                        Lasso        0.980556      1.000000         0.093420   \n",
       "3                Random Forest        0.999721      1.000000         0.877863   \n",
       "4           Random Forest_best        0.996986      0.991304         0.398601   \n",
       "5                 DecisionTree        0.999721      1.000000         0.877863   \n",
       "6            DecisionTree_best        0.997909      1.000000         0.489362   \n",
       "7                DT_gridsearch        0.994111      1.000000         0.253863   \n",
       "\n",
       "   Train_F1_Score  Test_Accuracy  Test_Recall  Test_Precision  Test_F1_Score  \n",
       "0        0.497041       0.998275     0.256410        0.714286       0.377358  \n",
       "1        0.164639       0.979407     0.897436        0.082353       0.150862  \n",
       "2        0.170877       0.980609     0.897436        0.087065       0.158730  \n",
       "3        0.934959       0.998955     0.564103        0.880000       0.687500  \n",
       "4        0.568579       0.996550     0.871795        0.357895       0.507463  \n",
       "5        0.934959       0.998746     0.717949        0.682927       0.700000  \n",
       "6        0.657143       0.997334     0.846154        0.423077       0.564103  \n",
       "7        0.404930       0.992683     0.897436        0.204678       0.333333  "
      ]
     },
     "execution_count": 142,
     "metadata": {},
     "output_type": "execute_result"
    }
   ],
   "source": [
    "scores = get_metrics(y_train,y_pred_train,y_val,y_pred_val,\"DT_gridsearch\",scores)\n",
    "scores"
   ]
  },
  {
   "cell_type": "code",
   "execution_count": 183,
   "metadata": {
    "scrolled": true
   },
   "outputs": [],
   "source": [
    "y_pred_test = clf_dt_grid.predict(test_data)\n",
    "df = pd.DataFrame(y_pred_test)\n",
    "df.to_csv(\"dt_gridsearch.csv\")"
   ]
  },
  {
   "cell_type": "markdown",
   "metadata": {
    "id": "bMqBBQzMSFwt"
   },
   "source": [
    "\n",
    "\n",
    "# ROC AUC Curve"
   ]
  },
  {
   "cell_type": "code",
   "execution_count": 143,
   "metadata": {
    "id": "Q7PyckAfSFwt",
    "outputId": "4bb93371-1224-48bc-a5ec-d2bda2743220",
    "scrolled": true
   },
   "outputs": [
    {
     "data": {
      "image/png": "[encoded data removed]",
      "text/plain": [
       "<Figure size 432x288 with 1 Axes>"
      ]
     },
     "metadata": {
      "needs_background": "light"
     },
     "output_type": "display_data"
    }
   ],
   "source": [
    "y_pred_train_prob = clf_dt_grid.predict_proba(X_train)[:,1]\n",
    "fpr, tpr, threshold = roc_curve(y_train, y_pred_train_prob, pos_label = 1)\n",
    "auc = roc_auc_score(y_train, y_pred_train)\n",
    "plt.plot(fpr,tpr,label=\"auc=\"+str(auc))\n",
    "plt.xlabel('False Positive Rate')\n",
    "plt.ylabel('True Positive Rate')\n",
    "plt.legend()\n",
    "plt.show()"
   ]
  },
  {
   "cell_type": "markdown",
   "metadata": {},
   "source": [
    "### Adaboost Classifier\n",
    "\n",
    "The most important parameters are base_estimator, n_estimators, and learning_rate.\n",
    "-  **base_estimator** is the learning algorithm to use to train the weak models. This will almost always not needed to be changed because by far the most common learner to use with AdaBoost is a decision tree – this parameter’s default argument.\n",
    "-  **n_estimators** is the number of models to iteratively train.\n",
    "-  **learning_rate** is the contribution of each model to the weights and defaults to 1. Reducing the learning rate will mean the weights will be increased or decreased to a small degree, forcing the model train slower (but sometimes resulting in better performance scores).\n",
    "-  **loss** is exclusive to AdaBoostRegressor and sets the loss function to use when updating weights. This defaults to a linear loss function however can be changed to square or exponential.\n"
   ]
  },
  {
   "cell_type": "code",
   "execution_count": 144,
   "metadata": {},
   "outputs": [
    {
     "data": {
      "text/plain": [
       "AdaBoostClassifier(base_estimator=DecisionTreeClassifier(class_weight='balanced'),\n",
       "                   learning_rate=0.4, n_estimators=100, random_state=123)"
      ]
     },
     "execution_count": 144,
     "metadata": {},
     "output_type": "execute_result"
    }
   ],
   "source": [
    "clf_ada = AdaBoostClassifier(DecisionTreeClassifier(criterion=\"gini\",class_weight='balanced'),n_estimators=100,learning_rate = 0.4,random_state=123)\n",
    "clf_ada.fit(X_train, y_train)"
   ]
  },
  {
   "cell_type": "code",
   "execution_count": 145,
   "metadata": {},
   "outputs": [],
   "source": [
    "y_pred_train = clf_ada.predict(X_train)\n",
    "y_pred_val = clf_ada.predict(X_val)"
   ]
  },
  {
   "cell_type": "code",
   "execution_count": 146,
   "metadata": {},
   "outputs": [
    {
     "name": "stdout",
     "output_type": "stream",
     "text": [
      "\n",
      "         ========================================\n",
      "           CLASSIFICATION REPORT FOR TRAIN DATA\n",
      "         ========================================\n",
      "        \n",
      "              precision    recall  f1-score   support\n",
      "\n",
      "           0     1.0000    0.9997    0.9999     57281\n",
      "           1     0.8779    1.0000    0.9350       115\n",
      "\n",
      "    accuracy                         0.9997     57396\n",
      "   macro avg     0.9389    0.9999    0.9674     57396\n",
      "weighted avg     0.9998    0.9997    0.9997     57396\n",
      "\n",
      "\n",
      "             =============================================\n",
      "               CLASSIFICATION REPORT FOR VALIDATION DATA\n",
      "             =============================================\n",
      "            \n",
      "              precision    recall  f1-score   support\n",
      "\n",
      "           0     0.9992    0.9997    0.9994     19094\n",
      "           1     0.7931    0.5897    0.6765        39\n",
      "\n",
      "    accuracy                         0.9989     19133\n",
      "   macro avg     0.8961    0.7947    0.8379     19133\n",
      "weighted avg     0.9987    0.9989    0.9988     19133\n",
      "\n",
      "\n",
      "             ========================================\n",
      "               Confusion Matrix FOR TRAIN DATA\n",
      "             ========================================\n",
      "            \n",
      "[[57265    16]\n",
      " [    0   115]]\n",
      "\n",
      "             =============================================\n",
      "               Confusion matrix FOR VALIDATION DATA\n",
      "             =============================================\n",
      "            \n",
      "[[19088     6]\n",
      " [   16    23]]\n"
     ]
    },
    {
     "data": {
      "text/html": [
       "<div>\n",
       "<style scoped>\n",
       "    .dataframe tbody tr th:only-of-type {\n",
       "        vertical-align: middle;\n",
       "    }\n",
       "\n",
       "    .dataframe tbody tr th {\n",
       "        vertical-align: top;\n",
       "    }\n",
       "\n",
       "    .dataframe thead th {\n",
       "        text-align: right;\n",
       "    }\n",
       "</style>\n",
       "<table border=\"1\" class=\"dataframe\">\n",
       "  <thead>\n",
       "    <tr style=\"text-align: right;\">\n",
       "      <th></th>\n",
       "      <th>Model</th>\n",
       "      <th>Train_Accuracy</th>\n",
       "      <th>Train_Recall</th>\n",
       "      <th>Train_Precision</th>\n",
       "      <th>Train_F1_Score</th>\n",
       "      <th>Test_Accuracy</th>\n",
       "      <th>Test_Recall</th>\n",
       "      <th>Test_Precision</th>\n",
       "      <th>Test_F1_Score</th>\n",
       "    </tr>\n",
       "  </thead>\n",
       "  <tbody>\n",
       "    <tr>\n",
       "      <th>0</th>\n",
       "      <td>LogisticRegression</td>\n",
       "      <td>0.998519</td>\n",
       "      <td>0.365217</td>\n",
       "      <td>0.777778</td>\n",
       "      <td>0.497041</td>\n",
       "      <td>0.998275</td>\n",
       "      <td>0.256410</td>\n",
       "      <td>0.714286</td>\n",
       "      <td>0.377358</td>\n",
       "    </tr>\n",
       "    <tr>\n",
       "      <th>1</th>\n",
       "      <td>LogisticRegression_Balanced</td>\n",
       "      <td>0.979668</td>\n",
       "      <td>1.000000</td>\n",
       "      <td>0.089704</td>\n",
       "      <td>0.164639</td>\n",
       "      <td>0.979407</td>\n",
       "      <td>0.897436</td>\n",
       "      <td>0.082353</td>\n",
       "      <td>0.150862</td>\n",
       "    </tr>\n",
       "    <tr>\n",
       "      <th>2</th>\n",
       "      <td>Lasso</td>\n",
       "      <td>0.980556</td>\n",
       "      <td>1.000000</td>\n",
       "      <td>0.093420</td>\n",
       "      <td>0.170877</td>\n",
       "      <td>0.980609</td>\n",
       "      <td>0.897436</td>\n",
       "      <td>0.087065</td>\n",
       "      <td>0.158730</td>\n",
       "    </tr>\n",
       "    <tr>\n",
       "      <th>3</th>\n",
       "      <td>Random Forest</td>\n",
       "      <td>0.999721</td>\n",
       "      <td>1.000000</td>\n",
       "      <td>0.877863</td>\n",
       "      <td>0.934959</td>\n",
       "      <td>0.998955</td>\n",
       "      <td>0.564103</td>\n",
       "      <td>0.880000</td>\n",
       "      <td>0.687500</td>\n",
       "    </tr>\n",
       "    <tr>\n",
       "      <th>4</th>\n",
       "      <td>Random Forest_best</td>\n",
       "      <td>0.996986</td>\n",
       "      <td>0.991304</td>\n",
       "      <td>0.398601</td>\n",
       "      <td>0.568579</td>\n",
       "      <td>0.996550</td>\n",
       "      <td>0.871795</td>\n",
       "      <td>0.357895</td>\n",
       "      <td>0.507463</td>\n",
       "    </tr>\n",
       "    <tr>\n",
       "      <th>5</th>\n",
       "      <td>DecisionTree</td>\n",
       "      <td>0.999721</td>\n",
       "      <td>1.000000</td>\n",
       "      <td>0.877863</td>\n",
       "      <td>0.934959</td>\n",
       "      <td>0.998746</td>\n",
       "      <td>0.717949</td>\n",
       "      <td>0.682927</td>\n",
       "      <td>0.700000</td>\n",
       "    </tr>\n",
       "    <tr>\n",
       "      <th>6</th>\n",
       "      <td>DecisionTree_best</td>\n",
       "      <td>0.997909</td>\n",
       "      <td>1.000000</td>\n",
       "      <td>0.489362</td>\n",
       "      <td>0.657143</td>\n",
       "      <td>0.997334</td>\n",
       "      <td>0.846154</td>\n",
       "      <td>0.423077</td>\n",
       "      <td>0.564103</td>\n",
       "    </tr>\n",
       "    <tr>\n",
       "      <th>7</th>\n",
       "      <td>DT_gridsearch</td>\n",
       "      <td>0.994111</td>\n",
       "      <td>1.000000</td>\n",
       "      <td>0.253863</td>\n",
       "      <td>0.404930</td>\n",
       "      <td>0.992683</td>\n",
       "      <td>0.897436</td>\n",
       "      <td>0.204678</td>\n",
       "      <td>0.333333</td>\n",
       "    </tr>\n",
       "    <tr>\n",
       "      <th>8</th>\n",
       "      <td>Adaboost</td>\n",
       "      <td>0.999721</td>\n",
       "      <td>1.000000</td>\n",
       "      <td>0.877863</td>\n",
       "      <td>0.934959</td>\n",
       "      <td>0.998850</td>\n",
       "      <td>0.589744</td>\n",
       "      <td>0.793103</td>\n",
       "      <td>0.676471</td>\n",
       "    </tr>\n",
       "  </tbody>\n",
       "</table>\n",
       "</div>"
      ],
      "text/plain": [
       "                         Model  Train_Accuracy  Train_Recall  Train_Precision  \\\n",
       "0           LogisticRegression        0.998519      0.365217         0.777778   \n",
       "1  LogisticRegression_Balanced        0.979668      1.000000         0.089704   \n",
       "2                        Lasso        0.980556      1.000000         0.093420   \n",
       "3                Random Forest        0.999721      1.000000         0.877863   \n",
       "4           Random Forest_best        0.996986      0.991304         0.398601   \n",
       "5                 DecisionTree        0.999721      1.000000         0.877863   \n",
       "6            DecisionTree_best        0.997909      1.000000         0.489362   \n",
       "7                DT_gridsearch        0.994111      1.000000         0.253863   \n",
       "8                     Adaboost        0.999721      1.000000         0.877863   \n",
       "\n",
       "   Train_F1_Score  Test_Accuracy  Test_Recall  Test_Precision  Test_F1_Score  \n",
       "0        0.497041       0.998275     0.256410        0.714286       0.377358  \n",
       "1        0.164639       0.979407     0.897436        0.082353       0.150862  \n",
       "2        0.170877       0.980609     0.897436        0.087065       0.158730  \n",
       "3        0.934959       0.998955     0.564103        0.880000       0.687500  \n",
       "4        0.568579       0.996550     0.871795        0.357895       0.507463  \n",
       "5        0.934959       0.998746     0.717949        0.682927       0.700000  \n",
       "6        0.657143       0.997334     0.846154        0.423077       0.564103  \n",
       "7        0.404930       0.992683     0.897436        0.204678       0.333333  \n",
       "8        0.934959       0.998850     0.589744        0.793103       0.676471  "
      ]
     },
     "execution_count": 146,
     "metadata": {},
     "output_type": "execute_result"
    }
   ],
   "source": [
    "scores = get_metrics(y_train,y_pred_train,y_val,y_pred_val,\"Adaboost\",scores)\n",
    "scores"
   ]
  },
  {
   "cell_type": "markdown",
   "metadata": {},
   "source": [
    "### Adaboost Classifier with Grid Search CV"
   ]
  },
  {
   "cell_type": "code",
   "execution_count": 147,
   "metadata": {},
   "outputs": [],
   "source": [
    "# GridSearchCV\n",
    "param_grid = {'n_estimators' : [50, 100, 200],\n",
    "              'learning_rate' : [0.01,0.05,0.1,0.2]}\n",
    "\n",
    "clf_grid_ada = GridSearchCV(AdaBoostClassifier(DecisionTreeClassifier(class_weight='balanced')), param_grid,n_jobs=-1)\n"
   ]
  },
  {
   "cell_type": "code",
   "execution_count": 148,
   "metadata": {},
   "outputs": [
    {
     "data": {
      "text/plain": [
       "GridSearchCV(estimator=AdaBoostClassifier(base_estimator=DecisionTreeClassifier(class_weight='balanced')),\n",
       "             n_jobs=-1,\n",
       "             param_grid={'learning_rate': [0.01, 0.05, 0.1, 0.2],\n",
       "                         'n_estimators': [50, 100, 200]})"
      ]
     },
     "execution_count": 148,
     "metadata": {},
     "output_type": "execute_result"
    }
   ],
   "source": [
    "clf_grid_ada.fit(X_train, y_train)"
   ]
  },
  {
   "cell_type": "code",
   "execution_count": 149,
   "metadata": {},
   "outputs": [
    {
     "name": "stdout",
     "output_type": "stream",
     "text": [
      "AdaBoostClassifier(base_estimator=DecisionTreeClassifier(class_weight='balanced'),\n",
      "                   learning_rate=0.2, n_estimators=200)\n",
      "0.9985887409002897 {'learning_rate': 0.2, 'n_estimators': 200}\n"
     ]
    }
   ],
   "source": [
    "best_ada_model = clf_grid_ada.best_estimator_\n",
    "print(best_ada_model)\n",
    "print (clf_grid_ada.best_score_, clf_grid_ada.best_params_) "
   ]
  },
  {
   "cell_type": "code",
   "execution_count": 150,
   "metadata": {},
   "outputs": [],
   "source": [
    "y_pred_train = best_ada_model.predict(X_train)\n",
    "y_pred_val = best_ada_model.predict(X_val)"
   ]
  },
  {
   "cell_type": "code",
   "execution_count": 151,
   "metadata": {},
   "outputs": [
    {
     "name": "stdout",
     "output_type": "stream",
     "text": [
      "\n",
      "         ========================================\n",
      "           CLASSIFICATION REPORT FOR TRAIN DATA\n",
      "         ========================================\n",
      "        \n",
      "              precision    recall  f1-score   support\n",
      "\n",
      "           0     1.0000    0.9997    0.9999     57281\n",
      "           1     0.8779    1.0000    0.9350       115\n",
      "\n",
      "    accuracy                         0.9997     57396\n",
      "   macro avg     0.9389    0.9999    0.9674     57396\n",
      "weighted avg     0.9998    0.9997    0.9997     57396\n",
      "\n",
      "\n",
      "             =============================================\n",
      "               CLASSIFICATION REPORT FOR VALIDATION DATA\n",
      "             =============================================\n",
      "            \n",
      "              precision    recall  f1-score   support\n",
      "\n",
      "           0     0.9993    0.9996    0.9995     19094\n",
      "           1     0.7812    0.6410    0.7042        39\n",
      "\n",
      "    accuracy                         0.9989     19133\n",
      "   macro avg     0.8903    0.8203    0.8518     19133\n",
      "weighted avg     0.9988    0.9989    0.9988     19133\n",
      "\n",
      "\n",
      "             ========================================\n",
      "               Confusion Matrix FOR TRAIN DATA\n",
      "             ========================================\n",
      "            \n",
      "[[57265    16]\n",
      " [    0   115]]\n",
      "\n",
      "             =============================================\n",
      "               Confusion matrix FOR VALIDATION DATA\n",
      "             =============================================\n",
      "            \n",
      "[[19087     7]\n",
      " [   14    25]]\n"
     ]
    },
    {
     "data": {
      "text/html": [
       "<div>\n",
       "<style scoped>\n",
       "    .dataframe tbody tr th:only-of-type {\n",
       "        vertical-align: middle;\n",
       "    }\n",
       "\n",
       "    .dataframe tbody tr th {\n",
       "        vertical-align: top;\n",
       "    }\n",
       "\n",
       "    .dataframe thead th {\n",
       "        text-align: right;\n",
       "    }\n",
       "</style>\n",
       "<table border=\"1\" class=\"dataframe\">\n",
       "  <thead>\n",
       "    <tr style=\"text-align: right;\">\n",
       "      <th></th>\n",
       "      <th>Model</th>\n",
       "      <th>Train_Accuracy</th>\n",
       "      <th>Train_Recall</th>\n",
       "      <th>Train_Precision</th>\n",
       "      <th>Train_F1_Score</th>\n",
       "      <th>Test_Accuracy</th>\n",
       "      <th>Test_Recall</th>\n",
       "      <th>Test_Precision</th>\n",
       "      <th>Test_F1_Score</th>\n",
       "    </tr>\n",
       "  </thead>\n",
       "  <tbody>\n",
       "    <tr>\n",
       "      <th>0</th>\n",
       "      <td>LogisticRegression</td>\n",
       "      <td>0.998519</td>\n",
       "      <td>0.365217</td>\n",
       "      <td>0.777778</td>\n",
       "      <td>0.497041</td>\n",
       "      <td>0.998275</td>\n",
       "      <td>0.256410</td>\n",
       "      <td>0.714286</td>\n",
       "      <td>0.377358</td>\n",
       "    </tr>\n",
       "    <tr>\n",
       "      <th>1</th>\n",
       "      <td>LogisticRegression_Balanced</td>\n",
       "      <td>0.979668</td>\n",
       "      <td>1.000000</td>\n",
       "      <td>0.089704</td>\n",
       "      <td>0.164639</td>\n",
       "      <td>0.979407</td>\n",
       "      <td>0.897436</td>\n",
       "      <td>0.082353</td>\n",
       "      <td>0.150862</td>\n",
       "    </tr>\n",
       "    <tr>\n",
       "      <th>2</th>\n",
       "      <td>Lasso</td>\n",
       "      <td>0.980556</td>\n",
       "      <td>1.000000</td>\n",
       "      <td>0.093420</td>\n",
       "      <td>0.170877</td>\n",
       "      <td>0.980609</td>\n",
       "      <td>0.897436</td>\n",
       "      <td>0.087065</td>\n",
       "      <td>0.158730</td>\n",
       "    </tr>\n",
       "    <tr>\n",
       "      <th>3</th>\n",
       "      <td>Random Forest</td>\n",
       "      <td>0.999721</td>\n",
       "      <td>1.000000</td>\n",
       "      <td>0.877863</td>\n",
       "      <td>0.934959</td>\n",
       "      <td>0.998955</td>\n",
       "      <td>0.564103</td>\n",
       "      <td>0.880000</td>\n",
       "      <td>0.687500</td>\n",
       "    </tr>\n",
       "    <tr>\n",
       "      <th>4</th>\n",
       "      <td>Random Forest_best</td>\n",
       "      <td>0.996986</td>\n",
       "      <td>0.991304</td>\n",
       "      <td>0.398601</td>\n",
       "      <td>0.568579</td>\n",
       "      <td>0.996550</td>\n",
       "      <td>0.871795</td>\n",
       "      <td>0.357895</td>\n",
       "      <td>0.507463</td>\n",
       "    </tr>\n",
       "    <tr>\n",
       "      <th>5</th>\n",
       "      <td>DecisionTree</td>\n",
       "      <td>0.999721</td>\n",
       "      <td>1.000000</td>\n",
       "      <td>0.877863</td>\n",
       "      <td>0.934959</td>\n",
       "      <td>0.998746</td>\n",
       "      <td>0.717949</td>\n",
       "      <td>0.682927</td>\n",
       "      <td>0.700000</td>\n",
       "    </tr>\n",
       "    <tr>\n",
       "      <th>6</th>\n",
       "      <td>DecisionTree_best</td>\n",
       "      <td>0.997909</td>\n",
       "      <td>1.000000</td>\n",
       "      <td>0.489362</td>\n",
       "      <td>0.657143</td>\n",
       "      <td>0.997334</td>\n",
       "      <td>0.846154</td>\n",
       "      <td>0.423077</td>\n",
       "      <td>0.564103</td>\n",
       "    </tr>\n",
       "    <tr>\n",
       "      <th>7</th>\n",
       "      <td>DT_gridsearch</td>\n",
       "      <td>0.994111</td>\n",
       "      <td>1.000000</td>\n",
       "      <td>0.253863</td>\n",
       "      <td>0.404930</td>\n",
       "      <td>0.992683</td>\n",
       "      <td>0.897436</td>\n",
       "      <td>0.204678</td>\n",
       "      <td>0.333333</td>\n",
       "    </tr>\n",
       "    <tr>\n",
       "      <th>8</th>\n",
       "      <td>Adaboost</td>\n",
       "      <td>0.999721</td>\n",
       "      <td>1.000000</td>\n",
       "      <td>0.877863</td>\n",
       "      <td>0.934959</td>\n",
       "      <td>0.998850</td>\n",
       "      <td>0.589744</td>\n",
       "      <td>0.793103</td>\n",
       "      <td>0.676471</td>\n",
       "    </tr>\n",
       "    <tr>\n",
       "      <th>9</th>\n",
       "      <td>Adaboost_BestParameters</td>\n",
       "      <td>0.999721</td>\n",
       "      <td>1.000000</td>\n",
       "      <td>0.877863</td>\n",
       "      <td>0.934959</td>\n",
       "      <td>0.998902</td>\n",
       "      <td>0.641026</td>\n",
       "      <td>0.781250</td>\n",
       "      <td>0.704225</td>\n",
       "    </tr>\n",
       "  </tbody>\n",
       "</table>\n",
       "</div>"
      ],
      "text/plain": [
       "                         Model  Train_Accuracy  Train_Recall  Train_Precision  \\\n",
       "0           LogisticRegression        0.998519      0.365217         0.777778   \n",
       "1  LogisticRegression_Balanced        0.979668      1.000000         0.089704   \n",
       "2                        Lasso        0.980556      1.000000         0.093420   \n",
       "3                Random Forest        0.999721      1.000000         0.877863   \n",
       "4           Random Forest_best        0.996986      0.991304         0.398601   \n",
       "5                 DecisionTree        0.999721      1.000000         0.877863   \n",
       "6            DecisionTree_best        0.997909      1.000000         0.489362   \n",
       "7                DT_gridsearch        0.994111      1.000000         0.253863   \n",
       "8                     Adaboost        0.999721      1.000000         0.877863   \n",
       "9      Adaboost_BestParameters        0.999721      1.000000         0.877863   \n",
       "\n",
       "   Train_F1_Score  Test_Accuracy  Test_Recall  Test_Precision  Test_F1_Score  \n",
       "0        0.497041       0.998275     0.256410        0.714286       0.377358  \n",
       "1        0.164639       0.979407     0.897436        0.082353       0.150862  \n",
       "2        0.170877       0.980609     0.897436        0.087065       0.158730  \n",
       "3        0.934959       0.998955     0.564103        0.880000       0.687500  \n",
       "4        0.568579       0.996550     0.871795        0.357895       0.507463  \n",
       "5        0.934959       0.998746     0.717949        0.682927       0.700000  \n",
       "6        0.657143       0.997334     0.846154        0.423077       0.564103  \n",
       "7        0.404930       0.992683     0.897436        0.204678       0.333333  \n",
       "8        0.934959       0.998850     0.589744        0.793103       0.676471  \n",
       "9        0.934959       0.998902     0.641026        0.781250       0.704225  "
      ]
     },
     "execution_count": 151,
     "metadata": {},
     "output_type": "execute_result"
    }
   ],
   "source": [
    "scores = get_metrics(y_train,y_pred_train,y_val,y_pred_val,\"Adaboost_BestParameters\",scores)\n",
    "scores"
   ]
  },
  {
   "cell_type": "markdown",
   "metadata": {},
   "source": [
    "# K Nearest Neighbour"
   ]
  },
  {
   "cell_type": "code",
   "execution_count": 152,
   "metadata": {},
   "outputs": [],
   "source": [
    "from sklearn.neighbors import KNeighborsClassifier"
   ]
  },
  {
   "cell_type": "code",
   "execution_count": 153,
   "metadata": {},
   "outputs": [],
   "source": [
    "clf1 = KNeighborsClassifier(n_neighbors=5, metric=\"euclidean\")"
   ]
  },
  {
   "cell_type": "code",
   "execution_count": 154,
   "metadata": {},
   "outputs": [
    {
     "data": {
      "text/plain": [
       "KNeighborsClassifier(metric='euclidean')"
      ]
     },
     "execution_count": 154,
     "metadata": {},
     "output_type": "execute_result"
    }
   ],
   "source": [
    "clf1.fit(X_train, y_train)"
   ]
  },
  {
   "cell_type": "code",
   "execution_count": 155,
   "metadata": {},
   "outputs": [],
   "source": [
    "y_pred_train = clf1.predict(X_train)\n",
    "y_pred_val = clf1.predict(X_val)"
   ]
  },
  {
   "cell_type": "code",
   "execution_count": 156,
   "metadata": {},
   "outputs": [
    {
     "name": "stdout",
     "output_type": "stream",
     "text": [
      "\n",
      "         ========================================\n",
      "           CLASSIFICATION REPORT FOR TRAIN DATA\n",
      "         ========================================\n",
      "        \n",
      "              precision    recall  f1-score   support\n",
      "\n",
      "           0     0.9992    0.9997    0.9995     57281\n",
      "           1     0.8161    0.6174    0.7030       115\n",
      "\n",
      "    accuracy                         0.9990     57396\n",
      "   macro avg     0.9077    0.8086    0.8512     57396\n",
      "weighted avg     0.9989    0.9990    0.9989     57396\n",
      "\n",
      "\n",
      "             =============================================\n",
      "               CLASSIFICATION REPORT FOR VALIDATION DATA\n",
      "             =============================================\n",
      "            \n",
      "              precision    recall  f1-score   support\n",
      "\n",
      "           0     0.9989    0.9995    0.9992     19094\n",
      "           1     0.6667    0.4615    0.5455        39\n",
      "\n",
      "    accuracy                         0.9984     19133\n",
      "   macro avg     0.8328    0.7305    0.7723     19133\n",
      "weighted avg     0.9982    0.9984    0.9983     19133\n",
      "\n",
      "\n",
      "             ========================================\n",
      "               Confusion Matrix FOR TRAIN DATA\n",
      "             ========================================\n",
      "            \n",
      "[[57265    16]\n",
      " [   44    71]]\n",
      "\n",
      "             =============================================\n",
      "               Confusion matrix FOR VALIDATION DATA\n",
      "             =============================================\n",
      "            \n",
      "[[19085     9]\n",
      " [   21    18]]\n"
     ]
    },
    {
     "data": {
      "text/html": [
       "<div>\n",
       "<style scoped>\n",
       "    .dataframe tbody tr th:only-of-type {\n",
       "        vertical-align: middle;\n",
       "    }\n",
       "\n",
       "    .dataframe tbody tr th {\n",
       "        vertical-align: top;\n",
       "    }\n",
       "\n",
       "    .dataframe thead th {\n",
       "        text-align: right;\n",
       "    }\n",
       "</style>\n",
       "<table border=\"1\" class=\"dataframe\">\n",
       "  <thead>\n",
       "    <tr style=\"text-align: right;\">\n",
       "      <th></th>\n",
       "      <th>Model</th>\n",
       "      <th>Train_Accuracy</th>\n",
       "      <th>Train_Recall</th>\n",
       "      <th>Train_Precision</th>\n",
       "      <th>Train_F1_Score</th>\n",
       "      <th>Test_Accuracy</th>\n",
       "      <th>Test_Recall</th>\n",
       "      <th>Test_Precision</th>\n",
       "      <th>Test_F1_Score</th>\n",
       "    </tr>\n",
       "  </thead>\n",
       "  <tbody>\n",
       "    <tr>\n",
       "      <th>0</th>\n",
       "      <td>LogisticRegression</td>\n",
       "      <td>0.998519</td>\n",
       "      <td>0.365217</td>\n",
       "      <td>0.777778</td>\n",
       "      <td>0.497041</td>\n",
       "      <td>0.998275</td>\n",
       "      <td>0.256410</td>\n",
       "      <td>0.714286</td>\n",
       "      <td>0.377358</td>\n",
       "    </tr>\n",
       "    <tr>\n",
       "      <th>1</th>\n",
       "      <td>LogisticRegression_Balanced</td>\n",
       "      <td>0.979668</td>\n",
       "      <td>1.000000</td>\n",
       "      <td>0.089704</td>\n",
       "      <td>0.164639</td>\n",
       "      <td>0.979407</td>\n",
       "      <td>0.897436</td>\n",
       "      <td>0.082353</td>\n",
       "      <td>0.150862</td>\n",
       "    </tr>\n",
       "    <tr>\n",
       "      <th>2</th>\n",
       "      <td>Lasso</td>\n",
       "      <td>0.980556</td>\n",
       "      <td>1.000000</td>\n",
       "      <td>0.093420</td>\n",
       "      <td>0.170877</td>\n",
       "      <td>0.980609</td>\n",
       "      <td>0.897436</td>\n",
       "      <td>0.087065</td>\n",
       "      <td>0.158730</td>\n",
       "    </tr>\n",
       "    <tr>\n",
       "      <th>3</th>\n",
       "      <td>Random Forest</td>\n",
       "      <td>0.999721</td>\n",
       "      <td>1.000000</td>\n",
       "      <td>0.877863</td>\n",
       "      <td>0.934959</td>\n",
       "      <td>0.998955</td>\n",
       "      <td>0.564103</td>\n",
       "      <td>0.880000</td>\n",
       "      <td>0.687500</td>\n",
       "    </tr>\n",
       "    <tr>\n",
       "      <th>4</th>\n",
       "      <td>Random Forest_best</td>\n",
       "      <td>0.996986</td>\n",
       "      <td>0.991304</td>\n",
       "      <td>0.398601</td>\n",
       "      <td>0.568579</td>\n",
       "      <td>0.996550</td>\n",
       "      <td>0.871795</td>\n",
       "      <td>0.357895</td>\n",
       "      <td>0.507463</td>\n",
       "    </tr>\n",
       "    <tr>\n",
       "      <th>5</th>\n",
       "      <td>DecisionTree</td>\n",
       "      <td>0.999721</td>\n",
       "      <td>1.000000</td>\n",
       "      <td>0.877863</td>\n",
       "      <td>0.934959</td>\n",
       "      <td>0.998746</td>\n",
       "      <td>0.717949</td>\n",
       "      <td>0.682927</td>\n",
       "      <td>0.700000</td>\n",
       "    </tr>\n",
       "    <tr>\n",
       "      <th>6</th>\n",
       "      <td>DecisionTree_best</td>\n",
       "      <td>0.997909</td>\n",
       "      <td>1.000000</td>\n",
       "      <td>0.489362</td>\n",
       "      <td>0.657143</td>\n",
       "      <td>0.997334</td>\n",
       "      <td>0.846154</td>\n",
       "      <td>0.423077</td>\n",
       "      <td>0.564103</td>\n",
       "    </tr>\n",
       "    <tr>\n",
       "      <th>7</th>\n",
       "      <td>DT_gridsearch</td>\n",
       "      <td>0.994111</td>\n",
       "      <td>1.000000</td>\n",
       "      <td>0.253863</td>\n",
       "      <td>0.404930</td>\n",
       "      <td>0.992683</td>\n",
       "      <td>0.897436</td>\n",
       "      <td>0.204678</td>\n",
       "      <td>0.333333</td>\n",
       "    </tr>\n",
       "    <tr>\n",
       "      <th>8</th>\n",
       "      <td>Adaboost</td>\n",
       "      <td>0.999721</td>\n",
       "      <td>1.000000</td>\n",
       "      <td>0.877863</td>\n",
       "      <td>0.934959</td>\n",
       "      <td>0.998850</td>\n",
       "      <td>0.589744</td>\n",
       "      <td>0.793103</td>\n",
       "      <td>0.676471</td>\n",
       "    </tr>\n",
       "    <tr>\n",
       "      <th>9</th>\n",
       "      <td>Adaboost_BestParameters</td>\n",
       "      <td>0.999721</td>\n",
       "      <td>1.000000</td>\n",
       "      <td>0.877863</td>\n",
       "      <td>0.934959</td>\n",
       "      <td>0.998902</td>\n",
       "      <td>0.641026</td>\n",
       "      <td>0.781250</td>\n",
       "      <td>0.704225</td>\n",
       "    </tr>\n",
       "    <tr>\n",
       "      <th>10</th>\n",
       "      <td>KNN</td>\n",
       "      <td>0.998955</td>\n",
       "      <td>0.617391</td>\n",
       "      <td>0.816092</td>\n",
       "      <td>0.702970</td>\n",
       "      <td>0.998432</td>\n",
       "      <td>0.461538</td>\n",
       "      <td>0.666667</td>\n",
       "      <td>0.545455</td>\n",
       "    </tr>\n",
       "  </tbody>\n",
       "</table>\n",
       "</div>"
      ],
      "text/plain": [
       "                          Model  Train_Accuracy  Train_Recall  \\\n",
       "0            LogisticRegression        0.998519      0.365217   \n",
       "1   LogisticRegression_Balanced        0.979668      1.000000   \n",
       "2                         Lasso        0.980556      1.000000   \n",
       "3                 Random Forest        0.999721      1.000000   \n",
       "4            Random Forest_best        0.996986      0.991304   \n",
       "5                  DecisionTree        0.999721      1.000000   \n",
       "6             DecisionTree_best        0.997909      1.000000   \n",
       "7                 DT_gridsearch        0.994111      1.000000   \n",
       "8                      Adaboost        0.999721      1.000000   \n",
       "9       Adaboost_BestParameters        0.999721      1.000000   \n",
       "10                          KNN        0.998955      0.617391   \n",
       "\n",
       "    Train_Precision  Train_F1_Score  Test_Accuracy  Test_Recall  \\\n",
       "0          0.777778        0.497041       0.998275     0.256410   \n",
       "1          0.089704        0.164639       0.979407     0.897436   \n",
       "2          0.093420        0.170877       0.980609     0.897436   \n",
       "3          0.877863        0.934959       0.998955     0.564103   \n",
       "4          0.398601        0.568579       0.996550     0.871795   \n",
       "5          0.877863        0.934959       0.998746     0.717949   \n",
       "6          0.489362        0.657143       0.997334     0.846154   \n",
       "7          0.253863        0.404930       0.992683     0.897436   \n",
       "8          0.877863        0.934959       0.998850     0.589744   \n",
       "9          0.877863        0.934959       0.998902     0.641026   \n",
       "10         0.816092        0.702970       0.998432     0.461538   \n",
       "\n",
       "    Test_Precision  Test_F1_Score  \n",
       "0         0.714286       0.377358  \n",
       "1         0.082353       0.150862  \n",
       "2         0.087065       0.158730  \n",
       "3         0.880000       0.687500  \n",
       "4         0.357895       0.507463  \n",
       "5         0.682927       0.700000  \n",
       "6         0.423077       0.564103  \n",
       "7         0.204678       0.333333  \n",
       "8         0.793103       0.676471  \n",
       "9         0.781250       0.704225  \n",
       "10        0.666667       0.545455  "
      ]
     },
     "execution_count": 156,
     "metadata": {},
     "output_type": "execute_result"
    }
   ],
   "source": [
    "scores = get_metrics(y_train,y_pred_train,y_val,y_pred_val,\"KNN\",scores)\n",
    "scores"
   ]
  },
  {
   "cell_type": "markdown",
   "metadata": {},
   "source": [
    "### Instantiate SMOTE"
   ]
  },
  {
   "cell_type": "code",
   "execution_count": 157,
   "metadata": {},
   "outputs": [],
   "source": [
    "smote = SMOTE(random_state=123)"
   ]
  },
  {
   "cell_type": "markdown",
   "metadata": {},
   "source": [
    "### Fit Sample"
   ]
  },
  {
   "cell_type": "code",
   "execution_count": 158,
   "metadata": {},
   "outputs": [],
   "source": [
    "X_train_sm, y_train_sm = smote.fit_sample(X_train, y_train)"
   ]
  },
  {
   "cell_type": "code",
   "execution_count": 159,
   "metadata": {},
   "outputs": [
    {
     "data": {
      "text/plain": [
       "(array([0, 1], dtype=int64), array([57281,   115], dtype=int64))"
      ]
     },
     "execution_count": 159,
     "metadata": {},
     "output_type": "execute_result"
    }
   ],
   "source": [
    "np.unique(y_train, return_counts= True)"
   ]
  },
  {
   "cell_type": "code",
   "execution_count": 160,
   "metadata": {},
   "outputs": [
    {
     "data": {
      "text/plain": [
       "(array([0, 1], dtype=int64), array([57281, 57281], dtype=int64))"
      ]
     },
     "execution_count": 160,
     "metadata": {},
     "output_type": "execute_result"
    }
   ],
   "source": [
    "np.unique(y_train_sm, return_counts= True)"
   ]
  },
  {
   "cell_type": "markdown",
   "metadata": {},
   "source": [
    "### Instantiate GidSearchCV"
   ]
  },
  {
   "cell_type": "code",
   "execution_count": 161,
   "metadata": {},
   "outputs": [],
   "source": [
    "parameters = {'n_neighbors':list(range(2, 30))}\n",
    "\n",
    "gs_clf = GridSearchCV(KNeighborsClassifier(metric=\"euclidean\", n_jobs=-1),\n",
    "                   parameters, verbose= True, cv=3)"
   ]
  },
  {
   "cell_type": "code",
   "execution_count": 162,
   "metadata": {},
   "outputs": [
    {
     "name": "stdout",
     "output_type": "stream",
     "text": [
      "Fitting 3 folds for each of 28 candidates, totalling 84 fits\n"
     ]
    },
    {
     "name": "stderr",
     "output_type": "stream",
     "text": [
      "[Parallel(n_jobs=1)]: Using backend SequentialBackend with 1 concurrent workers.\n",
      "[Parallel(n_jobs=1)]: Done  84 out of  84 | elapsed: 47.2min finished\n"
     ]
    },
    {
     "data": {
      "text/plain": [
       "GridSearchCV(cv=3,\n",
       "             estimator=KNeighborsClassifier(metric='euclidean', n_jobs=-1),\n",
       "             param_grid={'n_neighbors': [2, 3, 4, 5, 6, 7, 8, 9, 10, 11, 12, 13,\n",
       "                                         14, 15, 16, 17, 18, 19, 20, 21, 22, 23,\n",
       "                                         24, 25, 26, 27, 28, 29]},\n",
       "             verbose=True)"
      ]
     },
     "execution_count": 162,
     "metadata": {},
     "output_type": "execute_result"
    }
   ],
   "source": [
    "gs_clf.fit(X_train_sm, y_train_sm)"
   ]
  },
  {
   "cell_type": "code",
   "execution_count": 163,
   "metadata": {},
   "outputs": [
    {
     "data": {
      "text/plain": [
       "KNeighborsClassifier(metric='euclidean', n_jobs=-1, n_neighbors=2)"
      ]
     },
     "execution_count": 163,
     "metadata": {},
     "output_type": "execute_result"
    }
   ],
   "source": [
    "knn_model = gs_clf.best_estimator_\n",
    "knn_model"
   ]
  },
  {
   "cell_type": "code",
   "execution_count": 164,
   "metadata": {},
   "outputs": [
    {
     "name": "stdout",
     "output_type": "stream",
     "text": [
      "0.9983676969325653 {'n_neighbors': 2}\n"
     ]
    }
   ],
   "source": [
    "print (gs_clf.best_score_, gs_clf.best_params_) "
   ]
  },
  {
   "cell_type": "code",
   "execution_count": 165,
   "metadata": {},
   "outputs": [],
   "source": [
    "y_pred_train = clf1.predict(X_train_sm)\n",
    "y_pred_val = clf1.predict(X_val)"
   ]
  },
  {
   "cell_type": "code",
   "execution_count": 166,
   "metadata": {},
   "outputs": [
    {
     "name": "stdout",
     "output_type": "stream",
     "text": [
      "\n",
      "         ========================================\n",
      "           CLASSIFICATION REPORT FOR TRAIN DATA\n",
      "         ========================================\n",
      "        \n",
      "              precision    recall  f1-score   support\n",
      "\n",
      "           0     0.7358    0.9997    0.8477     57281\n",
      "           1     0.9996    0.6409    0.7811     57281\n",
      "\n",
      "    accuracy                         0.8203    114562\n",
      "   macro avg     0.8677    0.8203    0.8144    114562\n",
      "weighted avg     0.8677    0.8203    0.8144    114562\n",
      "\n",
      "\n",
      "             =============================================\n",
      "               CLASSIFICATION REPORT FOR VALIDATION DATA\n",
      "             =============================================\n",
      "            \n",
      "              precision    recall  f1-score   support\n",
      "\n",
      "           0     0.9989    0.9995    0.9992     19094\n",
      "           1     0.6667    0.4615    0.5455        39\n",
      "\n",
      "    accuracy                         0.9984     19133\n",
      "   macro avg     0.8328    0.7305    0.7723     19133\n",
      "weighted avg     0.9982    0.9984    0.9983     19133\n",
      "\n",
      "\n",
      "             ========================================\n",
      "               Confusion Matrix FOR TRAIN DATA\n",
      "             ========================================\n",
      "            \n",
      "[[57265    16]\n",
      " [20567 36714]]\n",
      "\n",
      "             =============================================\n",
      "               Confusion matrix FOR VALIDATION DATA\n",
      "             =============================================\n",
      "            \n",
      "[[19085     9]\n",
      " [   21    18]]\n"
     ]
    },
    {
     "data": {
      "text/html": [
       "<div>\n",
       "<style scoped>\n",
       "    .dataframe tbody tr th:only-of-type {\n",
       "        vertical-align: middle;\n",
       "    }\n",
       "\n",
       "    .dataframe tbody tr th {\n",
       "        vertical-align: top;\n",
       "    }\n",
       "\n",
       "    .dataframe thead th {\n",
       "        text-align: right;\n",
       "    }\n",
       "</style>\n",
       "<table border=\"1\" class=\"dataframe\">\n",
       "  <thead>\n",
       "    <tr style=\"text-align: right;\">\n",
       "      <th></th>\n",
       "      <th>Model</th>\n",
       "      <th>Train_Accuracy</th>\n",
       "      <th>Train_Recall</th>\n",
       "      <th>Train_Precision</th>\n",
       "      <th>Train_F1_Score</th>\n",
       "      <th>Test_Accuracy</th>\n",
       "      <th>Test_Recall</th>\n",
       "      <th>Test_Precision</th>\n",
       "      <th>Test_F1_Score</th>\n",
       "    </tr>\n",
       "  </thead>\n",
       "  <tbody>\n",
       "    <tr>\n",
       "      <th>0</th>\n",
       "      <td>LogisticRegression</td>\n",
       "      <td>0.998519</td>\n",
       "      <td>0.365217</td>\n",
       "      <td>0.777778</td>\n",
       "      <td>0.497041</td>\n",
       "      <td>0.998275</td>\n",
       "      <td>0.256410</td>\n",
       "      <td>0.714286</td>\n",
       "      <td>0.377358</td>\n",
       "    </tr>\n",
       "    <tr>\n",
       "      <th>1</th>\n",
       "      <td>LogisticRegression_Balanced</td>\n",
       "      <td>0.979668</td>\n",
       "      <td>1.000000</td>\n",
       "      <td>0.089704</td>\n",
       "      <td>0.164639</td>\n",
       "      <td>0.979407</td>\n",
       "      <td>0.897436</td>\n",
       "      <td>0.082353</td>\n",
       "      <td>0.150862</td>\n",
       "    </tr>\n",
       "    <tr>\n",
       "      <th>2</th>\n",
       "      <td>Lasso</td>\n",
       "      <td>0.980556</td>\n",
       "      <td>1.000000</td>\n",
       "      <td>0.093420</td>\n",
       "      <td>0.170877</td>\n",
       "      <td>0.980609</td>\n",
       "      <td>0.897436</td>\n",
       "      <td>0.087065</td>\n",
       "      <td>0.158730</td>\n",
       "    </tr>\n",
       "    <tr>\n",
       "      <th>3</th>\n",
       "      <td>Random Forest</td>\n",
       "      <td>0.999721</td>\n",
       "      <td>1.000000</td>\n",
       "      <td>0.877863</td>\n",
       "      <td>0.934959</td>\n",
       "      <td>0.998955</td>\n",
       "      <td>0.564103</td>\n",
       "      <td>0.880000</td>\n",
       "      <td>0.687500</td>\n",
       "    </tr>\n",
       "    <tr>\n",
       "      <th>4</th>\n",
       "      <td>Random Forest_best</td>\n",
       "      <td>0.996986</td>\n",
       "      <td>0.991304</td>\n",
       "      <td>0.398601</td>\n",
       "      <td>0.568579</td>\n",
       "      <td>0.996550</td>\n",
       "      <td>0.871795</td>\n",
       "      <td>0.357895</td>\n",
       "      <td>0.507463</td>\n",
       "    </tr>\n",
       "    <tr>\n",
       "      <th>5</th>\n",
       "      <td>DecisionTree</td>\n",
       "      <td>0.999721</td>\n",
       "      <td>1.000000</td>\n",
       "      <td>0.877863</td>\n",
       "      <td>0.934959</td>\n",
       "      <td>0.998746</td>\n",
       "      <td>0.717949</td>\n",
       "      <td>0.682927</td>\n",
       "      <td>0.700000</td>\n",
       "    </tr>\n",
       "    <tr>\n",
       "      <th>6</th>\n",
       "      <td>DecisionTree_best</td>\n",
       "      <td>0.997909</td>\n",
       "      <td>1.000000</td>\n",
       "      <td>0.489362</td>\n",
       "      <td>0.657143</td>\n",
       "      <td>0.997334</td>\n",
       "      <td>0.846154</td>\n",
       "      <td>0.423077</td>\n",
       "      <td>0.564103</td>\n",
       "    </tr>\n",
       "    <tr>\n",
       "      <th>7</th>\n",
       "      <td>DT_gridsearch</td>\n",
       "      <td>0.994111</td>\n",
       "      <td>1.000000</td>\n",
       "      <td>0.253863</td>\n",
       "      <td>0.404930</td>\n",
       "      <td>0.992683</td>\n",
       "      <td>0.897436</td>\n",
       "      <td>0.204678</td>\n",
       "      <td>0.333333</td>\n",
       "    </tr>\n",
       "    <tr>\n",
       "      <th>8</th>\n",
       "      <td>Adaboost</td>\n",
       "      <td>0.999721</td>\n",
       "      <td>1.000000</td>\n",
       "      <td>0.877863</td>\n",
       "      <td>0.934959</td>\n",
       "      <td>0.998850</td>\n",
       "      <td>0.589744</td>\n",
       "      <td>0.793103</td>\n",
       "      <td>0.676471</td>\n",
       "    </tr>\n",
       "    <tr>\n",
       "      <th>9</th>\n",
       "      <td>Adaboost_BestParameters</td>\n",
       "      <td>0.999721</td>\n",
       "      <td>1.000000</td>\n",
       "      <td>0.877863</td>\n",
       "      <td>0.934959</td>\n",
       "      <td>0.998902</td>\n",
       "      <td>0.641026</td>\n",
       "      <td>0.781250</td>\n",
       "      <td>0.704225</td>\n",
       "    </tr>\n",
       "    <tr>\n",
       "      <th>10</th>\n",
       "      <td>KNN</td>\n",
       "      <td>0.998955</td>\n",
       "      <td>0.617391</td>\n",
       "      <td>0.816092</td>\n",
       "      <td>0.702970</td>\n",
       "      <td>0.998432</td>\n",
       "      <td>0.461538</td>\n",
       "      <td>0.666667</td>\n",
       "      <td>0.545455</td>\n",
       "    </tr>\n",
       "    <tr>\n",
       "      <th>11</th>\n",
       "      <td>KNN_best</td>\n",
       "      <td>0.820333</td>\n",
       "      <td>0.640946</td>\n",
       "      <td>0.999564</td>\n",
       "      <td>0.781058</td>\n",
       "      <td>0.998432</td>\n",
       "      <td>0.461538</td>\n",
       "      <td>0.666667</td>\n",
       "      <td>0.545455</td>\n",
       "    </tr>\n",
       "  </tbody>\n",
       "</table>\n",
       "</div>"
      ],
      "text/plain": [
       "                          Model  Train_Accuracy  Train_Recall  \\\n",
       "0            LogisticRegression        0.998519      0.365217   \n",
       "1   LogisticRegression_Balanced        0.979668      1.000000   \n",
       "2                         Lasso        0.980556      1.000000   \n",
       "3                 Random Forest        0.999721      1.000000   \n",
       "4            Random Forest_best        0.996986      0.991304   \n",
       "5                  DecisionTree        0.999721      1.000000   \n",
       "6             DecisionTree_best        0.997909      1.000000   \n",
       "7                 DT_gridsearch        0.994111      1.000000   \n",
       "8                      Adaboost        0.999721      1.000000   \n",
       "9       Adaboost_BestParameters        0.999721      1.000000   \n",
       "10                          KNN        0.998955      0.617391   \n",
       "11                     KNN_best        0.820333      0.640946   \n",
       "\n",
       "    Train_Precision  Train_F1_Score  Test_Accuracy  Test_Recall  \\\n",
       "0          0.777778        0.497041       0.998275     0.256410   \n",
       "1          0.089704        0.164639       0.979407     0.897436   \n",
       "2          0.093420        0.170877       0.980609     0.897436   \n",
       "3          0.877863        0.934959       0.998955     0.564103   \n",
       "4          0.398601        0.568579       0.996550     0.871795   \n",
       "5          0.877863        0.934959       0.998746     0.717949   \n",
       "6          0.489362        0.657143       0.997334     0.846154   \n",
       "7          0.253863        0.404930       0.992683     0.897436   \n",
       "8          0.877863        0.934959       0.998850     0.589744   \n",
       "9          0.877863        0.934959       0.998902     0.641026   \n",
       "10         0.816092        0.702970       0.998432     0.461538   \n",
       "11         0.999564        0.781058       0.998432     0.461538   \n",
       "\n",
       "    Test_Precision  Test_F1_Score  \n",
       "0         0.714286       0.377358  \n",
       "1         0.082353       0.150862  \n",
       "2         0.087065       0.158730  \n",
       "3         0.880000       0.687500  \n",
       "4         0.357895       0.507463  \n",
       "5         0.682927       0.700000  \n",
       "6         0.423077       0.564103  \n",
       "7         0.204678       0.333333  \n",
       "8         0.793103       0.676471  \n",
       "9         0.781250       0.704225  \n",
       "10        0.666667       0.545455  \n",
       "11        0.666667       0.545455  "
      ]
     },
     "execution_count": 166,
     "metadata": {},
     "output_type": "execute_result"
    }
   ],
   "source": [
    "scores = get_metrics(y_train_sm,y_pred_train,y_val,y_pred_val,\"KNN_best\",scores)\n",
    "scores"
   ]
  },
  {
   "cell_type": "markdown",
   "metadata": {},
   "source": [
    "### XGBoost Classifier\n",
    "XGBoost (eXtreme Gradient Boosting) is an advanced implementation of gradient boosting algorithm."
   ]
  },
  {
   "cell_type": "markdown",
   "metadata": {},
   "source": [
    "### Hyperparameters:\n",
    "#### Create XGBoost Classifier\n",
    "\n",
    "There are different hyperparameters that we can tune and the parametres are different from baselearner to baselearner. \n",
    "<br>In tree based learners, which are the most common ones in xgboost applications, the following are the most commonly tuned hyperparameters:\n",
    "\n",
    "-  **learning rate/eta:** governs how quickly the model fits the residual error using additional base learners. If it is a smaller learning rate, it will need more boosting rounds, hence more time, to achieve the same reduction in residual error as one with larger learning rate. Typically, it lies between 0.01 – 0.3\n",
    "-  **max_depth:** max depth per tree. This controls how deep our tree can grow. The Larger the depth, more complex the model will be and higher chances of overfitting. Larger data sets require deep trees to learn the rules from data. Default = 6.\n",
    "-  **subsample:** % samples used per tree. This is the fraction of the total training set that can be used in any boosting round. Low value may lead to underfitting issues. A very high value can cause over-fitting problems.\n",
    "-  **colsample_bytree:** % features used per tree. This is the fraction of the number of columns that we can use in any boosting round. A smaller value is an additional regularization and a larger value may be cause overfitting issues.\n",
    "-  **n_estimators:** number of estimators (base learners). This is the number of boosting rounds.\n",
    "- **scale_pos_weight:** [default=1]\n",
    "\n",
    "    - Control the balance of positive and negative weights, useful for unbalanced classes. \n",
    "    - A typical value to consider: sum(negative instances) / sum(positive instances)\n",
    "\n",
    "- The XGBoost documentation suggests a fast way to estimate this value using the training dataset as the total number of examples in the majority class divided by the total number of examples in the minority class.\n",
    "\n",
    "    - scale_pos_weight = total_negative_examples / total_positive_examples\n",
    "\n",
    "The three hyperparameters below are regularization hyperparameters.\n",
    "\n",
    "-  **gamma:** min loss reduction to create new tree split. default = 0 means no regularization.\n",
    "-  **lambda:** L2 reg on leaf weights. Equivalent to Ridge regression.\n",
    "-  **alpha:** L1 reg on leaf weights. Equivalent to Lasso regression."
   ]
  },
  {
   "cell_type": "code",
   "execution_count": 167,
   "metadata": {},
   "outputs": [
    {
     "data": {
      "text/plain": [
       "XGBClassifier(base_score=0.5, booster='gbtree', colsample_bylevel=1,\n",
       "              colsample_bynode=1, colsample_bytree=1, gamma=0.5, gpu_id=-1,\n",
       "              importance_type='gain', interaction_constraints='',\n",
       "              learning_rate=0.1, max_delta_step=0, max_depth=6,\n",
       "              min_child_weight=1, missing=nan, monotone_constraints='()',\n",
       "              n_estimators=400, n_jobs=-1, num_parallel_tree=1, random_state=0,\n",
       "              reg_alpha=0, reg_lambda=1, scale_pos_weight=1, subsample=1,\n",
       "              tree_method='exact', validate_parameters=1, verbosity=None)"
      ]
     },
     "execution_count": 167,
     "metadata": {},
     "output_type": "execute_result"
    }
   ],
   "source": [
    "clf_XGB = XGBClassifier(n_estimators=400, gamma=0.5,learning_rate=0.1,n_jobs=-1)\n",
    "clf_XGB.fit(X_train, y_train)"
   ]
  },
  {
   "cell_type": "code",
   "execution_count": 168,
   "metadata": {},
   "outputs": [],
   "source": [
    "y_pred_train = clf_XGB.predict(X_train)\n",
    "y_pred_val = clf_XGB.predict(X_val )"
   ]
  },
  {
   "cell_type": "code",
   "execution_count": 169,
   "metadata": {},
   "outputs": [
    {
     "name": "stdout",
     "output_type": "stream",
     "text": [
      "\n",
      "         ========================================\n",
      "           CLASSIFICATION REPORT FOR TRAIN DATA\n",
      "         ========================================\n",
      "        \n",
      "              precision    recall  f1-score   support\n",
      "\n",
      "           0     0.9995    0.9998    0.9997     57281\n",
      "           1     0.9072    0.7652    0.8302       115\n",
      "\n",
      "    accuracy                         0.9994     57396\n",
      "   macro avg     0.9534    0.8825    0.9149     57396\n",
      "weighted avg     0.9993    0.9994    0.9993     57396\n",
      "\n",
      "\n",
      "             =============================================\n",
      "               CLASSIFICATION REPORT FOR VALIDATION DATA\n",
      "             =============================================\n",
      "            \n",
      "              precision    recall  f1-score   support\n",
      "\n",
      "           0     0.9991    0.9998    0.9995     19094\n",
      "           1     0.8462    0.5641    0.6769        39\n",
      "\n",
      "    accuracy                         0.9989     19133\n",
      "   macro avg     0.9226    0.7819    0.8382     19133\n",
      "weighted avg     0.9988    0.9989    0.9988     19133\n",
      "\n",
      "\n",
      "             ========================================\n",
      "               Confusion Matrix FOR TRAIN DATA\n",
      "             ========================================\n",
      "            \n",
      "[[57272     9]\n",
      " [   27    88]]\n",
      "\n",
      "             =============================================\n",
      "               Confusion matrix FOR VALIDATION DATA\n",
      "             =============================================\n",
      "            \n",
      "[[19090     4]\n",
      " [   17    22]]\n"
     ]
    },
    {
     "data": {
      "text/html": [
       "<div>\n",
       "<style scoped>\n",
       "    .dataframe tbody tr th:only-of-type {\n",
       "        vertical-align: middle;\n",
       "    }\n",
       "\n",
       "    .dataframe tbody tr th {\n",
       "        vertical-align: top;\n",
       "    }\n",
       "\n",
       "    .dataframe thead th {\n",
       "        text-align: right;\n",
       "    }\n",
       "</style>\n",
       "<table border=\"1\" class=\"dataframe\">\n",
       "  <thead>\n",
       "    <tr style=\"text-align: right;\">\n",
       "      <th></th>\n",
       "      <th>Model</th>\n",
       "      <th>Train_Accuracy</th>\n",
       "      <th>Train_Recall</th>\n",
       "      <th>Train_Precision</th>\n",
       "      <th>Train_F1_Score</th>\n",
       "      <th>Test_Accuracy</th>\n",
       "      <th>Test_Recall</th>\n",
       "      <th>Test_Precision</th>\n",
       "      <th>Test_F1_Score</th>\n",
       "    </tr>\n",
       "  </thead>\n",
       "  <tbody>\n",
       "    <tr>\n",
       "      <th>0</th>\n",
       "      <td>LogisticRegression</td>\n",
       "      <td>0.998519</td>\n",
       "      <td>0.365217</td>\n",
       "      <td>0.777778</td>\n",
       "      <td>0.497041</td>\n",
       "      <td>0.998275</td>\n",
       "      <td>0.256410</td>\n",
       "      <td>0.714286</td>\n",
       "      <td>0.377358</td>\n",
       "    </tr>\n",
       "    <tr>\n",
       "      <th>1</th>\n",
       "      <td>LogisticRegression_Balanced</td>\n",
       "      <td>0.979668</td>\n",
       "      <td>1.000000</td>\n",
       "      <td>0.089704</td>\n",
       "      <td>0.164639</td>\n",
       "      <td>0.979407</td>\n",
       "      <td>0.897436</td>\n",
       "      <td>0.082353</td>\n",
       "      <td>0.150862</td>\n",
       "    </tr>\n",
       "    <tr>\n",
       "      <th>2</th>\n",
       "      <td>Lasso</td>\n",
       "      <td>0.980556</td>\n",
       "      <td>1.000000</td>\n",
       "      <td>0.093420</td>\n",
       "      <td>0.170877</td>\n",
       "      <td>0.980609</td>\n",
       "      <td>0.897436</td>\n",
       "      <td>0.087065</td>\n",
       "      <td>0.158730</td>\n",
       "    </tr>\n",
       "    <tr>\n",
       "      <th>3</th>\n",
       "      <td>Random Forest</td>\n",
       "      <td>0.999721</td>\n",
       "      <td>1.000000</td>\n",
       "      <td>0.877863</td>\n",
       "      <td>0.934959</td>\n",
       "      <td>0.998955</td>\n",
       "      <td>0.564103</td>\n",
       "      <td>0.880000</td>\n",
       "      <td>0.687500</td>\n",
       "    </tr>\n",
       "    <tr>\n",
       "      <th>4</th>\n",
       "      <td>Random Forest_best</td>\n",
       "      <td>0.996986</td>\n",
       "      <td>0.991304</td>\n",
       "      <td>0.398601</td>\n",
       "      <td>0.568579</td>\n",
       "      <td>0.996550</td>\n",
       "      <td>0.871795</td>\n",
       "      <td>0.357895</td>\n",
       "      <td>0.507463</td>\n",
       "    </tr>\n",
       "    <tr>\n",
       "      <th>5</th>\n",
       "      <td>DecisionTree</td>\n",
       "      <td>0.999721</td>\n",
       "      <td>1.000000</td>\n",
       "      <td>0.877863</td>\n",
       "      <td>0.934959</td>\n",
       "      <td>0.998746</td>\n",
       "      <td>0.717949</td>\n",
       "      <td>0.682927</td>\n",
       "      <td>0.700000</td>\n",
       "    </tr>\n",
       "    <tr>\n",
       "      <th>6</th>\n",
       "      <td>DecisionTree_best</td>\n",
       "      <td>0.997909</td>\n",
       "      <td>1.000000</td>\n",
       "      <td>0.489362</td>\n",
       "      <td>0.657143</td>\n",
       "      <td>0.997334</td>\n",
       "      <td>0.846154</td>\n",
       "      <td>0.423077</td>\n",
       "      <td>0.564103</td>\n",
       "    </tr>\n",
       "    <tr>\n",
       "      <th>7</th>\n",
       "      <td>DT_gridsearch</td>\n",
       "      <td>0.994111</td>\n",
       "      <td>1.000000</td>\n",
       "      <td>0.253863</td>\n",
       "      <td>0.404930</td>\n",
       "      <td>0.992683</td>\n",
       "      <td>0.897436</td>\n",
       "      <td>0.204678</td>\n",
       "      <td>0.333333</td>\n",
       "    </tr>\n",
       "    <tr>\n",
       "      <th>8</th>\n",
       "      <td>Adaboost</td>\n",
       "      <td>0.999721</td>\n",
       "      <td>1.000000</td>\n",
       "      <td>0.877863</td>\n",
       "      <td>0.934959</td>\n",
       "      <td>0.998850</td>\n",
       "      <td>0.589744</td>\n",
       "      <td>0.793103</td>\n",
       "      <td>0.676471</td>\n",
       "    </tr>\n",
       "    <tr>\n",
       "      <th>9</th>\n",
       "      <td>Adaboost_BestParameters</td>\n",
       "      <td>0.999721</td>\n",
       "      <td>1.000000</td>\n",
       "      <td>0.877863</td>\n",
       "      <td>0.934959</td>\n",
       "      <td>0.998902</td>\n",
       "      <td>0.641026</td>\n",
       "      <td>0.781250</td>\n",
       "      <td>0.704225</td>\n",
       "    </tr>\n",
       "    <tr>\n",
       "      <th>10</th>\n",
       "      <td>KNN</td>\n",
       "      <td>0.998955</td>\n",
       "      <td>0.617391</td>\n",
       "      <td>0.816092</td>\n",
       "      <td>0.702970</td>\n",
       "      <td>0.998432</td>\n",
       "      <td>0.461538</td>\n",
       "      <td>0.666667</td>\n",
       "      <td>0.545455</td>\n",
       "    </tr>\n",
       "    <tr>\n",
       "      <th>11</th>\n",
       "      <td>KNN_best</td>\n",
       "      <td>0.820333</td>\n",
       "      <td>0.640946</td>\n",
       "      <td>0.999564</td>\n",
       "      <td>0.781058</td>\n",
       "      <td>0.998432</td>\n",
       "      <td>0.461538</td>\n",
       "      <td>0.666667</td>\n",
       "      <td>0.545455</td>\n",
       "    </tr>\n",
       "    <tr>\n",
       "      <th>12</th>\n",
       "      <td>XGBoost</td>\n",
       "      <td>0.999373</td>\n",
       "      <td>0.765217</td>\n",
       "      <td>0.907216</td>\n",
       "      <td>0.830189</td>\n",
       "      <td>0.998902</td>\n",
       "      <td>0.564103</td>\n",
       "      <td>0.846154</td>\n",
       "      <td>0.676923</td>\n",
       "    </tr>\n",
       "  </tbody>\n",
       "</table>\n",
       "</div>"
      ],
      "text/plain": [
       "                          Model  Train_Accuracy  Train_Recall  \\\n",
       "0            LogisticRegression        0.998519      0.365217   \n",
       "1   LogisticRegression_Balanced        0.979668      1.000000   \n",
       "2                         Lasso        0.980556      1.000000   \n",
       "3                 Random Forest        0.999721      1.000000   \n",
       "4            Random Forest_best        0.996986      0.991304   \n",
       "5                  DecisionTree        0.999721      1.000000   \n",
       "6             DecisionTree_best        0.997909      1.000000   \n",
       "7                 DT_gridsearch        0.994111      1.000000   \n",
       "8                      Adaboost        0.999721      1.000000   \n",
       "9       Adaboost_BestParameters        0.999721      1.000000   \n",
       "10                          KNN        0.998955      0.617391   \n",
       "11                     KNN_best        0.820333      0.640946   \n",
       "12                      XGBoost        0.999373      0.765217   \n",
       "\n",
       "    Train_Precision  Train_F1_Score  Test_Accuracy  Test_Recall  \\\n",
       "0          0.777778        0.497041       0.998275     0.256410   \n",
       "1          0.089704        0.164639       0.979407     0.897436   \n",
       "2          0.093420        0.170877       0.980609     0.897436   \n",
       "3          0.877863        0.934959       0.998955     0.564103   \n",
       "4          0.398601        0.568579       0.996550     0.871795   \n",
       "5          0.877863        0.934959       0.998746     0.717949   \n",
       "6          0.489362        0.657143       0.997334     0.846154   \n",
       "7          0.253863        0.404930       0.992683     0.897436   \n",
       "8          0.877863        0.934959       0.998850     0.589744   \n",
       "9          0.877863        0.934959       0.998902     0.641026   \n",
       "10         0.816092        0.702970       0.998432     0.461538   \n",
       "11         0.999564        0.781058       0.998432     0.461538   \n",
       "12         0.907216        0.830189       0.998902     0.564103   \n",
       "\n",
       "    Test_Precision  Test_F1_Score  \n",
       "0         0.714286       0.377358  \n",
       "1         0.082353       0.150862  \n",
       "2         0.087065       0.158730  \n",
       "3         0.880000       0.687500  \n",
       "4         0.357895       0.507463  \n",
       "5         0.682927       0.700000  \n",
       "6         0.423077       0.564103  \n",
       "7         0.204678       0.333333  \n",
       "8         0.793103       0.676471  \n",
       "9         0.781250       0.704225  \n",
       "10        0.666667       0.545455  \n",
       "11        0.666667       0.545455  \n",
       "12        0.846154       0.676923  "
      ]
     },
     "execution_count": 169,
     "metadata": {},
     "output_type": "execute_result"
    }
   ],
   "source": [
    "scores = get_metrics(y_train,y_pred_train,y_val,y_pred_val,\"XGBoost\",scores)\n",
    "scores"
   ]
  }
 ],
 "metadata": {
  "kernelspec": {
   "display_name": "Python 3",
   "language": "python",
   "name": "python3"
  },
  "language_info": {
   "codemirror_mode": {
    "name": "ipython",
    "version": 3
   },
   "file_extension": ".py",
   "mimetype": "text/x-python",
   "name": "python",
   "nbconvert_exporter": "python",
   "pygments_lexer": "ipython3",
   "version": "3.7.6"
  }
 },
 "nbformat": 4,
 "nbformat_minor": 4
}
